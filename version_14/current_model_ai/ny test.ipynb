{
 "cells": [
  {
   "cell_type": "code",
   "execution_count": 3,
   "id": "fb63aa61",
   "metadata": {},
   "outputs": [],
   "source": [
    "import xml.etree.ElementTree as ET\n",
    "from ultralytics import YOLO\n",
    "from pathlib import Path\n",
    "import random\n",
    "import shutil\n",
    "import cv2\n",
    "import os"
   ]
  },
  {
   "cell_type": "code",
   "execution_count": null,
   "id": "0ba32b03",
   "metadata": {},
   "outputs": [
    {
     "name": "stdout",
     "output_type": "stream",
     "text": [
      "✅ Data split and saved successfully. Labels with 'P' are completely removed.\n"
     ]
    }
   ],
   "source": [
    "# Paths\n",
    "xml_file = '/home/student/Desktop/current_model_ai/annotations.xml'  # Change this to your XML file path\n",
    "images_folder = '/home/student/Desktop/current_model_ai/ImagesTotal'  # Change this to your images folder path\n",
    "output_folder = '/home/student/Desktop/current_model_ai'  # Change this to your desired output folder\n",
    "\n",
    "# Create output directories and clear existing labels\n",
    "for subset in ['train', 'val', 'test']:\n",
    "    images_path = os.path.join(output_folder, subset, 'images')\n",
    "    labels_path = os.path.join(output_folder, subset, 'labels')\n",
    "\n",
    "    os.makedirs(images_path, exist_ok=True)\n",
    "    os.makedirs(labels_path, exist_ok=True)\n",
    "\n",
    "    # Clear any existing labels\n",
    "    for file in os.listdir(labels_path):\n",
    "        if file.endswith(\".txt\"):\n",
    "            os.remove(os.path.join(labels_path, file))\n",
    "\n",
    "# Parse the XML file\n",
    "tree = ET.parse(xml_file)\n",
    "root = tree.getroot()\n",
    "\n",
    "images_data = []\n",
    "\n",
    "for image in root.findall('image'):\n",
    "    img_name = image.get('name')\n",
    "    image_width = int(image.get('width'))\n",
    "    image_height = int(image.get('height'))\n",
    "    annotations = []\n",
    "\n",
    "    for box in image.findall('box'):\n",
    "        label = box.get('label')\n",
    "        if label == 'V':  # Only include label 'V'\n",
    "            cls = 0  # 0 for V\n",
    "            xtl = float(box.get('xtl')) / image_width\n",
    "            ytl = float(box.get('ytl')) / image_height\n",
    "            xbr = float(box.get('xbr')) / image_width\n",
    "            ybr = float(box.get('ybr')) / image_height\n",
    "\n",
    "            x_center = (xtl + xbr) / 2\n",
    "            y_center = (ytl + ybr) / 2\n",
    "            width = xbr - xtl\n",
    "            height = ybr - ytl\n",
    "\n",
    "            annotations.append(f'{cls} {x_center} {y_center} {width} {height}')\n",
    "\n",
    "    # Only add images with annotations (ignores empty annotations)\n",
    "    if annotations:\n",
    "        images_data.append((img_name, annotations))\n",
    "\n",
    "# Shuffle and split\n",
    "random.shuffle(images_data)\n",
    "num_images = len(images_data)\n",
    "train_split = int(0.7 * num_images)\n",
    "val_split = int(0.9 * num_images)\n",
    "\n",
    "train_data = images_data[:train_split]\n",
    "val_data = images_data[train_split:val_split]\n",
    "test_data = images_data[val_split:]\n",
    "\n",
    "# Function to save images and annotations\n",
    "def save_data(data, subset):\n",
    "    for img_name, annotations in data:\n",
    "        # Copy image\n",
    "        src_img = os.path.join(images_folder, img_name)\n",
    "        dst_img = os.path.join(output_folder, subset, 'images', img_name)\n",
    "        if os.path.exists(src_img):\n",
    "            shutil.copy(src_img, dst_img)\n",
    "\n",
    "        # Save annotation if not empty\n",
    "        label_file = os.path.join(output_folder, subset, 'labels', img_name.replace('.png', '.txt').replace('.jpg', '.txt'))\n",
    "        if annotations:\n",
    "            with open(label_file, 'w') as file:\n",
    "                for annotation in annotations:\n",
    "                    file.write(annotation + '\\n')\n",
    "\n",
    "# Save to each subset\n",
    "save_data(train_data, 'train')\n",
    "save_data(val_data, 'val')\n",
    "save_data(test_data, 'test')\n",
    "\n",
    "print(\"✅ Data split and saved successfully.\")"
   ]
  },
  {
   "cell_type": "code",
   "execution_count": 7,
   "id": "66a92125",
   "metadata": {},
   "outputs": [
    {
     "name": "stdout",
     "output_type": "stream",
     "text": [
      "New https://pypi.org/project/ultralytics/8.3.134 available 😃 Update with 'pip install -U ultralytics'\n",
      "Ultralytics 8.3.133 🚀 Python-3.10.16 torch-2.6.0+cu124 CUDA:0 (NVIDIA RTX 4000 Ada Generation, 20040MiB)\n",
      "\u001b[34m\u001b[1mengine/trainer: \u001b[0magnostic_nms=False, amp=True, augment=True, auto_augment=randaugment, batch=8, bgr=0.0, box=7.5, cache=False, cfg=None, classes=None, close_mosaic=10, cls=0.5, conf=None, copy_paste=0.0, copy_paste_mode=flip, cos_lr=False, cutmix=0.0, data=/home/student/Desktop/current_model_ai/data.yaml, degrees=10, deterministic=True, device=None, dfl=1.5, dnn=False, dropout=0.0, dynamic=False, embed=None, epochs=100, erasing=0.4, exist_ok=False, fliplr=0.5, flipud=0.1, format=torchscript, fraction=1.0, freeze=None, half=False, hsv_h=0.015, hsv_s=0.7, hsv_v=0.4, imgsz=640, int8=False, iou=0.7, keras=False, kobj=1.0, line_width=None, lr0=0.01, lrf=0.01, mask_ratio=4, max_det=300, mixup=0.0, mode=train, model=yolov8l.pt, momentum=0.937, mosaic=1.0, multi_scale=False, name=folds_retrain, nbs=64, nms=False, opset=None, optimize=False, optimizer=auto, overlap_mask=True, patience=100, perspective=0.0005, plots=True, pose=12.0, pretrained=True, profile=False, project=/home/student/Desktop/current_model_ai/folder_train, rect=False, resume=False, retina_masks=False, save=True, save_conf=False, save_crop=False, save_dir=/home/student/Desktop/current_model_ai/folder_train/folds_retrain, save_frames=False, save_json=False, save_period=-1, save_txt=False, scale=0.5, seed=0, shear=10, show=False, show_boxes=True, show_conf=True, show_labels=True, simplify=True, single_cls=False, source=None, split=val, stream_buffer=False, task=detect, time=None, tracker=botsort.yaml, translate=0.1, val=True, verbose=True, vid_stride=1, visualize=False, warmup_bias_lr=0.1, warmup_epochs=3.0, warmup_momentum=0.8, weight_decay=0.0005, workers=8, workspace=None\n",
      "Overriding model.yaml nc=80 with nc=1\n",
      "\n",
      "                   from  n    params  module                                       arguments                     \n",
      "  0                  -1  1      1856  ultralytics.nn.modules.conv.Conv             [3, 64, 3, 2]                 \n",
      "  1                  -1  1     73984  ultralytics.nn.modules.conv.Conv             [64, 128, 3, 2]               \n",
      "  2                  -1  3    279808  ultralytics.nn.modules.block.C2f             [128, 128, 3, True]           \n",
      "  3                  -1  1    295424  ultralytics.nn.modules.conv.Conv             [128, 256, 3, 2]              \n",
      "  4                  -1  6   2101248  ultralytics.nn.modules.block.C2f             [256, 256, 6, True]           \n",
      "  5                  -1  1   1180672  ultralytics.nn.modules.conv.Conv             [256, 512, 3, 2]              \n",
      "  6                  -1  6   8396800  ultralytics.nn.modules.block.C2f             [512, 512, 6, True]           \n",
      "  7                  -1  1   2360320  ultralytics.nn.modules.conv.Conv             [512, 512, 3, 2]              \n",
      "  8                  -1  3   4461568  ultralytics.nn.modules.block.C2f             [512, 512, 3, True]           \n",
      "  9                  -1  1    656896  ultralytics.nn.modules.block.SPPF            [512, 512, 5]                 \n",
      " 10                  -1  1         0  torch.nn.modules.upsampling.Upsample         [None, 2, 'nearest']          \n",
      " 11             [-1, 6]  1         0  ultralytics.nn.modules.conv.Concat           [1]                           \n",
      " 12                  -1  3   4723712  ultralytics.nn.modules.block.C2f             [1024, 512, 3]                \n",
      " 13                  -1  1         0  torch.nn.modules.upsampling.Upsample         [None, 2, 'nearest']          \n",
      " 14             [-1, 4]  1         0  ultralytics.nn.modules.conv.Concat           [1]                           \n",
      " 15                  -1  3   1247744  ultralytics.nn.modules.block.C2f             [768, 256, 3]                 \n",
      " 16                  -1  1    590336  ultralytics.nn.modules.conv.Conv             [256, 256, 3, 2]              \n",
      " 17            [-1, 12]  1         0  ultralytics.nn.modules.conv.Concat           [1]                           \n",
      " 18                  -1  3   4592640  ultralytics.nn.modules.block.C2f             [768, 512, 3]                 \n",
      " 19                  -1  1   2360320  ultralytics.nn.modules.conv.Conv             [512, 512, 3, 2]              \n",
      " 20             [-1, 9]  1         0  ultralytics.nn.modules.conv.Concat           [1]                           \n",
      " 21                  -1  3   4723712  ultralytics.nn.modules.block.C2f             [1024, 512, 3]                \n",
      " 22        [15, 18, 21]  1   5583571  ultralytics.nn.modules.head.Detect           [1, [256, 512, 512]]          \n",
      "Model summary: 209 layers, 43,630,611 parameters, 43,630,595 gradients, 165.4 GFLOPs\n",
      "\n",
      "Transferred 589/595 items from pretrained weights\n",
      "Freezing layer 'model.22.dfl.conv.weight'\n",
      "\u001b[34m\u001b[1mAMP: \u001b[0mrunning Automatic Mixed Precision (AMP) checks...\n",
      "\u001b[34m\u001b[1mAMP: \u001b[0mchecks passed ✅\n",
      "\u001b[34m\u001b[1mtrain: \u001b[0mFast image access ✅ (ping: 0.0±0.0 ms, read: 6592.2±959.3 MB/s, size: 328.9 KB)\n"
     ]
    },
    {
     "name": "stderr",
     "output_type": "stream",
     "text": [
      "\u001b[34m\u001b[1mtrain: \u001b[0mScanning /home/student/Desktop/current_model_ai/train/labels.cache... 1183 images, 485 backgrounds, 0 corrupt: 100%|██████████| 1668/1668 [00:00<?, ?it/s]"
     ]
    },
    {
     "name": "stdout",
     "output_type": "stream",
     "text": [
      "\u001b[34m\u001b[1malbumentations: \u001b[0mBlur(p=0.01, blur_limit=(3, 7)), MedianBlur(p=0.01, blur_limit=(3, 7)), ToGray(p=0.01, method='weighted_average', num_output_channels=3), CLAHE(p=0.01, clip_limit=(1.0, 4.0), tile_grid_size=(8, 8))\n"
     ]
    },
    {
     "name": "stderr",
     "output_type": "stream",
     "text": [
      "\n"
     ]
    },
    {
     "name": "stdout",
     "output_type": "stream",
     "text": [
      "\u001b[34m\u001b[1mval: \u001b[0mFast image access ✅ (ping: 0.0±0.0 ms, read: 2771.0±1661.3 MB/s, size: 339.8 KB)\n"
     ]
    },
    {
     "name": "stderr",
     "output_type": "stream",
     "text": [
      "\u001b[34m\u001b[1mval: \u001b[0mScanning /home/student/Desktop/current_model_ai/val/labels.cache... 338 images, 637 backgrounds, 0 corrupt: 100%|██████████| 975/975 [00:00<?, ?it/s]\n"
     ]
    },
    {
     "name": "stdout",
     "output_type": "stream",
     "text": [
      "Plotting labels to /home/student/Desktop/current_model_ai/folder_train/folds_retrain/labels.jpg... \n",
      "\u001b[34m\u001b[1moptimizer:\u001b[0m 'optimizer=auto' found, ignoring 'lr0=0.01' and 'momentum=0.937' and determining best 'optimizer', 'lr0' and 'momentum' automatically... \n",
      "\u001b[34m\u001b[1moptimizer:\u001b[0m AdamW(lr=0.002, momentum=0.9) with parameter groups 97 weight(decay=0.0), 104 weight(decay=0.0005), 103 bias(decay=0.0)\n",
      "Image sizes 640 train, 640 val\n",
      "Using 8 dataloader workers\n",
      "Logging results to \u001b[1m/home/student/Desktop/current_model_ai/folder_train/folds_retrain\u001b[0m\n",
      "Starting training for 100 epochs...\n",
      "\n",
      "      Epoch    GPU_mem   box_loss   cls_loss   dfl_loss  Instances       Size\n"
     ]
    },
    {
     "name": "stderr",
     "output_type": "stream",
     "text": [
      "      1/100       5.2G      2.429      3.063      2.032          7        640: 100%|██████████| 209/209 [00:38<00:00,  5.38it/s]\n",
      "                 Class     Images  Instances      Box(P          R      mAP50  mAP50-95): 100%|██████████| 61/61 [00:06<00:00,  9.51it/s]\n"
     ]
    },
    {
     "name": "stdout",
     "output_type": "stream",
     "text": [
      "                   all        975        484   7.86e-05     0.0475   4.14e-05   1.44e-05\n",
      "\n",
      "      Epoch    GPU_mem   box_loss   cls_loss   dfl_loss  Instances       Size\n"
     ]
    },
    {
     "name": "stderr",
     "output_type": "stream",
     "text": [
      "      2/100      6.33G      2.205      2.416      1.882         11        640: 100%|██████████| 209/209 [00:37<00:00,  5.55it/s]\n",
      "                 Class     Images  Instances      Box(P          R      mAP50  mAP50-95): 100%|██████████| 61/61 [00:06<00:00,  9.20it/s]\n"
     ]
    },
    {
     "name": "stdout",
     "output_type": "stream",
     "text": [
      "                   all        975        484   0.000721      0.362   0.000493   0.000259\n",
      "\n",
      "      Epoch    GPU_mem   box_loss   cls_loss   dfl_loss  Instances       Size\n"
     ]
    },
    {
     "name": "stderr",
     "output_type": "stream",
     "text": [
      "      3/100      6.33G      2.135      2.227      1.839          8        640: 100%|██████████| 209/209 [00:37<00:00,  5.57it/s]\n",
      "                 Class     Images  Instances      Box(P          R      mAP50  mAP50-95): 100%|██████████| 61/61 [00:06<00:00,  9.59it/s]\n"
     ]
    },
    {
     "name": "stdout",
     "output_type": "stream",
     "text": [
      "                   all        975        484      0.141      0.417      0.134     0.0529\n",
      "\n",
      "      Epoch    GPU_mem   box_loss   cls_loss   dfl_loss  Instances       Size\n"
     ]
    },
    {
     "name": "stderr",
     "output_type": "stream",
     "text": [
      "      4/100      6.33G      2.046      2.065      1.769          8        640: 100%|██████████| 209/209 [00:37<00:00,  5.64it/s]\n",
      "                 Class     Images  Instances      Box(P          R      mAP50  mAP50-95): 100%|██████████| 61/61 [00:06<00:00,  9.68it/s]"
     ]
    },
    {
     "name": "stdout",
     "output_type": "stream",
     "text": [
      "                   all        975        484      0.147      0.405      0.133     0.0484\n"
     ]
    },
    {
     "name": "stderr",
     "output_type": "stream",
     "text": [
      "\n"
     ]
    },
    {
     "name": "stdout",
     "output_type": "stream",
     "text": [
      "\n",
      "      Epoch    GPU_mem   box_loss   cls_loss   dfl_loss  Instances       Size\n"
     ]
    },
    {
     "name": "stderr",
     "output_type": "stream",
     "text": [
      "      5/100      6.37G      2.041      1.984      1.783         15        640: 100%|██████████| 209/209 [00:37<00:00,  5.63it/s]\n",
      "                 Class     Images  Instances      Box(P          R      mAP50  mAP50-95): 100%|██████████| 61/61 [00:06<00:00,  9.55it/s]"
     ]
    },
    {
     "name": "stdout",
     "output_type": "stream",
     "text": [
      "                   all        975        484      0.191       0.57      0.201     0.0811\n"
     ]
    },
    {
     "name": "stderr",
     "output_type": "stream",
     "text": [
      "\n"
     ]
    },
    {
     "name": "stdout",
     "output_type": "stream",
     "text": [
      "\n",
      "      Epoch    GPU_mem   box_loss   cls_loss   dfl_loss  Instances       Size\n"
     ]
    },
    {
     "name": "stderr",
     "output_type": "stream",
     "text": [
      "      6/100      6.41G      1.997      1.902      1.748         11        640: 100%|██████████| 209/209 [00:37<00:00,  5.60it/s]\n",
      "                 Class     Images  Instances      Box(P          R      mAP50  mAP50-95): 100%|██████████| 61/61 [00:06<00:00,  9.53it/s]"
     ]
    },
    {
     "name": "stdout",
     "output_type": "stream",
     "text": [
      "                   all        975        484      0.231      0.643      0.219     0.0729\n"
     ]
    },
    {
     "name": "stderr",
     "output_type": "stream",
     "text": [
      "\n"
     ]
    },
    {
     "name": "stdout",
     "output_type": "stream",
     "text": [
      "\n",
      "      Epoch    GPU_mem   box_loss   cls_loss   dfl_loss  Instances       Size\n"
     ]
    },
    {
     "name": "stderr",
     "output_type": "stream",
     "text": [
      "      7/100      6.41G      1.963      1.863      1.721          9        640: 100%|██████████| 209/209 [00:37<00:00,  5.60it/s]\n",
      "                 Class     Images  Instances      Box(P          R      mAP50  mAP50-95): 100%|██████████| 61/61 [00:06<00:00,  9.68it/s]\n"
     ]
    },
    {
     "name": "stdout",
     "output_type": "stream",
     "text": [
      "                   all        975        484      0.108        0.3     0.0601     0.0136\n",
      "\n",
      "      Epoch    GPU_mem   box_loss   cls_loss   dfl_loss  Instances       Size\n"
     ]
    },
    {
     "name": "stderr",
     "output_type": "stream",
     "text": [
      "      8/100      6.41G      1.957      1.798      1.723          4        640: 100%|██████████| 209/209 [00:36<00:00,  5.75it/s]\n",
      "                 Class     Images  Instances      Box(P          R      mAP50  mAP50-95): 100%|██████████| 61/61 [00:06<00:00,  9.60it/s]"
     ]
    },
    {
     "name": "stdout",
     "output_type": "stream",
     "text": [
      "                   all        975        484       0.25      0.583      0.247     0.0949\n"
     ]
    },
    {
     "name": "stderr",
     "output_type": "stream",
     "text": [
      "\n"
     ]
    },
    {
     "name": "stdout",
     "output_type": "stream",
     "text": [
      "\n",
      "      Epoch    GPU_mem   box_loss   cls_loss   dfl_loss  Instances       Size\n"
     ]
    },
    {
     "name": "stderr",
     "output_type": "stream",
     "text": [
      "      9/100      6.42G      1.973       1.75       1.72         13        640: 100%|██████████| 209/209 [00:37<00:00,  5.62it/s]\n",
      "                 Class     Images  Instances      Box(P          R      mAP50  mAP50-95): 100%|██████████| 61/61 [00:06<00:00,  9.56it/s]"
     ]
    },
    {
     "name": "stdout",
     "output_type": "stream",
     "text": [
      "                   all        975        484      0.275      0.725      0.279      0.112\n"
     ]
    },
    {
     "name": "stderr",
     "output_type": "stream",
     "text": [
      "\n"
     ]
    },
    {
     "name": "stdout",
     "output_type": "stream",
     "text": [
      "\n",
      "      Epoch    GPU_mem   box_loss   cls_loss   dfl_loss  Instances       Size\n"
     ]
    },
    {
     "name": "stderr",
     "output_type": "stream",
     "text": [
      "     10/100      6.46G      1.915      1.691      1.659         11        640: 100%|██████████| 209/209 [00:37<00:00,  5.62it/s]\n",
      "                 Class     Images  Instances      Box(P          R      mAP50  mAP50-95): 100%|██████████| 61/61 [00:06<00:00,  9.67it/s]\n"
     ]
    },
    {
     "name": "stdout",
     "output_type": "stream",
     "text": [
      "                   all        975        484      0.287      0.778      0.295       0.12\n",
      "\n",
      "      Epoch    GPU_mem   box_loss   cls_loss   dfl_loss  Instances       Size\n"
     ]
    },
    {
     "name": "stderr",
     "output_type": "stream",
     "text": [
      "     11/100      6.78G      1.921      1.667      1.659          7        640: 100%|██████████| 209/209 [00:37<00:00,  5.64it/s]\n",
      "                 Class     Images  Instances      Box(P          R      mAP50  mAP50-95): 100%|██████████| 61/61 [00:06<00:00,  9.66it/s]"
     ]
    },
    {
     "name": "stdout",
     "output_type": "stream",
     "text": [
      "                   all        975        484      0.269      0.783      0.278      0.108\n"
     ]
    },
    {
     "name": "stderr",
     "output_type": "stream",
     "text": [
      "\n"
     ]
    },
    {
     "name": "stdout",
     "output_type": "stream",
     "text": [
      "\n",
      "      Epoch    GPU_mem   box_loss   cls_loss   dfl_loss  Instances       Size\n"
     ]
    },
    {
     "name": "stderr",
     "output_type": "stream",
     "text": [
      "     12/100      6.78G      1.915      1.684      1.661         12        640: 100%|██████████| 209/209 [00:37<00:00,  5.61it/s]\n",
      "                 Class     Images  Instances      Box(P          R      mAP50  mAP50-95): 100%|██████████| 61/61 [00:06<00:00,  9.60it/s]"
     ]
    },
    {
     "name": "stdout",
     "output_type": "stream",
     "text": [
      "                   all        975        484      0.182      0.744      0.232     0.0935\n"
     ]
    },
    {
     "name": "stderr",
     "output_type": "stream",
     "text": [
      "\n"
     ]
    },
    {
     "name": "stdout",
     "output_type": "stream",
     "text": [
      "\n",
      "      Epoch    GPU_mem   box_loss   cls_loss   dfl_loss  Instances       Size\n"
     ]
    },
    {
     "name": "stderr",
     "output_type": "stream",
     "text": [
      "     13/100      6.78G      1.875      1.609       1.66          5        640: 100%|██████████| 209/209 [00:37<00:00,  5.59it/s]\n",
      "                 Class     Images  Instances      Box(P          R      mAP50  mAP50-95): 100%|██████████| 61/61 [00:06<00:00,  9.53it/s]"
     ]
    },
    {
     "name": "stdout",
     "output_type": "stream",
     "text": [
      "                   all        975        484      0.224      0.798      0.255     0.0912\n"
     ]
    },
    {
     "name": "stderr",
     "output_type": "stream",
     "text": [
      "\n"
     ]
    },
    {
     "name": "stdout",
     "output_type": "stream",
     "text": [
      "\n",
      "      Epoch    GPU_mem   box_loss   cls_loss   dfl_loss  Instances       Size\n"
     ]
    },
    {
     "name": "stderr",
     "output_type": "stream",
     "text": [
      "     14/100      6.78G      1.908      1.641      1.657          9        640: 100%|██████████| 209/209 [00:37<00:00,  5.62it/s]\n",
      "                 Class     Images  Instances      Box(P          R      mAP50  mAP50-95): 100%|██████████| 61/61 [00:06<00:00,  9.59it/s]"
     ]
    },
    {
     "name": "stdout",
     "output_type": "stream",
     "text": [
      "                   all        975        484      0.288      0.711      0.293      0.118\n"
     ]
    },
    {
     "name": "stderr",
     "output_type": "stream",
     "text": [
      "\n"
     ]
    },
    {
     "name": "stdout",
     "output_type": "stream",
     "text": [
      "\n",
      "      Epoch    GPU_mem   box_loss   cls_loss   dfl_loss  Instances       Size\n"
     ]
    },
    {
     "name": "stderr",
     "output_type": "stream",
     "text": [
      "     15/100      6.78G      1.893      1.606       1.65          8        640: 100%|██████████| 209/209 [00:35<00:00,  5.82it/s]\n",
      "                 Class     Images  Instances      Box(P          R      mAP50  mAP50-95): 100%|██████████| 61/61 [00:05<00:00, 10.45it/s]"
     ]
    },
    {
     "name": "stdout",
     "output_type": "stream",
     "text": [
      "                   all        975        484      0.259      0.696      0.237     0.0806\n"
     ]
    },
    {
     "name": "stderr",
     "output_type": "stream",
     "text": [
      "\n"
     ]
    },
    {
     "name": "stdout",
     "output_type": "stream",
     "text": [
      "\n",
      "      Epoch    GPU_mem   box_loss   cls_loss   dfl_loss  Instances       Size\n"
     ]
    },
    {
     "name": "stderr",
     "output_type": "stream",
     "text": [
      "     16/100      6.78G      1.899      1.584      1.655         10        640: 100%|██████████| 209/209 [00:34<00:00,  6.04it/s]\n",
      "                 Class     Images  Instances      Box(P          R      mAP50  mAP50-95): 100%|██████████| 61/61 [00:05<00:00, 10.43it/s]"
     ]
    },
    {
     "name": "stdout",
     "output_type": "stream",
     "text": [
      "                   all        975        484        0.3      0.713      0.299      0.124\n"
     ]
    },
    {
     "name": "stderr",
     "output_type": "stream",
     "text": [
      "\n"
     ]
    },
    {
     "name": "stdout",
     "output_type": "stream",
     "text": [
      "\n",
      "      Epoch    GPU_mem   box_loss   cls_loss   dfl_loss  Instances       Size\n"
     ]
    },
    {
     "name": "stderr",
     "output_type": "stream",
     "text": [
      "     17/100      6.78G      1.854      1.545       1.63          6        640: 100%|██████████| 209/209 [00:34<00:00,  6.00it/s]\n",
      "                 Class     Images  Instances      Box(P          R      mAP50  mAP50-95): 100%|██████████| 61/61 [00:05<00:00, 10.39it/s]"
     ]
    },
    {
     "name": "stdout",
     "output_type": "stream",
     "text": [
      "                   all        975        484      0.271      0.764      0.269     0.0957\n"
     ]
    },
    {
     "name": "stderr",
     "output_type": "stream",
     "text": [
      "\n"
     ]
    },
    {
     "name": "stdout",
     "output_type": "stream",
     "text": [
      "\n",
      "      Epoch    GPU_mem   box_loss   cls_loss   dfl_loss  Instances       Size\n"
     ]
    },
    {
     "name": "stderr",
     "output_type": "stream",
     "text": [
      "     18/100      6.78G      1.861      1.518      1.626         18        640: 100%|██████████| 209/209 [00:34<00:00,  6.00it/s]\n",
      "                 Class     Images  Instances      Box(P          R      mAP50  mAP50-95): 100%|██████████| 61/61 [00:06<00:00,  9.96it/s]\n"
     ]
    },
    {
     "name": "stdout",
     "output_type": "stream",
     "text": [
      "                   all        975        484      0.288      0.789       0.29      0.121\n",
      "\n",
      "      Epoch    GPU_mem   box_loss   cls_loss   dfl_loss  Instances       Size\n"
     ]
    },
    {
     "name": "stderr",
     "output_type": "stream",
     "text": [
      "     19/100      6.78G      1.892      1.579      1.665          3        640: 100%|██████████| 209/209 [00:36<00:00,  5.66it/s]\n",
      "                 Class     Images  Instances      Box(P          R      mAP50  mAP50-95): 100%|██████████| 61/61 [00:06<00:00,  9.62it/s]"
     ]
    },
    {
     "name": "stdout",
     "output_type": "stream",
     "text": [
      "                   all        975        484       0.26      0.818      0.285      0.117\n"
     ]
    },
    {
     "name": "stderr",
     "output_type": "stream",
     "text": [
      "\n"
     ]
    },
    {
     "name": "stdout",
     "output_type": "stream",
     "text": [
      "\n",
      "      Epoch    GPU_mem   box_loss   cls_loss   dfl_loss  Instances       Size\n"
     ]
    },
    {
     "name": "stderr",
     "output_type": "stream",
     "text": [
      "     20/100      6.78G      1.876      1.541       1.64          7        640: 100%|██████████| 209/209 [00:37<00:00,  5.64it/s]\n",
      "                 Class     Images  Instances      Box(P          R      mAP50  mAP50-95): 100%|██████████| 61/61 [00:06<00:00,  9.64it/s]"
     ]
    },
    {
     "name": "stdout",
     "output_type": "stream",
     "text": [
      "                   all        975        484      0.269      0.686      0.262     0.0981\n"
     ]
    },
    {
     "name": "stderr",
     "output_type": "stream",
     "text": [
      "\n"
     ]
    },
    {
     "name": "stdout",
     "output_type": "stream",
     "text": [
      "\n",
      "      Epoch    GPU_mem   box_loss   cls_loss   dfl_loss  Instances       Size\n"
     ]
    },
    {
     "name": "stderr",
     "output_type": "stream",
     "text": [
      "     21/100      6.78G      1.858      1.547      1.631          6        640: 100%|██████████| 209/209 [00:36<00:00,  5.66it/s]\n",
      "                 Class     Images  Instances      Box(P          R      mAP50  mAP50-95): 100%|██████████| 61/61 [00:06<00:00,  9.65it/s]"
     ]
    },
    {
     "name": "stdout",
     "output_type": "stream",
     "text": [
      "                   all        975        484        0.3      0.806      0.302       0.12\n"
     ]
    },
    {
     "name": "stderr",
     "output_type": "stream",
     "text": [
      "\n"
     ]
    },
    {
     "name": "stdout",
     "output_type": "stream",
     "text": [
      "\n",
      "      Epoch    GPU_mem   box_loss   cls_loss   dfl_loss  Instances       Size\n"
     ]
    },
    {
     "name": "stderr",
     "output_type": "stream",
     "text": [
      "     22/100      6.78G      1.878       1.52      1.623          3        640: 100%|██████████| 209/209 [00:37<00:00,  5.63it/s]\n",
      "                 Class     Images  Instances      Box(P          R      mAP50  mAP50-95): 100%|██████████| 61/61 [00:06<00:00,  9.58it/s]\n"
     ]
    },
    {
     "name": "stdout",
     "output_type": "stream",
     "text": [
      "                   all        975        484       0.26      0.738      0.265      0.104\n",
      "\n",
      "      Epoch    GPU_mem   box_loss   cls_loss   dfl_loss  Instances       Size\n"
     ]
    },
    {
     "name": "stderr",
     "output_type": "stream",
     "text": [
      "     23/100      6.78G      1.862      1.552      1.634          8        640: 100%|██████████| 209/209 [00:37<00:00,  5.61it/s]\n",
      "                 Class     Images  Instances      Box(P          R      mAP50  mAP50-95): 100%|██████████| 61/61 [00:06<00:00,  9.59it/s]"
     ]
    },
    {
     "name": "stdout",
     "output_type": "stream",
     "text": [
      "                   all        975        484       0.26      0.688      0.265      0.109\n"
     ]
    },
    {
     "name": "stderr",
     "output_type": "stream",
     "text": [
      "\n"
     ]
    },
    {
     "name": "stdout",
     "output_type": "stream",
     "text": [
      "\n",
      "      Epoch    GPU_mem   box_loss   cls_loss   dfl_loss  Instances       Size\n"
     ]
    },
    {
     "name": "stderr",
     "output_type": "stream",
     "text": [
      "     24/100      6.78G      1.843      1.535      1.595          6        640: 100%|██████████| 209/209 [00:37<00:00,  5.63it/s]\n",
      "                 Class     Images  Instances      Box(P          R      mAP50  mAP50-95): 100%|██████████| 61/61 [00:06<00:00,  9.66it/s]\n"
     ]
    },
    {
     "name": "stdout",
     "output_type": "stream",
     "text": [
      "                   all        975        484      0.241      0.682      0.236     0.0799\n",
      "\n",
      "      Epoch    GPU_mem   box_loss   cls_loss   dfl_loss  Instances       Size\n"
     ]
    },
    {
     "name": "stderr",
     "output_type": "stream",
     "text": [
      "     25/100      6.78G      1.841      1.498      1.593          7        640: 100%|██████████| 209/209 [00:37<00:00,  5.64it/s]\n",
      "                 Class     Images  Instances      Box(P          R      mAP50  mAP50-95): 100%|██████████| 61/61 [00:06<00:00,  9.56it/s]"
     ]
    },
    {
     "name": "stdout",
     "output_type": "stream",
     "text": [
      "                   all        975        484      0.278      0.733      0.281      0.104\n"
     ]
    },
    {
     "name": "stderr",
     "output_type": "stream",
     "text": [
      "\n"
     ]
    },
    {
     "name": "stdout",
     "output_type": "stream",
     "text": [
      "\n",
      "      Epoch    GPU_mem   box_loss   cls_loss   dfl_loss  Instances       Size\n"
     ]
    },
    {
     "name": "stderr",
     "output_type": "stream",
     "text": [
      "     26/100      6.78G      1.837      1.502      1.613          5        640: 100%|██████████| 209/209 [00:34<00:00,  6.04it/s]\n",
      "                 Class     Images  Instances      Box(P          R      mAP50  mAP50-95): 100%|██████████| 61/61 [00:05<00:00, 10.45it/s]"
     ]
    },
    {
     "name": "stdout",
     "output_type": "stream",
     "text": [
      "                   all        975        484      0.296       0.81        0.3      0.127\n"
     ]
    },
    {
     "name": "stderr",
     "output_type": "stream",
     "text": [
      "\n"
     ]
    },
    {
     "name": "stdout",
     "output_type": "stream",
     "text": [
      "\n",
      "      Epoch    GPU_mem   box_loss   cls_loss   dfl_loss  Instances       Size\n"
     ]
    },
    {
     "name": "stderr",
     "output_type": "stream",
     "text": [
      "     27/100      6.78G      1.796      1.463      1.583          7        640: 100%|██████████| 209/209 [00:34<00:00,  6.04it/s]\n",
      "                 Class     Images  Instances      Box(P          R      mAP50  mAP50-95): 100%|██████████| 61/61 [00:05<00:00, 10.45it/s]"
     ]
    },
    {
     "name": "stdout",
     "output_type": "stream",
     "text": [
      "                   all        975        484      0.296      0.791      0.298      0.124\n"
     ]
    },
    {
     "name": "stderr",
     "output_type": "stream",
     "text": [
      "\n"
     ]
    },
    {
     "name": "stdout",
     "output_type": "stream",
     "text": [
      "\n",
      "      Epoch    GPU_mem   box_loss   cls_loss   dfl_loss  Instances       Size\n"
     ]
    },
    {
     "name": "stderr",
     "output_type": "stream",
     "text": [
      "     28/100      6.78G      1.839      1.507      1.604          4        640: 100%|██████████| 209/209 [00:35<00:00,  5.84it/s]\n",
      "                 Class     Images  Instances      Box(P          R      mAP50  mAP50-95): 100%|██████████| 61/61 [00:06<00:00,  9.58it/s]"
     ]
    },
    {
     "name": "stdout",
     "output_type": "stream",
     "text": [
      "                   all        975        484      0.293      0.862      0.307       0.13\n"
     ]
    },
    {
     "name": "stderr",
     "output_type": "stream",
     "text": [
      "\n"
     ]
    },
    {
     "name": "stdout",
     "output_type": "stream",
     "text": [
      "\n",
      "      Epoch    GPU_mem   box_loss   cls_loss   dfl_loss  Instances       Size\n"
     ]
    },
    {
     "name": "stderr",
     "output_type": "stream",
     "text": [
      "     29/100      6.78G      1.863      1.525      1.624         11        640: 100%|██████████| 209/209 [00:36<00:00,  5.66it/s]\n",
      "                 Class     Images  Instances      Box(P          R      mAP50  mAP50-95): 100%|██████████| 61/61 [00:06<00:00,  9.75it/s]"
     ]
    },
    {
     "name": "stdout",
     "output_type": "stream",
     "text": [
      "                   all        975        484      0.293      0.841      0.298      0.129\n"
     ]
    },
    {
     "name": "stderr",
     "output_type": "stream",
     "text": [
      "\n"
     ]
    },
    {
     "name": "stdout",
     "output_type": "stream",
     "text": [
      "\n",
      "      Epoch    GPU_mem   box_loss   cls_loss   dfl_loss  Instances       Size\n"
     ]
    },
    {
     "name": "stderr",
     "output_type": "stream",
     "text": [
      "     30/100      6.78G      1.841      1.472      1.628          9        640: 100%|██████████| 209/209 [00:36<00:00,  5.71it/s]\n",
      "                 Class     Images  Instances      Box(P          R      mAP50  mAP50-95): 100%|██████████| 61/61 [00:06<00:00,  9.77it/s]\n"
     ]
    },
    {
     "name": "stdout",
     "output_type": "stream",
     "text": [
      "                   all        975        484      0.219      0.579      0.193     0.0584\n",
      "\n",
      "      Epoch    GPU_mem   box_loss   cls_loss   dfl_loss  Instances       Size\n"
     ]
    },
    {
     "name": "stderr",
     "output_type": "stream",
     "text": [
      "     31/100      6.78G      1.834      1.518      1.632          9        640: 100%|██████████| 209/209 [00:36<00:00,  5.71it/s]\n",
      "                 Class     Images  Instances      Box(P          R      mAP50  mAP50-95): 100%|██████████| 61/61 [00:06<00:00,  9.67it/s]"
     ]
    },
    {
     "name": "stdout",
     "output_type": "stream",
     "text": [
      "                   all        975        484      0.311      0.793      0.302      0.126\n"
     ]
    },
    {
     "name": "stderr",
     "output_type": "stream",
     "text": [
      "\n"
     ]
    },
    {
     "name": "stdout",
     "output_type": "stream",
     "text": [
      "\n",
      "      Epoch    GPU_mem   box_loss   cls_loss   dfl_loss  Instances       Size\n"
     ]
    },
    {
     "name": "stderr",
     "output_type": "stream",
     "text": [
      "     32/100      6.78G      1.849      1.466      1.605         11        640: 100%|██████████| 209/209 [00:36<00:00,  5.69it/s]\n",
      "                 Class     Images  Instances      Box(P          R      mAP50  mAP50-95): 100%|██████████| 61/61 [00:06<00:00,  9.65it/s]\n"
     ]
    },
    {
     "name": "stdout",
     "output_type": "stream",
     "text": [
      "                   all        975        484      0.294      0.814        0.3      0.128\n",
      "\n",
      "      Epoch    GPU_mem   box_loss   cls_loss   dfl_loss  Instances       Size\n"
     ]
    },
    {
     "name": "stderr",
     "output_type": "stream",
     "text": [
      "     33/100      6.78G      1.835      1.423      1.607          8        640: 100%|██████████| 209/209 [00:36<00:00,  5.68it/s]\n",
      "                 Class     Images  Instances      Box(P          R      mAP50  mAP50-95): 100%|██████████| 61/61 [00:06<00:00,  9.70it/s]\n"
     ]
    },
    {
     "name": "stdout",
     "output_type": "stream",
     "text": [
      "                   all        975        484      0.185      0.519      0.161     0.0497\n",
      "\n",
      "      Epoch    GPU_mem   box_loss   cls_loss   dfl_loss  Instances       Size\n"
     ]
    },
    {
     "name": "stderr",
     "output_type": "stream",
     "text": [
      "     34/100      6.78G      1.811      1.423      1.613         10        640: 100%|██████████| 209/209 [00:36<00:00,  5.72it/s]\n",
      "                 Class     Images  Instances      Box(P          R      mAP50  mAP50-95): 100%|██████████| 61/61 [00:06<00:00,  9.79it/s]\n"
     ]
    },
    {
     "name": "stdout",
     "output_type": "stream",
     "text": [
      "                   all        975        484      0.279      0.765      0.276      0.112\n",
      "\n",
      "      Epoch    GPU_mem   box_loss   cls_loss   dfl_loss  Instances       Size\n"
     ]
    },
    {
     "name": "stderr",
     "output_type": "stream",
     "text": [
      "     35/100      6.78G      1.789      1.428      1.592          4        640: 100%|██████████| 209/209 [00:36<00:00,  5.70it/s]\n",
      "                 Class     Images  Instances      Box(P          R      mAP50  mAP50-95): 100%|██████████| 61/61 [00:05<00:00, 10.25it/s]"
     ]
    },
    {
     "name": "stdout",
     "output_type": "stream",
     "text": [
      "                   all        975        484      0.284      0.833      0.279      0.106\n"
     ]
    },
    {
     "name": "stderr",
     "output_type": "stream",
     "text": [
      "\n"
     ]
    },
    {
     "name": "stdout",
     "output_type": "stream",
     "text": [
      "\n",
      "      Epoch    GPU_mem   box_loss   cls_loss   dfl_loss  Instances       Size\n"
     ]
    },
    {
     "name": "stderr",
     "output_type": "stream",
     "text": [
      "     36/100      6.78G      1.812      1.377      1.594          6        640: 100%|██████████| 209/209 [00:35<00:00,  5.86it/s]\n",
      "                 Class     Images  Instances      Box(P          R      mAP50  mAP50-95): 100%|██████████| 61/61 [00:05<00:00, 10.45it/s]"
     ]
    },
    {
     "name": "stdout",
     "output_type": "stream",
     "text": [
      "                   all        975        484      0.279      0.777      0.276      0.105\n"
     ]
    },
    {
     "name": "stderr",
     "output_type": "stream",
     "text": [
      "\n"
     ]
    },
    {
     "name": "stdout",
     "output_type": "stream",
     "text": [
      "\n",
      "      Epoch    GPU_mem   box_loss   cls_loss   dfl_loss  Instances       Size\n"
     ]
    },
    {
     "name": "stderr",
     "output_type": "stream",
     "text": [
      "     37/100      6.78G      1.836      1.433       1.61          4        640: 100%|██████████| 209/209 [00:34<00:00,  6.05it/s]\n",
      "                 Class     Images  Instances      Box(P          R      mAP50  mAP50-95): 100%|██████████| 61/61 [00:05<00:00, 10.45it/s]"
     ]
    },
    {
     "name": "stdout",
     "output_type": "stream",
     "text": [
      "                   all        975        484      0.286      0.808      0.285      0.119\n"
     ]
    },
    {
     "name": "stderr",
     "output_type": "stream",
     "text": [
      "\n"
     ]
    },
    {
     "name": "stdout",
     "output_type": "stream",
     "text": [
      "\n",
      "      Epoch    GPU_mem   box_loss   cls_loss   dfl_loss  Instances       Size\n"
     ]
    },
    {
     "name": "stderr",
     "output_type": "stream",
     "text": [
      "     38/100      6.78G      1.805      1.439      1.592          2        640: 100%|██████████| 209/209 [00:34<00:00,  6.05it/s]\n",
      "                 Class     Images  Instances      Box(P          R      mAP50  mAP50-95): 100%|██████████| 61/61 [00:05<00:00, 10.41it/s]"
     ]
    },
    {
     "name": "stdout",
     "output_type": "stream",
     "text": [
      "                   all        975        484      0.272       0.74      0.261     0.0994\n"
     ]
    },
    {
     "name": "stderr",
     "output_type": "stream",
     "text": [
      "\n"
     ]
    },
    {
     "name": "stdout",
     "output_type": "stream",
     "text": [
      "\n",
      "      Epoch    GPU_mem   box_loss   cls_loss   dfl_loss  Instances       Size\n"
     ]
    },
    {
     "name": "stderr",
     "output_type": "stream",
     "text": [
      "     39/100      6.78G      1.811      1.428       1.61          7        640: 100%|██████████| 209/209 [00:34<00:00,  6.01it/s]\n",
      "                 Class     Images  Instances      Box(P          R      mAP50  mAP50-95): 100%|██████████| 61/61 [00:06<00:00, 10.06it/s]"
     ]
    },
    {
     "name": "stdout",
     "output_type": "stream",
     "text": [
      "                   all        975        484       0.28      0.746      0.268     0.0994\n"
     ]
    },
    {
     "name": "stderr",
     "output_type": "stream",
     "text": [
      "\n"
     ]
    },
    {
     "name": "stdout",
     "output_type": "stream",
     "text": [
      "\n",
      "      Epoch    GPU_mem   box_loss   cls_loss   dfl_loss  Instances       Size\n"
     ]
    },
    {
     "name": "stderr",
     "output_type": "stream",
     "text": [
      "     40/100      6.78G       1.81      1.359      1.581          7        640: 100%|██████████| 209/209 [00:37<00:00,  5.64it/s]\n",
      "                 Class     Images  Instances      Box(P          R      mAP50  mAP50-95): 100%|██████████| 61/61 [00:06<00:00,  9.60it/s]\n"
     ]
    },
    {
     "name": "stdout",
     "output_type": "stream",
     "text": [
      "                   all        975        484      0.311      0.857      0.319      0.136\n",
      "\n",
      "      Epoch    GPU_mem   box_loss   cls_loss   dfl_loss  Instances       Size\n"
     ]
    },
    {
     "name": "stderr",
     "output_type": "stream",
     "text": [
      "     41/100      6.78G      1.815      1.401      1.581          6        640: 100%|██████████| 209/209 [00:37<00:00,  5.64it/s]\n",
      "                 Class     Images  Instances      Box(P          R      mAP50  mAP50-95): 100%|██████████| 61/61 [00:06<00:00,  9.56it/s]\n"
     ]
    },
    {
     "name": "stdout",
     "output_type": "stream",
     "text": [
      "                   all        975        484      0.297       0.81      0.294      0.112\n",
      "\n",
      "      Epoch    GPU_mem   box_loss   cls_loss   dfl_loss  Instances       Size\n"
     ]
    },
    {
     "name": "stderr",
     "output_type": "stream",
     "text": [
      "     42/100      6.78G        1.8      1.352      1.585          3        640: 100%|██████████| 209/209 [00:36<00:00,  5.65it/s]\n",
      "                 Class     Images  Instances      Box(P          R      mAP50  mAP50-95): 100%|██████████| 61/61 [00:06<00:00,  9.63it/s]\n"
     ]
    },
    {
     "name": "stdout",
     "output_type": "stream",
     "text": [
      "                   all        975        484      0.301       0.81       0.31      0.132\n",
      "\n",
      "      Epoch    GPU_mem   box_loss   cls_loss   dfl_loss  Instances       Size\n"
     ]
    },
    {
     "name": "stderr",
     "output_type": "stream",
     "text": [
      "     43/100      6.78G      1.806      1.355      1.593          4        640: 100%|██████████| 209/209 [00:36<00:00,  5.66it/s]\n",
      "                 Class     Images  Instances      Box(P          R      mAP50  mAP50-95): 100%|██████████| 61/61 [00:06<00:00,  9.63it/s]\n"
     ]
    },
    {
     "name": "stdout",
     "output_type": "stream",
     "text": [
      "                   all        975        484      0.289      0.824      0.293      0.115\n",
      "\n",
      "      Epoch    GPU_mem   box_loss   cls_loss   dfl_loss  Instances       Size\n"
     ]
    },
    {
     "name": "stderr",
     "output_type": "stream",
     "text": [
      "     44/100      6.78G      1.787      1.373      1.582          9        640: 100%|██████████| 209/209 [00:37<00:00,  5.63it/s]\n",
      "                 Class     Images  Instances      Box(P          R      mAP50  mAP50-95): 100%|██████████| 61/61 [00:06<00:00,  9.63it/s]"
     ]
    },
    {
     "name": "stdout",
     "output_type": "stream",
     "text": [
      "                   all        975        484      0.271      0.719      0.299      0.106\n"
     ]
    },
    {
     "name": "stderr",
     "output_type": "stream",
     "text": [
      "\n"
     ]
    },
    {
     "name": "stdout",
     "output_type": "stream",
     "text": [
      "\n",
      "      Epoch    GPU_mem   box_loss   cls_loss   dfl_loss  Instances       Size\n"
     ]
    },
    {
     "name": "stderr",
     "output_type": "stream",
     "text": [
      "     45/100      6.78G      1.794      1.361      1.558         13        640: 100%|██████████| 209/209 [00:37<00:00,  5.60it/s]\n",
      "                 Class     Images  Instances      Box(P          R      mAP50  mAP50-95): 100%|██████████| 61/61 [00:06<00:00,  9.61it/s]"
     ]
    },
    {
     "name": "stdout",
     "output_type": "stream",
     "text": [
      "                   all        975        484      0.301      0.818      0.322      0.131\n"
     ]
    },
    {
     "name": "stderr",
     "output_type": "stream",
     "text": [
      "\n"
     ]
    },
    {
     "name": "stdout",
     "output_type": "stream",
     "text": [
      "\n",
      "      Epoch    GPU_mem   box_loss   cls_loss   dfl_loss  Instances       Size\n"
     ]
    },
    {
     "name": "stderr",
     "output_type": "stream",
     "text": [
      "     46/100      6.78G      1.794      1.381      1.575          6        640: 100%|██████████| 209/209 [00:37<00:00,  5.62it/s]\n",
      "                 Class     Images  Instances      Box(P          R      mAP50  mAP50-95): 100%|██████████| 61/61 [00:06<00:00,  9.56it/s]"
     ]
    },
    {
     "name": "stdout",
     "output_type": "stream",
     "text": [
      "                   all        975        484      0.306      0.849      0.315      0.136\n"
     ]
    },
    {
     "name": "stderr",
     "output_type": "stream",
     "text": [
      "\n"
     ]
    },
    {
     "name": "stdout",
     "output_type": "stream",
     "text": [
      "\n",
      "      Epoch    GPU_mem   box_loss   cls_loss   dfl_loss  Instances       Size\n"
     ]
    },
    {
     "name": "stderr",
     "output_type": "stream",
     "text": [
      "     47/100      6.78G      1.777      1.347      1.575          5        640: 100%|██████████| 209/209 [00:37<00:00,  5.65it/s]\n",
      "                 Class     Images  Instances      Box(P          R      mAP50  mAP50-95): 100%|██████████| 61/61 [00:06<00:00,  9.68it/s]"
     ]
    },
    {
     "name": "stdout",
     "output_type": "stream",
     "text": [
      "                   all        975        484      0.305      0.841       0.31      0.132\n"
     ]
    },
    {
     "name": "stderr",
     "output_type": "stream",
     "text": [
      "\n"
     ]
    },
    {
     "name": "stdout",
     "output_type": "stream",
     "text": [
      "\n",
      "      Epoch    GPU_mem   box_loss   cls_loss   dfl_loss  Instances       Size\n"
     ]
    },
    {
     "name": "stderr",
     "output_type": "stream",
     "text": [
      "     48/100      6.78G       1.79      1.381       1.56          8        640: 100%|██████████| 209/209 [00:36<00:00,  5.66it/s]\n",
      "                 Class     Images  Instances      Box(P          R      mAP50  mAP50-95): 100%|██████████| 61/61 [00:06<00:00,  9.65it/s]"
     ]
    },
    {
     "name": "stdout",
     "output_type": "stream",
     "text": [
      "                   all        975        484      0.295      0.845      0.307      0.119\n"
     ]
    },
    {
     "name": "stderr",
     "output_type": "stream",
     "text": [
      "\n"
     ]
    },
    {
     "name": "stdout",
     "output_type": "stream",
     "text": [
      "\n",
      "      Epoch    GPU_mem   box_loss   cls_loss   dfl_loss  Instances       Size\n"
     ]
    },
    {
     "name": "stderr",
     "output_type": "stream",
     "text": [
      "     49/100      6.78G      1.792      1.356      1.582          5        640: 100%|██████████| 209/209 [00:36<00:00,  5.66it/s]\n",
      "                 Class     Images  Instances      Box(P          R      mAP50  mAP50-95): 100%|██████████| 61/61 [00:06<00:00,  9.63it/s]"
     ]
    },
    {
     "name": "stdout",
     "output_type": "stream",
     "text": [
      "                   all        975        484      0.295      0.841      0.299      0.125\n"
     ]
    },
    {
     "name": "stderr",
     "output_type": "stream",
     "text": [
      "\n"
     ]
    },
    {
     "name": "stdout",
     "output_type": "stream",
     "text": [
      "\n",
      "      Epoch    GPU_mem   box_loss   cls_loss   dfl_loss  Instances       Size\n"
     ]
    },
    {
     "name": "stderr",
     "output_type": "stream",
     "text": [
      "     50/100      6.78G      1.798      1.328      1.581          6        640: 100%|██████████| 209/209 [00:36<00:00,  5.66it/s]\n",
      "                 Class     Images  Instances      Box(P          R      mAP50  mAP50-95): 100%|██████████| 61/61 [00:06<00:00,  9.63it/s]\n"
     ]
    },
    {
     "name": "stdout",
     "output_type": "stream",
     "text": [
      "                   all        975        484      0.286      0.812      0.286      0.107\n",
      "\n",
      "      Epoch    GPU_mem   box_loss   cls_loss   dfl_loss  Instances       Size\n"
     ]
    },
    {
     "name": "stderr",
     "output_type": "stream",
     "text": [
      "     51/100      6.78G      1.778      1.338      1.572          6        640: 100%|██████████| 209/209 [00:36<00:00,  5.69it/s]\n",
      "                 Class     Images  Instances      Box(P          R      mAP50  mAP50-95): 100%|██████████| 61/61 [00:06<00:00,  9.70it/s]"
     ]
    },
    {
     "name": "stdout",
     "output_type": "stream",
     "text": [
      "                   all        975        484      0.307      0.864       0.31      0.122\n"
     ]
    },
    {
     "name": "stderr",
     "output_type": "stream",
     "text": [
      "\n"
     ]
    },
    {
     "name": "stdout",
     "output_type": "stream",
     "text": [
      "\n",
      "      Epoch    GPU_mem   box_loss   cls_loss   dfl_loss  Instances       Size\n"
     ]
    },
    {
     "name": "stderr",
     "output_type": "stream",
     "text": [
      "     52/100      6.78G       1.79      1.303       1.59          7        640: 100%|██████████| 209/209 [00:36<00:00,  5.70it/s]\n",
      "                 Class     Images  Instances      Box(P          R      mAP50  mAP50-95): 100%|██████████| 61/61 [00:06<00:00,  9.74it/s]\n"
     ]
    },
    {
     "name": "stdout",
     "output_type": "stream",
     "text": [
      "                   all        975        484      0.302      0.824      0.304      0.117\n",
      "\n",
      "      Epoch    GPU_mem   box_loss   cls_loss   dfl_loss  Instances       Size\n"
     ]
    },
    {
     "name": "stderr",
     "output_type": "stream",
     "text": [
      "     53/100      6.78G      1.759      1.303      1.561          4        640: 100%|██████████| 209/209 [00:36<00:00,  5.70it/s]\n",
      "                 Class     Images  Instances      Box(P          R      mAP50  mAP50-95): 100%|██████████| 61/61 [00:06<00:00,  9.75it/s]"
     ]
    },
    {
     "name": "stdout",
     "output_type": "stream",
     "text": [
      "                   all        975        484      0.305      0.857      0.295       0.12\n"
     ]
    },
    {
     "name": "stderr",
     "output_type": "stream",
     "text": [
      "\n"
     ]
    },
    {
     "name": "stdout",
     "output_type": "stream",
     "text": [
      "\n",
      "      Epoch    GPU_mem   box_loss   cls_loss   dfl_loss  Instances       Size\n"
     ]
    },
    {
     "name": "stderr",
     "output_type": "stream",
     "text": [
      "     54/100      6.78G      1.766      1.348      1.584          8        640: 100%|██████████| 209/209 [00:36<00:00,  5.71it/s]\n",
      "                 Class     Images  Instances      Box(P          R      mAP50  mAP50-95): 100%|██████████| 61/61 [00:06<00:00,  9.77it/s]"
     ]
    },
    {
     "name": "stdout",
     "output_type": "stream",
     "text": [
      "                   all        975        484      0.301      0.841      0.303      0.125\n"
     ]
    },
    {
     "name": "stderr",
     "output_type": "stream",
     "text": [
      "\n"
     ]
    },
    {
     "name": "stdout",
     "output_type": "stream",
     "text": [
      "\n",
      "      Epoch    GPU_mem   box_loss   cls_loss   dfl_loss  Instances       Size\n"
     ]
    },
    {
     "name": "stderr",
     "output_type": "stream",
     "text": [
      "     55/100      6.78G      1.744      1.333      1.563          5        640: 100%|██████████| 209/209 [00:36<00:00,  5.70it/s]\n",
      "                 Class     Images  Instances      Box(P          R      mAP50  mAP50-95): 100%|██████████| 61/61 [00:06<00:00,  9.77it/s]\n"
     ]
    },
    {
     "name": "stdout",
     "output_type": "stream",
     "text": [
      "                   all        975        484      0.301      0.833      0.317      0.129\n",
      "\n",
      "      Epoch    GPU_mem   box_loss   cls_loss   dfl_loss  Instances       Size\n"
     ]
    },
    {
     "name": "stderr",
     "output_type": "stream",
     "text": [
      "     56/100      6.78G      1.752      1.311      1.544          7        640: 100%|██████████| 209/209 [00:36<00:00,  5.78it/s]\n",
      "                 Class     Images  Instances      Box(P          R      mAP50  mAP50-95): 100%|██████████| 61/61 [00:06<00:00, 10.04it/s]"
     ]
    },
    {
     "name": "stdout",
     "output_type": "stream",
     "text": [
      "                   all        975        484      0.309      0.833      0.311      0.126\n"
     ]
    },
    {
     "name": "stderr",
     "output_type": "stream",
     "text": [
      "\n"
     ]
    },
    {
     "name": "stdout",
     "output_type": "stream",
     "text": [
      "\n",
      "      Epoch    GPU_mem   box_loss   cls_loss   dfl_loss  Instances       Size\n"
     ]
    },
    {
     "name": "stderr",
     "output_type": "stream",
     "text": [
      "     57/100      6.78G      1.774      1.279      1.569          9        640: 100%|██████████| 209/209 [00:35<00:00,  5.90it/s]\n",
      "                 Class     Images  Instances      Box(P          R      mAP50  mAP50-95): 100%|██████████| 61/61 [00:05<00:00, 10.38it/s]"
     ]
    },
    {
     "name": "stdout",
     "output_type": "stream",
     "text": [
      "                   all        975        484      0.302      0.843      0.296      0.115\n"
     ]
    },
    {
     "name": "stderr",
     "output_type": "stream",
     "text": [
      "\n"
     ]
    },
    {
     "name": "stdout",
     "output_type": "stream",
     "text": [
      "\n",
      "      Epoch    GPU_mem   box_loss   cls_loss   dfl_loss  Instances       Size\n"
     ]
    },
    {
     "name": "stderr",
     "output_type": "stream",
     "text": [
      "     58/100      6.78G      1.771      1.271      1.558          7        640: 100%|██████████| 209/209 [00:34<00:00,  6.02it/s]\n",
      "                 Class     Images  Instances      Box(P          R      mAP50  mAP50-95): 100%|██████████| 61/61 [00:05<00:00, 10.42it/s]"
     ]
    },
    {
     "name": "stdout",
     "output_type": "stream",
     "text": [
      "                   all        975        484      0.298      0.838      0.303      0.124\n"
     ]
    },
    {
     "name": "stderr",
     "output_type": "stream",
     "text": [
      "\n"
     ]
    },
    {
     "name": "stdout",
     "output_type": "stream",
     "text": [
      "\n",
      "      Epoch    GPU_mem   box_loss   cls_loss   dfl_loss  Instances       Size\n"
     ]
    },
    {
     "name": "stderr",
     "output_type": "stream",
     "text": [
      "     59/100      6.78G      1.777      1.302      1.581          9        640: 100%|██████████| 209/209 [00:34<00:00,  6.02it/s]\n",
      "                 Class     Images  Instances      Box(P          R      mAP50  mAP50-95): 100%|██████████| 61/61 [00:05<00:00, 10.43it/s]"
     ]
    },
    {
     "name": "stdout",
     "output_type": "stream",
     "text": [
      "                   all        975        484      0.309       0.88      0.305      0.129\n"
     ]
    },
    {
     "name": "stderr",
     "output_type": "stream",
     "text": [
      "\n"
     ]
    },
    {
     "name": "stdout",
     "output_type": "stream",
     "text": [
      "\n",
      "      Epoch    GPU_mem   box_loss   cls_loss   dfl_loss  Instances       Size\n"
     ]
    },
    {
     "name": "stderr",
     "output_type": "stream",
     "text": [
      "     60/100      6.78G      1.745      1.276      1.545         11        640: 100%|██████████| 209/209 [00:34<00:00,  6.01it/s]\n",
      "                 Class     Images  Instances      Box(P          R      mAP50  mAP50-95): 100%|██████████| 61/61 [00:05<00:00, 10.42it/s]"
     ]
    },
    {
     "name": "stdout",
     "output_type": "stream",
     "text": [
      "                   all        975        484      0.288      0.812       0.28      0.105\n"
     ]
    },
    {
     "name": "stderr",
     "output_type": "stream",
     "text": [
      "\n"
     ]
    },
    {
     "name": "stdout",
     "output_type": "stream",
     "text": [
      "\n",
      "      Epoch    GPU_mem   box_loss   cls_loss   dfl_loss  Instances       Size\n"
     ]
    },
    {
     "name": "stderr",
     "output_type": "stream",
     "text": [
      "     61/100      6.78G      1.774      1.277       1.57          7        640: 100%|██████████| 209/209 [00:34<00:00,  6.02it/s]\n",
      "                 Class     Images  Instances      Box(P          R      mAP50  mAP50-95): 100%|██████████| 61/61 [00:05<00:00, 10.43it/s]"
     ]
    },
    {
     "name": "stdout",
     "output_type": "stream",
     "text": [
      "                   all        975        484      0.312      0.899      0.307      0.134\n"
     ]
    },
    {
     "name": "stderr",
     "output_type": "stream",
     "text": [
      "\n"
     ]
    },
    {
     "name": "stdout",
     "output_type": "stream",
     "text": [
      "\n",
      "      Epoch    GPU_mem   box_loss   cls_loss   dfl_loss  Instances       Size\n"
     ]
    },
    {
     "name": "stderr",
     "output_type": "stream",
     "text": [
      "     62/100      6.78G      1.728      1.254      1.548          6        640: 100%|██████████| 209/209 [00:34<00:00,  5.99it/s]\n",
      "                 Class     Images  Instances      Box(P          R      mAP50  mAP50-95): 100%|██████████| 61/61 [00:05<00:00, 10.24it/s]\n"
     ]
    },
    {
     "name": "stdout",
     "output_type": "stream",
     "text": [
      "                   all        975        484      0.305      0.882      0.308      0.131\n",
      "\n",
      "      Epoch    GPU_mem   box_loss   cls_loss   dfl_loss  Instances       Size\n"
     ]
    },
    {
     "name": "stderr",
     "output_type": "stream",
     "text": [
      "     63/100      6.78G      1.746      1.258      1.564          6        640: 100%|██████████| 209/209 [00:37<00:00,  5.65it/s]\n",
      "                 Class     Images  Instances      Box(P          R      mAP50  mAP50-95): 100%|██████████| 61/61 [00:06<00:00,  9.61it/s]"
     ]
    },
    {
     "name": "stdout",
     "output_type": "stream",
     "text": [
      "                   all        975        484      0.297       0.81      0.287      0.119\n"
     ]
    },
    {
     "name": "stderr",
     "output_type": "stream",
     "text": [
      "\n"
     ]
    },
    {
     "name": "stdout",
     "output_type": "stream",
     "text": [
      "\n",
      "      Epoch    GPU_mem   box_loss   cls_loss   dfl_loss  Instances       Size\n"
     ]
    },
    {
     "name": "stderr",
     "output_type": "stream",
     "text": [
      "     64/100      6.78G      1.731       1.28      1.542          9        640: 100%|██████████| 209/209 [00:37<00:00,  5.63it/s]\n",
      "                 Class     Images  Instances      Box(P          R      mAP50  mAP50-95): 100%|██████████| 61/61 [00:06<00:00,  9.59it/s]"
     ]
    },
    {
     "name": "stdout",
     "output_type": "stream",
     "text": [
      "                   all        975        484      0.313      0.872      0.309      0.136\n"
     ]
    },
    {
     "name": "stderr",
     "output_type": "stream",
     "text": [
      "\n"
     ]
    },
    {
     "name": "stdout",
     "output_type": "stream",
     "text": [
      "\n",
      "      Epoch    GPU_mem   box_loss   cls_loss   dfl_loss  Instances       Size\n"
     ]
    },
    {
     "name": "stderr",
     "output_type": "stream",
     "text": [
      "     65/100      6.78G      1.717      1.287      1.535         12        640: 100%|██████████| 209/209 [00:36<00:00,  5.67it/s]\n",
      "                 Class     Images  Instances      Box(P          R      mAP50  mAP50-95): 100%|██████████| 61/61 [00:06<00:00,  9.65it/s]"
     ]
    },
    {
     "name": "stdout",
     "output_type": "stream",
     "text": [
      "                   all        975        484      0.307       0.87       0.31      0.133\n"
     ]
    },
    {
     "name": "stderr",
     "output_type": "stream",
     "text": [
      "\n"
     ]
    },
    {
     "name": "stdout",
     "output_type": "stream",
     "text": [
      "\n",
      "      Epoch    GPU_mem   box_loss   cls_loss   dfl_loss  Instances       Size\n"
     ]
    },
    {
     "name": "stderr",
     "output_type": "stream",
     "text": [
      "     66/100      6.78G      1.753      1.278      1.557          4        640: 100%|██████████| 209/209 [00:36<00:00,  5.66it/s]\n",
      "                 Class     Images  Instances      Box(P          R      mAP50  mAP50-95): 100%|██████████| 61/61 [00:06<00:00,  9.65it/s]"
     ]
    },
    {
     "name": "stdout",
     "output_type": "stream",
     "text": [
      "                   all        975        484      0.295      0.835      0.301      0.113\n"
     ]
    },
    {
     "name": "stderr",
     "output_type": "stream",
     "text": [
      "\n"
     ]
    },
    {
     "name": "stdout",
     "output_type": "stream",
     "text": [
      "\n",
      "      Epoch    GPU_mem   box_loss   cls_loss   dfl_loss  Instances       Size\n"
     ]
    },
    {
     "name": "stderr",
     "output_type": "stream",
     "text": [
      "     67/100      6.78G      1.742      1.265      1.557          4        640: 100%|██████████| 209/209 [00:37<00:00,  5.64it/s]\n",
      "                 Class     Images  Instances      Box(P          R      mAP50  mAP50-95): 100%|██████████| 61/61 [00:06<00:00,  9.62it/s]"
     ]
    },
    {
     "name": "stdout",
     "output_type": "stream",
     "text": [
      "                   all        975        484      0.307      0.882      0.304      0.125\n"
     ]
    },
    {
     "name": "stderr",
     "output_type": "stream",
     "text": [
      "\n"
     ]
    },
    {
     "name": "stdout",
     "output_type": "stream",
     "text": [
      "\n",
      "      Epoch    GPU_mem   box_loss   cls_loss   dfl_loss  Instances       Size\n"
     ]
    },
    {
     "name": "stderr",
     "output_type": "stream",
     "text": [
      "     68/100      6.78G      1.747      1.251      1.557          4        640: 100%|██████████| 209/209 [00:37<00:00,  5.64it/s]\n",
      "                 Class     Images  Instances      Box(P          R      mAP50  mAP50-95): 100%|██████████| 61/61 [00:06<00:00,  9.60it/s]\n"
     ]
    },
    {
     "name": "stdout",
     "output_type": "stream",
     "text": [
      "                   all        975        484      0.314      0.868      0.307      0.128\n",
      "\n",
      "      Epoch    GPU_mem   box_loss   cls_loss   dfl_loss  Instances       Size\n"
     ]
    },
    {
     "name": "stderr",
     "output_type": "stream",
     "text": [
      "     69/100      6.78G      1.739      1.292      1.555         11        640: 100%|██████████| 209/209 [00:37<00:00,  5.64it/s]\n",
      "                 Class     Images  Instances      Box(P          R      mAP50  mAP50-95): 100%|██████████| 61/61 [00:06<00:00,  9.60it/s]"
     ]
    },
    {
     "name": "stdout",
     "output_type": "stream",
     "text": [
      "                   all        975        484      0.308      0.826      0.305      0.128\n"
     ]
    },
    {
     "name": "stderr",
     "output_type": "stream",
     "text": [
      "\n"
     ]
    },
    {
     "name": "stdout",
     "output_type": "stream",
     "text": [
      "\n",
      "      Epoch    GPU_mem   box_loss   cls_loss   dfl_loss  Instances       Size\n"
     ]
    },
    {
     "name": "stderr",
     "output_type": "stream",
     "text": [
      "     70/100      6.78G       1.75      1.271      1.555          4        640: 100%|██████████| 209/209 [00:35<00:00,  5.93it/s]\n",
      "                 Class     Images  Instances      Box(P          R      mAP50  mAP50-95): 100%|██████████| 61/61 [00:05<00:00, 10.45it/s]"
     ]
    },
    {
     "name": "stdout",
     "output_type": "stream",
     "text": [
      "                   all        975        484       0.31       0.87      0.311      0.132\n"
     ]
    },
    {
     "name": "stderr",
     "output_type": "stream",
     "text": [
      "\n"
     ]
    },
    {
     "name": "stdout",
     "output_type": "stream",
     "text": [
      "\n",
      "      Epoch    GPU_mem   box_loss   cls_loss   dfl_loss  Instances       Size\n"
     ]
    },
    {
     "name": "stderr",
     "output_type": "stream",
     "text": [
      "     71/100      6.78G      1.744      1.233       1.55          9        640: 100%|██████████| 209/209 [00:34<00:00,  6.04it/s]\n",
      "                 Class     Images  Instances      Box(P          R      mAP50  mAP50-95): 100%|██████████| 61/61 [00:05<00:00, 10.44it/s]"
     ]
    },
    {
     "name": "stdout",
     "output_type": "stream",
     "text": [
      "                   all        975        484      0.301      0.829      0.296      0.123\n"
     ]
    },
    {
     "name": "stderr",
     "output_type": "stream",
     "text": [
      "\n"
     ]
    },
    {
     "name": "stdout",
     "output_type": "stream",
     "text": [
      "\n",
      "      Epoch    GPU_mem   box_loss   cls_loss   dfl_loss  Instances       Size\n"
     ]
    },
    {
     "name": "stderr",
     "output_type": "stream",
     "text": [
      "     72/100      6.78G      1.751       1.26      1.553         12        640: 100%|██████████| 209/209 [00:34<00:00,  6.04it/s]\n",
      "                 Class     Images  Instances      Box(P          R      mAP50  mAP50-95): 100%|██████████| 61/61 [00:05<00:00, 10.45it/s]"
     ]
    },
    {
     "name": "stdout",
     "output_type": "stream",
     "text": [
      "                   all        975        484      0.307      0.884      0.305      0.129\n"
     ]
    },
    {
     "name": "stderr",
     "output_type": "stream",
     "text": [
      "\n"
     ]
    },
    {
     "name": "stdout",
     "output_type": "stream",
     "text": [
      "\n",
      "      Epoch    GPU_mem   box_loss   cls_loss   dfl_loss  Instances       Size\n"
     ]
    },
    {
     "name": "stderr",
     "output_type": "stream",
     "text": [
      "     73/100      6.78G      1.719      1.263      1.551          4        640: 100%|██████████| 209/209 [00:35<00:00,  5.95it/s]\n",
      "                 Class     Images  Instances      Box(P          R      mAP50  mAP50-95): 100%|██████████| 61/61 [00:06<00:00, 10.04it/s]"
     ]
    },
    {
     "name": "stdout",
     "output_type": "stream",
     "text": [
      "                   all        975        484      0.311      0.878      0.306       0.13\n"
     ]
    },
    {
     "name": "stderr",
     "output_type": "stream",
     "text": [
      "\n"
     ]
    },
    {
     "name": "stdout",
     "output_type": "stream",
     "text": [
      "\n",
      "      Epoch    GPU_mem   box_loss   cls_loss   dfl_loss  Instances       Size\n"
     ]
    },
    {
     "name": "stderr",
     "output_type": "stream",
     "text": [
      "     74/100      6.78G      1.698      1.254       1.51          5        640: 100%|██████████| 209/209 [00:35<00:00,  5.95it/s]\n",
      "                 Class     Images  Instances      Box(P          R      mAP50  mAP50-95): 100%|██████████| 61/61 [00:05<00:00, 10.44it/s]"
     ]
    },
    {
     "name": "stdout",
     "output_type": "stream",
     "text": [
      "                   all        975        484      0.312      0.862      0.304      0.133\n"
     ]
    },
    {
     "name": "stderr",
     "output_type": "stream",
     "text": [
      "\n"
     ]
    },
    {
     "name": "stdout",
     "output_type": "stream",
     "text": [
      "\n",
      "      Epoch    GPU_mem   box_loss   cls_loss   dfl_loss  Instances       Size\n"
     ]
    },
    {
     "name": "stderr",
     "output_type": "stream",
     "text": [
      "     75/100      6.78G      1.728       1.24      1.539          8        640: 100%|██████████| 209/209 [00:34<00:00,  6.04it/s]\n",
      "                 Class     Images  Instances      Box(P          R      mAP50  mAP50-95): 100%|██████████| 61/61 [00:05<00:00, 10.46it/s]"
     ]
    },
    {
     "name": "stdout",
     "output_type": "stream",
     "text": [
      "                   all        975        484      0.298       0.85      0.293       0.12\n"
     ]
    },
    {
     "name": "stderr",
     "output_type": "stream",
     "text": [
      "\n"
     ]
    },
    {
     "name": "stdout",
     "output_type": "stream",
     "text": [
      "\n",
      "      Epoch    GPU_mem   box_loss   cls_loss   dfl_loss  Instances       Size\n"
     ]
    },
    {
     "name": "stderr",
     "output_type": "stream",
     "text": [
      "     76/100      6.78G      1.683       1.22      1.521          7        640: 100%|██████████| 209/209 [00:35<00:00,  5.93it/s]\n",
      "                 Class     Images  Instances      Box(P          R      mAP50  mAP50-95): 100%|██████████| 61/61 [00:06<00:00,  9.66it/s]"
     ]
    },
    {
     "name": "stdout",
     "output_type": "stream",
     "text": [
      "                   all        975        484      0.309      0.886      0.314      0.134\n"
     ]
    },
    {
     "name": "stderr",
     "output_type": "stream",
     "text": [
      "\n"
     ]
    },
    {
     "name": "stdout",
     "output_type": "stream",
     "text": [
      "\n",
      "      Epoch    GPU_mem   box_loss   cls_loss   dfl_loss  Instances       Size\n"
     ]
    },
    {
     "name": "stderr",
     "output_type": "stream",
     "text": [
      "     77/100      6.78G       1.72      1.239      1.544          9        640: 100%|██████████| 209/209 [00:37<00:00,  5.61it/s]\n",
      "                 Class     Images  Instances      Box(P          R      mAP50  mAP50-95): 100%|██████████| 61/61 [00:06<00:00,  9.58it/s]\n"
     ]
    },
    {
     "name": "stdout",
     "output_type": "stream",
     "text": [
      "                   all        975        484      0.305      0.872      0.301      0.126\n",
      "\n",
      "      Epoch    GPU_mem   box_loss   cls_loss   dfl_loss  Instances       Size\n"
     ]
    },
    {
     "name": "stderr",
     "output_type": "stream",
     "text": [
      "     78/100      6.78G      1.702      1.227      1.544          6        640: 100%|██████████| 209/209 [00:37<00:00,  5.62it/s]\n",
      "                 Class     Images  Instances      Box(P          R      mAP50  mAP50-95): 100%|██████████| 61/61 [00:06<00:00,  9.67it/s]\n"
     ]
    },
    {
     "name": "stdout",
     "output_type": "stream",
     "text": [
      "                   all        975        484      0.304       0.87      0.303      0.128\n",
      "\n",
      "      Epoch    GPU_mem   box_loss   cls_loss   dfl_loss  Instances       Size\n"
     ]
    },
    {
     "name": "stderr",
     "output_type": "stream",
     "text": [
      "     79/100      6.78G      1.716      1.226      1.543          4        640: 100%|██████████| 209/209 [00:37<00:00,  5.64it/s]\n",
      "                 Class     Images  Instances      Box(P          R      mAP50  mAP50-95): 100%|██████████| 61/61 [00:06<00:00,  9.66it/s]"
     ]
    },
    {
     "name": "stdout",
     "output_type": "stream",
     "text": [
      "                   all        975        484      0.314       0.88      0.311      0.135\n"
     ]
    },
    {
     "name": "stderr",
     "output_type": "stream",
     "text": [
      "\n"
     ]
    },
    {
     "name": "stdout",
     "output_type": "stream",
     "text": [
      "\n",
      "      Epoch    GPU_mem   box_loss   cls_loss   dfl_loss  Instances       Size\n"
     ]
    },
    {
     "name": "stderr",
     "output_type": "stream",
     "text": [
      "     80/100      6.78G      1.717       1.21      1.516          6        640: 100%|██████████| 209/209 [00:36<00:00,  5.67it/s]\n",
      "                 Class     Images  Instances      Box(P          R      mAP50  mAP50-95): 100%|██████████| 61/61 [00:06<00:00,  9.72it/s]"
     ]
    },
    {
     "name": "stdout",
     "output_type": "stream",
     "text": [
      "                   all        975        484      0.308      0.899      0.306      0.131\n"
     ]
    },
    {
     "name": "stderr",
     "output_type": "stream",
     "text": [
      "\n"
     ]
    },
    {
     "name": "stdout",
     "output_type": "stream",
     "text": [
      "\n",
      "      Epoch    GPU_mem   box_loss   cls_loss   dfl_loss  Instances       Size\n"
     ]
    },
    {
     "name": "stderr",
     "output_type": "stream",
     "text": [
      "     81/100      6.78G      1.707      1.181       1.54          6        640: 100%|██████████| 209/209 [00:36<00:00,  5.70it/s]\n",
      "                 Class     Images  Instances      Box(P          R      mAP50  mAP50-95): 100%|██████████| 61/61 [00:06<00:00,  9.78it/s]\n"
     ]
    },
    {
     "name": "stdout",
     "output_type": "stream",
     "text": [
      "                   all        975        484      0.304      0.876      0.301       0.13\n",
      "\n",
      "      Epoch    GPU_mem   box_loss   cls_loss   dfl_loss  Instances       Size\n"
     ]
    },
    {
     "name": "stderr",
     "output_type": "stream",
     "text": [
      "     82/100      6.78G      1.694      1.226      1.513          7        640: 100%|██████████| 209/209 [00:36<00:00,  5.70it/s]\n",
      "                 Class     Images  Instances      Box(P          R      mAP50  mAP50-95): 100%|██████████| 61/61 [00:06<00:00,  9.72it/s]"
     ]
    },
    {
     "name": "stdout",
     "output_type": "stream",
     "text": [
      "                   all        975        484      0.307       0.88      0.303      0.128\n"
     ]
    },
    {
     "name": "stderr",
     "output_type": "stream",
     "text": [
      "\n"
     ]
    },
    {
     "name": "stdout",
     "output_type": "stream",
     "text": [
      "\n",
      "      Epoch    GPU_mem   box_loss   cls_loss   dfl_loss  Instances       Size\n"
     ]
    },
    {
     "name": "stderr",
     "output_type": "stream",
     "text": [
      "     83/100      6.78G      1.697      1.194      1.511          7        640: 100%|██████████| 209/209 [00:36<00:00,  5.71it/s]\n",
      "                 Class     Images  Instances      Box(P          R      mAP50  mAP50-95): 100%|██████████| 61/61 [00:06<00:00,  9.79it/s]\n"
     ]
    },
    {
     "name": "stdout",
     "output_type": "stream",
     "text": [
      "                   all        975        484      0.302      0.878       0.29      0.125\n",
      "\n",
      "      Epoch    GPU_mem   box_loss   cls_loss   dfl_loss  Instances       Size\n"
     ]
    },
    {
     "name": "stderr",
     "output_type": "stream",
     "text": [
      "     84/100      6.78G      1.715      1.176      1.519         11        640: 100%|██████████| 209/209 [00:36<00:00,  5.68it/s]\n",
      "                 Class     Images  Instances      Box(P          R      mAP50  mAP50-95): 100%|██████████| 61/61 [00:06<00:00,  9.74it/s]\n"
     ]
    },
    {
     "name": "stdout",
     "output_type": "stream",
     "text": [
      "                   all        975        484      0.306      0.899      0.306      0.132\n",
      "\n",
      "      Epoch    GPU_mem   box_loss   cls_loss   dfl_loss  Instances       Size\n"
     ]
    },
    {
     "name": "stderr",
     "output_type": "stream",
     "text": [
      "     85/100      6.78G      1.686      1.194      1.536         12        640: 100%|██████████| 209/209 [00:36<00:00,  5.68it/s]\n",
      "                 Class     Images  Instances      Box(P          R      mAP50  mAP50-95): 100%|██████████| 61/61 [00:06<00:00,  9.71it/s]\n"
     ]
    },
    {
     "name": "stdout",
     "output_type": "stream",
     "text": [
      "                   all        975        484      0.296      0.864      0.292      0.121\n",
      "\n",
      "      Epoch    GPU_mem   box_loss   cls_loss   dfl_loss  Instances       Size\n"
     ]
    },
    {
     "name": "stderr",
     "output_type": "stream",
     "text": [
      "     86/100      6.78G      1.704      1.207      1.536          7        640: 100%|██████████| 209/209 [00:36<00:00,  5.68it/s]\n",
      "                 Class     Images  Instances      Box(P          R      mAP50  mAP50-95): 100%|██████████| 61/61 [00:06<00:00,  9.71it/s]\n"
     ]
    },
    {
     "name": "stdout",
     "output_type": "stream",
     "text": [
      "                   all        975        484      0.301      0.878      0.297      0.129\n",
      "\n",
      "      Epoch    GPU_mem   box_loss   cls_loss   dfl_loss  Instances       Size\n"
     ]
    },
    {
     "name": "stderr",
     "output_type": "stream",
     "text": [
      "     87/100      6.78G      1.682      1.162      1.503          6        640: 100%|██████████| 209/209 [00:36<00:00,  5.67it/s]\n",
      "                 Class     Images  Instances      Box(P          R      mAP50  mAP50-95): 100%|██████████| 61/61 [00:06<00:00,  9.70it/s]\n"
     ]
    },
    {
     "name": "stdout",
     "output_type": "stream",
     "text": [
      "                   all        975        484      0.308       0.89        0.3      0.128\n",
      "\n",
      "      Epoch    GPU_mem   box_loss   cls_loss   dfl_loss  Instances       Size\n"
     ]
    },
    {
     "name": "stderr",
     "output_type": "stream",
     "text": [
      "     88/100      6.78G      1.691      1.162      1.515          6        640: 100%|██████████| 209/209 [00:36<00:00,  5.66it/s]\n",
      "                 Class     Images  Instances      Box(P          R      mAP50  mAP50-95): 100%|██████████| 61/61 [00:06<00:00,  9.66it/s]\n"
     ]
    },
    {
     "name": "stdout",
     "output_type": "stream",
     "text": [
      "                   all        975        484      0.295      0.864      0.287      0.124\n",
      "\n",
      "      Epoch    GPU_mem   box_loss   cls_loss   dfl_loss  Instances       Size\n"
     ]
    },
    {
     "name": "stderr",
     "output_type": "stream",
     "text": [
      "     89/100      6.78G      1.681      1.169      1.515          9        640: 100%|██████████| 209/209 [00:36<00:00,  5.67it/s]\n",
      "                 Class     Images  Instances      Box(P          R      mAP50  mAP50-95): 100%|██████████| 61/61 [00:05<00:00, 10.48it/s]"
     ]
    },
    {
     "name": "stdout",
     "output_type": "stream",
     "text": [
      "                   all        975        484      0.303      0.878      0.297      0.126\n"
     ]
    },
    {
     "name": "stderr",
     "output_type": "stream",
     "text": [
      "\n"
     ]
    },
    {
     "name": "stdout",
     "output_type": "stream",
     "text": [
      "\n",
      "      Epoch    GPU_mem   box_loss   cls_loss   dfl_loss  Instances       Size\n"
     ]
    },
    {
     "name": "stderr",
     "output_type": "stream",
     "text": [
      "     90/100      6.78G      1.684      1.167       1.52          6        640: 100%|██████████| 209/209 [00:34<00:00,  6.04it/s]\n",
      "                 Class     Images  Instances      Box(P          R      mAP50  mAP50-95): 100%|██████████| 61/61 [00:05<00:00, 10.46it/s]"
     ]
    },
    {
     "name": "stdout",
     "output_type": "stream",
     "text": [
      "                   all        975        484        0.3      0.872      0.294      0.121\n"
     ]
    },
    {
     "name": "stderr",
     "output_type": "stream",
     "text": [
      "\n"
     ]
    },
    {
     "name": "stdout",
     "output_type": "stream",
     "text": [
      "Closing dataloader mosaic\n",
      "\u001b[34m\u001b[1malbumentations: \u001b[0mBlur(p=0.01, blur_limit=(3, 7)), MedianBlur(p=0.01, blur_limit=(3, 7)), ToGray(p=0.01, method='weighted_average', num_output_channels=3), CLAHE(p=0.01, clip_limit=(1.0, 4.0), tile_grid_size=(8, 8))\n",
      "\n",
      "      Epoch    GPU_mem   box_loss   cls_loss   dfl_loss  Instances       Size\n"
     ]
    },
    {
     "name": "stderr",
     "output_type": "stream",
     "text": [
      "     91/100      6.78G      1.632      1.126      1.632          4        640: 100%|██████████| 209/209 [00:34<00:00,  6.03it/s]\n",
      "                 Class     Images  Instances      Box(P          R      mAP50  mAP50-95): 100%|██████████| 61/61 [00:05<00:00, 10.45it/s]"
     ]
    },
    {
     "name": "stdout",
     "output_type": "stream",
     "text": [
      "                   all        975        484      0.301      0.866      0.296      0.126\n"
     ]
    },
    {
     "name": "stderr",
     "output_type": "stream",
     "text": [
      "\n"
     ]
    },
    {
     "name": "stdout",
     "output_type": "stream",
     "text": [
      "\n",
      "      Epoch    GPU_mem   box_loss   cls_loss   dfl_loss  Instances       Size\n"
     ]
    },
    {
     "name": "stderr",
     "output_type": "stream",
     "text": [
      "     92/100      6.78G      1.624      1.118      1.611          5        640: 100%|██████████| 209/209 [00:34<00:00,  6.04it/s]\n",
      "                 Class     Images  Instances      Box(P          R      mAP50  mAP50-95): 100%|██████████| 61/61 [00:05<00:00, 10.40it/s]"
     ]
    },
    {
     "name": "stdout",
     "output_type": "stream",
     "text": [
      "                   all        975        484        0.3      0.864      0.294      0.123\n"
     ]
    },
    {
     "name": "stderr",
     "output_type": "stream",
     "text": [
      "\n"
     ]
    },
    {
     "name": "stdout",
     "output_type": "stream",
     "text": [
      "\n",
      "      Epoch    GPU_mem   box_loss   cls_loss   dfl_loss  Instances       Size\n"
     ]
    },
    {
     "name": "stderr",
     "output_type": "stream",
     "text": [
      "     93/100      6.78G      1.624       1.13      1.607          3        640: 100%|██████████| 209/209 [00:34<00:00,  6.02it/s]\n",
      "                 Class     Images  Instances      Box(P          R      mAP50  mAP50-95): 100%|██████████| 61/61 [00:05<00:00, 10.44it/s]"
     ]
    },
    {
     "name": "stdout",
     "output_type": "stream",
     "text": [
      "                   all        975        484      0.299      0.874      0.297      0.129\n"
     ]
    },
    {
     "name": "stderr",
     "output_type": "stream",
     "text": [
      "\n"
     ]
    },
    {
     "name": "stdout",
     "output_type": "stream",
     "text": [
      "\n",
      "      Epoch    GPU_mem   box_loss   cls_loss   dfl_loss  Instances       Size\n"
     ]
    },
    {
     "name": "stderr",
     "output_type": "stream",
     "text": [
      "     94/100      6.78G      1.614      1.097      1.619          3        640: 100%|██████████| 209/209 [00:34<00:00,  6.02it/s]\n",
      "                 Class     Images  Instances      Box(P          R      mAP50  mAP50-95): 100%|██████████| 61/61 [00:05<00:00, 10.43it/s]"
     ]
    },
    {
     "name": "stdout",
     "output_type": "stream",
     "text": [
      "                   all        975        484        0.3      0.866      0.296      0.127\n"
     ]
    },
    {
     "name": "stderr",
     "output_type": "stream",
     "text": [
      "\n"
     ]
    },
    {
     "name": "stdout",
     "output_type": "stream",
     "text": [
      "\n",
      "      Epoch    GPU_mem   box_loss   cls_loss   dfl_loss  Instances       Size\n"
     ]
    },
    {
     "name": "stderr",
     "output_type": "stream",
     "text": [
      "     95/100      6.78G      1.594      1.086      1.604          9        640: 100%|██████████| 209/209 [00:34<00:00,  6.02it/s]\n",
      "                 Class     Images  Instances      Box(P          R      mAP50  mAP50-95): 100%|██████████| 61/61 [00:05<00:00, 10.21it/s]"
     ]
    },
    {
     "name": "stdout",
     "output_type": "stream",
     "text": [
      "                   all        975        484      0.298       0.87      0.288      0.119\n"
     ]
    },
    {
     "name": "stderr",
     "output_type": "stream",
     "text": [
      "\n"
     ]
    },
    {
     "name": "stdout",
     "output_type": "stream",
     "text": [
      "\n",
      "      Epoch    GPU_mem   box_loss   cls_loss   dfl_loss  Instances       Size\n"
     ]
    },
    {
     "name": "stderr",
     "output_type": "stream",
     "text": [
      "     96/100      6.78G      1.607      1.065      1.605          2        640: 100%|██████████| 209/209 [00:34<00:00,  6.01it/s]\n",
      "                 Class     Images  Instances      Box(P          R      mAP50  mAP50-95): 100%|██████████| 61/61 [00:05<00:00, 10.44it/s]"
     ]
    },
    {
     "name": "stdout",
     "output_type": "stream",
     "text": [
      "                   all        975        484      0.297      0.853      0.287      0.117\n"
     ]
    },
    {
     "name": "stderr",
     "output_type": "stream",
     "text": [
      "\n"
     ]
    },
    {
     "name": "stdout",
     "output_type": "stream",
     "text": [
      "\n",
      "      Epoch    GPU_mem   box_loss   cls_loss   dfl_loss  Instances       Size\n"
     ]
    },
    {
     "name": "stderr",
     "output_type": "stream",
     "text": [
      "     97/100      6.78G        1.6      1.054      1.587          8        640: 100%|██████████| 209/209 [00:34<00:00,  6.02it/s]\n",
      "                 Class     Images  Instances      Box(P          R      mAP50  mAP50-95): 100%|██████████| 61/61 [00:05<00:00, 10.42it/s]"
     ]
    },
    {
     "name": "stdout",
     "output_type": "stream",
     "text": [
      "                   all        975        484      0.296       0.87       0.29      0.117\n"
     ]
    },
    {
     "name": "stderr",
     "output_type": "stream",
     "text": [
      "\n"
     ]
    },
    {
     "name": "stdout",
     "output_type": "stream",
     "text": [
      "\n",
      "      Epoch    GPU_mem   box_loss   cls_loss   dfl_loss  Instances       Size\n"
     ]
    },
    {
     "name": "stderr",
     "output_type": "stream",
     "text": [
      "     98/100      6.78G      1.622      1.103      1.614          6        640: 100%|██████████| 209/209 [00:34<00:00,  6.02it/s]\n",
      "                 Class     Images  Instances      Box(P          R      mAP50  mAP50-95): 100%|██████████| 61/61 [00:05<00:00, 10.44it/s]"
     ]
    },
    {
     "name": "stdout",
     "output_type": "stream",
     "text": [
      "                   all        975        484      0.298      0.864      0.289      0.121\n"
     ]
    },
    {
     "name": "stderr",
     "output_type": "stream",
     "text": [
      "\n"
     ]
    },
    {
     "name": "stdout",
     "output_type": "stream",
     "text": [
      "\n",
      "      Epoch    GPU_mem   box_loss   cls_loss   dfl_loss  Instances       Size\n"
     ]
    },
    {
     "name": "stderr",
     "output_type": "stream",
     "text": [
      "     99/100      6.78G      1.606       1.07      1.611          8        640: 100%|██████████| 209/209 [00:34<00:00,  5.99it/s]\n",
      "                 Class     Images  Instances      Box(P          R      mAP50  mAP50-95): 100%|██████████| 61/61 [00:05<00:00, 10.45it/s]"
     ]
    },
    {
     "name": "stdout",
     "output_type": "stream",
     "text": [
      "                   all        975        484      0.295      0.857      0.285      0.118\n"
     ]
    },
    {
     "name": "stderr",
     "output_type": "stream",
     "text": [
      "\n"
     ]
    },
    {
     "name": "stdout",
     "output_type": "stream",
     "text": [
      "\n",
      "      Epoch    GPU_mem   box_loss   cls_loss   dfl_loss  Instances       Size\n"
     ]
    },
    {
     "name": "stderr",
     "output_type": "stream",
     "text": [
      "    100/100      6.78G      1.605      1.069      1.621          6        640: 100%|██████████| 209/209 [00:34<00:00,  6.02it/s]\n",
      "                 Class     Images  Instances      Box(P          R      mAP50  mAP50-95): 100%|██████████| 61/61 [00:05<00:00, 10.43it/s]"
     ]
    },
    {
     "name": "stdout",
     "output_type": "stream",
     "text": [
      "                   all        975        484      0.296       0.86      0.286      0.117\n"
     ]
    },
    {
     "name": "stderr",
     "output_type": "stream",
     "text": [
      "\n"
     ]
    },
    {
     "name": "stdout",
     "output_type": "stream",
     "text": [
      "\n",
      "100 epochs completed in 1.194 hours.\n",
      "Optimizer stripped from /home/student/Desktop/current_model_ai/folder_train/folds_retrain/weights/last.pt, 87.6MB\n",
      "Optimizer stripped from /home/student/Desktop/current_model_ai/folder_train/folds_retrain/weights/best.pt, 87.6MB\n",
      "\n",
      "Validating /home/student/Desktop/current_model_ai/folder_train/folds_retrain/weights/best.pt...\n",
      "Ultralytics 8.3.133 🚀 Python-3.10.16 torch-2.6.0+cu124 CUDA:0 (NVIDIA RTX 4000 Ada Generation, 20040MiB)\n",
      "Model summary (fused): 112 layers, 43,607,379 parameters, 0 gradients, 164.8 GFLOPs\n"
     ]
    },
    {
     "name": "stderr",
     "output_type": "stream",
     "text": [
      "                 Class     Images  Instances      Box(P          R      mAP50  mAP50-95): 100%|██████████| 61/61 [00:11<00:00,  5.37it/s]\n"
     ]
    },
    {
     "name": "stdout",
     "output_type": "stream",
     "text": [
      "                   all        975        484      0.309      0.849      0.321       0.14\n",
      "Speed: 0.1ms preprocess, 10.6ms inference, 0.0ms loss, 0.4ms postprocess per image\n",
      "Results saved to \u001b[1m/home/student/Desktop/current_model_ai/folder_train/folds_retrain\u001b[0m\n"
     ]
    },
    {
     "data": {
      "text/plain": [
       "ultralytics.utils.metrics.DetMetrics object with attributes:\n",
       "\n",
       "ap_class_index: array([0])\n",
       "box: ultralytics.utils.metrics.Metric object\n",
       "confusion_matrix: <ultralytics.utils.metrics.ConfusionMatrix object at 0x7f141da4cfa0>\n",
       "curves: ['Precision-Recall(B)', 'F1-Confidence(B)', 'Precision-Confidence(B)', 'Recall-Confidence(B)']\n",
       "curves_results: [[array([          0,    0.001001,    0.002002,    0.003003,    0.004004,    0.005005,    0.006006,    0.007007,    0.008008,    0.009009,     0.01001,    0.011011,    0.012012,    0.013013,    0.014014,    0.015015,    0.016016,    0.017017,    0.018018,    0.019019,     0.02002,    0.021021,    0.022022,    0.023023,\n",
       "          0.024024,    0.025025,    0.026026,    0.027027,    0.028028,    0.029029,     0.03003,    0.031031,    0.032032,    0.033033,    0.034034,    0.035035,    0.036036,    0.037037,    0.038038,    0.039039,     0.04004,    0.041041,    0.042042,    0.043043,    0.044044,    0.045045,    0.046046,    0.047047,\n",
       "          0.048048,    0.049049,     0.05005,    0.051051,    0.052052,    0.053053,    0.054054,    0.055055,    0.056056,    0.057057,    0.058058,    0.059059,     0.06006,    0.061061,    0.062062,    0.063063,    0.064064,    0.065065,    0.066066,    0.067067,    0.068068,    0.069069,     0.07007,    0.071071,\n",
       "          0.072072,    0.073073,    0.074074,    0.075075,    0.076076,    0.077077,    0.078078,    0.079079,     0.08008,    0.081081,    0.082082,    0.083083,    0.084084,    0.085085,    0.086086,    0.087087,    0.088088,    0.089089,     0.09009,    0.091091,    0.092092,    0.093093,    0.094094,    0.095095,\n",
       "          0.096096,    0.097097,    0.098098,    0.099099,      0.1001,      0.1011,      0.1021,      0.1031,      0.1041,     0.10511,     0.10611,     0.10711,     0.10811,     0.10911,     0.11011,     0.11111,     0.11211,     0.11311,     0.11411,     0.11512,     0.11612,     0.11712,     0.11812,     0.11912,\n",
       "           0.12012,     0.12112,     0.12212,     0.12312,     0.12412,     0.12513,     0.12613,     0.12713,     0.12813,     0.12913,     0.13013,     0.13113,     0.13213,     0.13313,     0.13413,     0.13514,     0.13614,     0.13714,     0.13814,     0.13914,     0.14014,     0.14114,     0.14214,     0.14314,\n",
       "           0.14414,     0.14515,     0.14615,     0.14715,     0.14815,     0.14915,     0.15015,     0.15115,     0.15215,     0.15315,     0.15415,     0.15516,     0.15616,     0.15716,     0.15816,     0.15916,     0.16016,     0.16116,     0.16216,     0.16316,     0.16416,     0.16517,     0.16617,     0.16717,\n",
       "           0.16817,     0.16917,     0.17017,     0.17117,     0.17217,     0.17317,     0.17417,     0.17518,     0.17618,     0.17718,     0.17818,     0.17918,     0.18018,     0.18118,     0.18218,     0.18318,     0.18418,     0.18519,     0.18619,     0.18719,     0.18819,     0.18919,     0.19019,     0.19119,\n",
       "           0.19219,     0.19319,     0.19419,      0.1952,      0.1962,      0.1972,      0.1982,      0.1992,      0.2002,      0.2012,      0.2022,      0.2032,      0.2042,     0.20521,     0.20621,     0.20721,     0.20821,     0.20921,     0.21021,     0.21121,     0.21221,     0.21321,     0.21421,     0.21522,\n",
       "           0.21622,     0.21722,     0.21822,     0.21922,     0.22022,     0.22122,     0.22222,     0.22322,     0.22422,     0.22523,     0.22623,     0.22723,     0.22823,     0.22923,     0.23023,     0.23123,     0.23223,     0.23323,     0.23423,     0.23524,     0.23624,     0.23724,     0.23824,     0.23924,\n",
       "           0.24024,     0.24124,     0.24224,     0.24324,     0.24424,     0.24525,     0.24625,     0.24725,     0.24825,     0.24925,     0.25025,     0.25125,     0.25225,     0.25325,     0.25425,     0.25526,     0.25626,     0.25726,     0.25826,     0.25926,     0.26026,     0.26126,     0.26226,     0.26326,\n",
       "           0.26426,     0.26527,     0.26627,     0.26727,     0.26827,     0.26927,     0.27027,     0.27127,     0.27227,     0.27327,     0.27427,     0.27528,     0.27628,     0.27728,     0.27828,     0.27928,     0.28028,     0.28128,     0.28228,     0.28328,     0.28428,     0.28529,     0.28629,     0.28729,\n",
       "           0.28829,     0.28929,     0.29029,     0.29129,     0.29229,     0.29329,     0.29429,      0.2953,      0.2963,      0.2973,      0.2983,      0.2993,      0.3003,      0.3013,      0.3023,      0.3033,      0.3043,     0.30531,     0.30631,     0.30731,     0.30831,     0.30931,     0.31031,     0.31131,\n",
       "           0.31231,     0.31331,     0.31431,     0.31532,     0.31632,     0.31732,     0.31832,     0.31932,     0.32032,     0.32132,     0.32232,     0.32332,     0.32432,     0.32533,     0.32633,     0.32733,     0.32833,     0.32933,     0.33033,     0.33133,     0.33233,     0.33333,     0.33433,     0.33534,\n",
       "           0.33634,     0.33734,     0.33834,     0.33934,     0.34034,     0.34134,     0.34234,     0.34334,     0.34434,     0.34535,     0.34635,     0.34735,     0.34835,     0.34935,     0.35035,     0.35135,     0.35235,     0.35335,     0.35435,     0.35536,     0.35636,     0.35736,     0.35836,     0.35936,\n",
       "           0.36036,     0.36136,     0.36236,     0.36336,     0.36436,     0.36537,     0.36637,     0.36737,     0.36837,     0.36937,     0.37037,     0.37137,     0.37237,     0.37337,     0.37437,     0.37538,     0.37638,     0.37738,     0.37838,     0.37938,     0.38038,     0.38138,     0.38238,     0.38338,\n",
       "           0.38438,     0.38539,     0.38639,     0.38739,     0.38839,     0.38939,     0.39039,     0.39139,     0.39239,     0.39339,     0.39439,      0.3954,      0.3964,      0.3974,      0.3984,      0.3994,      0.4004,      0.4014,      0.4024,      0.4034,      0.4044,     0.40541,     0.40641,     0.40741,\n",
       "           0.40841,     0.40941,     0.41041,     0.41141,     0.41241,     0.41341,     0.41441,     0.41542,     0.41642,     0.41742,     0.41842,     0.41942,     0.42042,     0.42142,     0.42242,     0.42342,     0.42442,     0.42543,     0.42643,     0.42743,     0.42843,     0.42943,     0.43043,     0.43143,\n",
       "           0.43243,     0.43343,     0.43443,     0.43544,     0.43644,     0.43744,     0.43844,     0.43944,     0.44044,     0.44144,     0.44244,     0.44344,     0.44444,     0.44545,     0.44645,     0.44745,     0.44845,     0.44945,     0.45045,     0.45145,     0.45245,     0.45345,     0.45445,     0.45546,\n",
       "           0.45646,     0.45746,     0.45846,     0.45946,     0.46046,     0.46146,     0.46246,     0.46346,     0.46446,     0.46547,     0.46647,     0.46747,     0.46847,     0.46947,     0.47047,     0.47147,     0.47247,     0.47347,     0.47447,     0.47548,     0.47648,     0.47748,     0.47848,     0.47948,\n",
       "           0.48048,     0.48148,     0.48248,     0.48348,     0.48448,     0.48549,     0.48649,     0.48749,     0.48849,     0.48949,     0.49049,     0.49149,     0.49249,     0.49349,     0.49449,      0.4955,      0.4965,      0.4975,      0.4985,      0.4995,      0.5005,      0.5015,      0.5025,      0.5035,\n",
       "            0.5045,     0.50551,     0.50651,     0.50751,     0.50851,     0.50951,     0.51051,     0.51151,     0.51251,     0.51351,     0.51451,     0.51552,     0.51652,     0.51752,     0.51852,     0.51952,     0.52052,     0.52152,     0.52252,     0.52352,     0.52452,     0.52553,     0.52653,     0.52753,\n",
       "           0.52853,     0.52953,     0.53053,     0.53153,     0.53253,     0.53353,     0.53453,     0.53554,     0.53654,     0.53754,     0.53854,     0.53954,     0.54054,     0.54154,     0.54254,     0.54354,     0.54454,     0.54555,     0.54655,     0.54755,     0.54855,     0.54955,     0.55055,     0.55155,\n",
       "           0.55255,     0.55355,     0.55455,     0.55556,     0.55656,     0.55756,     0.55856,     0.55956,     0.56056,     0.56156,     0.56256,     0.56356,     0.56456,     0.56557,     0.56657,     0.56757,     0.56857,     0.56957,     0.57057,     0.57157,     0.57257,     0.57357,     0.57457,     0.57558,\n",
       "           0.57658,     0.57758,     0.57858,     0.57958,     0.58058,     0.58158,     0.58258,     0.58358,     0.58458,     0.58559,     0.58659,     0.58759,     0.58859,     0.58959,     0.59059,     0.59159,     0.59259,     0.59359,     0.59459,      0.5956,      0.5966,      0.5976,      0.5986,      0.5996,\n",
       "            0.6006,      0.6016,      0.6026,      0.6036,      0.6046,     0.60561,     0.60661,     0.60761,     0.60861,     0.60961,     0.61061,     0.61161,     0.61261,     0.61361,     0.61461,     0.61562,     0.61662,     0.61762,     0.61862,     0.61962,     0.62062,     0.62162,     0.62262,     0.62362,\n",
       "           0.62462,     0.62563,     0.62663,     0.62763,     0.62863,     0.62963,     0.63063,     0.63163,     0.63263,     0.63363,     0.63463,     0.63564,     0.63664,     0.63764,     0.63864,     0.63964,     0.64064,     0.64164,     0.64264,     0.64364,     0.64464,     0.64565,     0.64665,     0.64765,\n",
       "           0.64865,     0.64965,     0.65065,     0.65165,     0.65265,     0.65365,     0.65465,     0.65566,     0.65666,     0.65766,     0.65866,     0.65966,     0.66066,     0.66166,     0.66266,     0.66366,     0.66466,     0.66567,     0.66667,     0.66767,     0.66867,     0.66967,     0.67067,     0.67167,\n",
       "           0.67267,     0.67367,     0.67467,     0.67568,     0.67668,     0.67768,     0.67868,     0.67968,     0.68068,     0.68168,     0.68268,     0.68368,     0.68468,     0.68569,     0.68669,     0.68769,     0.68869,     0.68969,     0.69069,     0.69169,     0.69269,     0.69369,     0.69469,      0.6957,\n",
       "            0.6967,      0.6977,      0.6987,      0.6997,      0.7007,      0.7017,      0.7027,      0.7037,      0.7047,     0.70571,     0.70671,     0.70771,     0.70871,     0.70971,     0.71071,     0.71171,     0.71271,     0.71371,     0.71471,     0.71572,     0.71672,     0.71772,     0.71872,     0.71972,\n",
       "           0.72072,     0.72172,     0.72272,     0.72372,     0.72472,     0.72573,     0.72673,     0.72773,     0.72873,     0.72973,     0.73073,     0.73173,     0.73273,     0.73373,     0.73473,     0.73574,     0.73674,     0.73774,     0.73874,     0.73974,     0.74074,     0.74174,     0.74274,     0.74374,\n",
       "           0.74474,     0.74575,     0.74675,     0.74775,     0.74875,     0.74975,     0.75075,     0.75175,     0.75275,     0.75375,     0.75475,     0.75576,     0.75676,     0.75776,     0.75876,     0.75976,     0.76076,     0.76176,     0.76276,     0.76376,     0.76476,     0.76577,     0.76677,     0.76777,\n",
       "           0.76877,     0.76977,     0.77077,     0.77177,     0.77277,     0.77377,     0.77477,     0.77578,     0.77678,     0.77778,     0.77878,     0.77978,     0.78078,     0.78178,     0.78278,     0.78378,     0.78478,     0.78579,     0.78679,     0.78779,     0.78879,     0.78979,     0.79079,     0.79179,\n",
       "           0.79279,     0.79379,     0.79479,      0.7958,      0.7968,      0.7978,      0.7988,      0.7998,      0.8008,      0.8018,      0.8028,      0.8038,      0.8048,     0.80581,     0.80681,     0.80781,     0.80881,     0.80981,     0.81081,     0.81181,     0.81281,     0.81381,     0.81481,     0.81582,\n",
       "           0.81682,     0.81782,     0.81882,     0.81982,     0.82082,     0.82182,     0.82282,     0.82382,     0.82482,     0.82583,     0.82683,     0.82783,     0.82883,     0.82983,     0.83083,     0.83183,     0.83283,     0.83383,     0.83483,     0.83584,     0.83684,     0.83784,     0.83884,     0.83984,\n",
       "           0.84084,     0.84184,     0.84284,     0.84384,     0.84484,     0.84585,     0.84685,     0.84785,     0.84885,     0.84985,     0.85085,     0.85185,     0.85285,     0.85385,     0.85485,     0.85586,     0.85686,     0.85786,     0.85886,     0.85986,     0.86086,     0.86186,     0.86286,     0.86386,\n",
       "           0.86486,     0.86587,     0.86687,     0.86787,     0.86887,     0.86987,     0.87087,     0.87187,     0.87287,     0.87387,     0.87487,     0.87588,     0.87688,     0.87788,     0.87888,     0.87988,     0.88088,     0.88188,     0.88288,     0.88388,     0.88488,     0.88589,     0.88689,     0.88789,\n",
       "           0.88889,     0.88989,     0.89089,     0.89189,     0.89289,     0.89389,     0.89489,      0.8959,      0.8969,      0.8979,      0.8989,      0.8999,      0.9009,      0.9019,      0.9029,      0.9039,      0.9049,     0.90591,     0.90691,     0.90791,     0.90891,     0.90991,     0.91091,     0.91191,\n",
       "           0.91291,     0.91391,     0.91491,     0.91592,     0.91692,     0.91792,     0.91892,     0.91992,     0.92092,     0.92192,     0.92292,     0.92392,     0.92492,     0.92593,     0.92693,     0.92793,     0.92893,     0.92993,     0.93093,     0.93193,     0.93293,     0.93393,     0.93493,     0.93594,\n",
       "           0.93694,     0.93794,     0.93894,     0.93994,     0.94094,     0.94194,     0.94294,     0.94394,     0.94494,     0.94595,     0.94695,     0.94795,     0.94895,     0.94995,     0.95095,     0.95195,     0.95295,     0.95395,     0.95495,     0.95596,     0.95696,     0.95796,     0.95896,     0.95996,\n",
       "           0.96096,     0.96196,     0.96296,     0.96396,     0.96496,     0.96597,     0.96697,     0.96797,     0.96897,     0.96997,     0.97097,     0.97197,     0.97297,     0.97397,     0.97497,     0.97598,     0.97698,     0.97798,     0.97898,     0.97998,     0.98098,     0.98198,     0.98298,     0.98398,\n",
       "           0.98498,     0.98599,     0.98699,     0.98799,     0.98899,     0.98999,     0.99099,     0.99199,     0.99299,     0.99399,     0.99499,       0.996,       0.997,       0.998,       0.999,           1]), array([[    0.37288,     0.37288,     0.37288,     0.37288,     0.37288,     0.37288,     0.37288,     0.37288,     0.37288,     0.37288,     0.37288,     0.37288,     0.37288,     0.37288,     0.37288,     0.37288,     0.37288,     0.37288,     0.37288,     0.37288,     0.37288,     0.37288,     0.37288,\n",
       "            0.37288,     0.37288,     0.37288,     0.37288,     0.37288,     0.37288,     0.37288,     0.37288,     0.37288,     0.37288,     0.37288,     0.37288,     0.37288,     0.37288,     0.37288,     0.37288,     0.37288,     0.37288,     0.37288,     0.37288,     0.37288,     0.37288,     0.37288,\n",
       "            0.34824,     0.34824,     0.34824,     0.34824,     0.34824,     0.34824,     0.34824,     0.34824,     0.34824,     0.34824,     0.34824,     0.34824,     0.34824,     0.34824,     0.34824,     0.34824,     0.34824,     0.34824,     0.34824,     0.34824,     0.34824,     0.34824,     0.34824,\n",
       "            0.34824,     0.34824,     0.34824,     0.34824,     0.34824,     0.34824,     0.34824,     0.34824,     0.34824,     0.34824,     0.34824,     0.34824,     0.34824,     0.34824,     0.34824,     0.34824,     0.34824,     0.34824,     0.34824,     0.34824,     0.34824,     0.34824,     0.34824,\n",
       "            0.34824,     0.34824,     0.34824,     0.34824,     0.34824,     0.34824,     0.34824,     0.34824,     0.34824,     0.34824,     0.34824,     0.34824,     0.34824,     0.34824,     0.34824,     0.34824,     0.34824,     0.34824,     0.34824,     0.34824,     0.34824,     0.34824,     0.34824,\n",
       "            0.34824,     0.34824,     0.34824,     0.34824,     0.34824,     0.34824,     0.34824,     0.34824,     0.34824,     0.34824,     0.34824,     0.34824,     0.34824,     0.34824,     0.34824,     0.34824,     0.34824,     0.34824,     0.34824,     0.34824,     0.34824,     0.34824,     0.34824,\n",
       "            0.34824,     0.34824,     0.34824,     0.34824,     0.34824,     0.34824,     0.34824,     0.34824,     0.34824,     0.34824,     0.34824,     0.34824,     0.34824,     0.34824,     0.34824,     0.34824,     0.34824,     0.34824,     0.34824,     0.34824,     0.34824,     0.34824,     0.34824,\n",
       "            0.34824,     0.34824,     0.34824,     0.34824,     0.34824,     0.34824,     0.34824,     0.34824,     0.34824,     0.34824,     0.34824,     0.34824,     0.34824,     0.34824,     0.34824,     0.34824,     0.34824,     0.34824,     0.34824,     0.34824,     0.34824,     0.34824,     0.34824,\n",
       "            0.34824,     0.34824,     0.34824,     0.34824,     0.34824,     0.34824,     0.34824,     0.34824,     0.34824,     0.34824,     0.34824,     0.34824,     0.34824,     0.34824,     0.34824,     0.34824,     0.34824,     0.34824,     0.34824,     0.34824,     0.34824,     0.34824,     0.34824,\n",
       "            0.34824,     0.34824,     0.34824,     0.34824,     0.34824,     0.34824,     0.34824,     0.34824,     0.34824,     0.34824,     0.34824,     0.34824,     0.34824,     0.34824,     0.34824,     0.34824,     0.34824,     0.34824,     0.34824,     0.34824,     0.34824,     0.34824,     0.34824,\n",
       "            0.34824,     0.34824,     0.34824,     0.34824,     0.34824,     0.34824,     0.34824,     0.34824,     0.34824,     0.34824,     0.34824,     0.34824,     0.34824,     0.34824,     0.34824,     0.34824,     0.34824,     0.34824,     0.34824,     0.34824,     0.34824,     0.34824,     0.34824,\n",
       "            0.34824,     0.34824,     0.34824,     0.34824,     0.34824,     0.34824,     0.34824,     0.34824,     0.34824,     0.34824,     0.34824,     0.34824,     0.34824,     0.34824,     0.34824,     0.34824,     0.34824,     0.34824,     0.34824,     0.34824,     0.34824,     0.34824,     0.34824,\n",
       "            0.34824,     0.34824,     0.34824,     0.34824,     0.34824,     0.34824,     0.34824,     0.34824,     0.34824,     0.34824,     0.34824,     0.34824,     0.34824,     0.34824,     0.34824,     0.34824,     0.34824,     0.34824,     0.34824,     0.34824,     0.34824,     0.34824,     0.34824,\n",
       "            0.34824,     0.34824,     0.34824,     0.34824,     0.34824,     0.34824,     0.34824,     0.34713,     0.34713,     0.34713,     0.34713,     0.34713,     0.34713,     0.34638,     0.34638,     0.34638,     0.34638,     0.34638,     0.34638,     0.34638,     0.34638,     0.34638,     0.34638,\n",
       "            0.34638,     0.34638,     0.34638,     0.34638,     0.34638,     0.34638,     0.34638,     0.34638,     0.34638,     0.34638,     0.34638,     0.34638,     0.34638,     0.34638,     0.34638,     0.34638,     0.34638,     0.34638,     0.34638,     0.34638,     0.34638,     0.34638,     0.34638,\n",
       "            0.34638,     0.34638,     0.34638,     0.34638,     0.34638,     0.34638,     0.34638,     0.34638,     0.34638,     0.34638,     0.34638,     0.34638,     0.34638,     0.34638,     0.34638,     0.34638,     0.34638,     0.34638,     0.34638,     0.34638,     0.34638,      0.3463,      0.3463,\n",
       "            0.34615,     0.34615,     0.34615,     0.34615,     0.34345,     0.34345,     0.34275,     0.34275,     0.34206,     0.34206,     0.34153,     0.34153,     0.34153,     0.34153,     0.34153,     0.34153,     0.34153,     0.34153,     0.34153,     0.34153,     0.34153,     0.34153,     0.34153,\n",
       "            0.34153,     0.34153,     0.34153,     0.34153,     0.34153,     0.34153,     0.34153,     0.34153,     0.34153,     0.34153,     0.34153,     0.34153,     0.34153,     0.34153,     0.34153,     0.34153,     0.34153,     0.34153,     0.34153,     0.34153,     0.34153,     0.34153,     0.34153,\n",
       "            0.34153,     0.34153,     0.34153,     0.34153,     0.34153,     0.34153,     0.34153,     0.34153,     0.34153,     0.34153,     0.34153,     0.34153,     0.34153,     0.34153,     0.34153,     0.34153,     0.34153,     0.34153,     0.34153,     0.34153,     0.34153,     0.34153,     0.34153,\n",
       "            0.34153,     0.34153,     0.34153,     0.34153,     0.34153,     0.34153,     0.34153,     0.34153,     0.34153,     0.34153,     0.34153,     0.34153,     0.34153,     0.34153,     0.34153,     0.34153,     0.34153,     0.34153,     0.34153,     0.34153,     0.34153,     0.34153,     0.34153,\n",
       "            0.34153,     0.34153,     0.34153,     0.34153,     0.34153,     0.34153,     0.34153,     0.34153,     0.34153,     0.34153,     0.34153,     0.34153,     0.34153,     0.34153,     0.34153,     0.34153,     0.34153,     0.34153,     0.34153,     0.34153,     0.34153,     0.34153,     0.34153,\n",
       "            0.34153,     0.34153,     0.34153,     0.34153,     0.34153,     0.34153,     0.34153,     0.34153,     0.34153,     0.34153,     0.34153,     0.34153,     0.34153,     0.34153,     0.34153,     0.34153,     0.34153,     0.34153,     0.34153,     0.34153,     0.34153,     0.34153,     0.34153,\n",
       "            0.34153,     0.34153,     0.34153,     0.34153,     0.34153,     0.34153,     0.34153,     0.34153,     0.34153,     0.34153,     0.34153,     0.34153,     0.34153,     0.34153,     0.34153,     0.34153,     0.34153,     0.34153,     0.34153,     0.34153,     0.34153,     0.34153,     0.34153,\n",
       "            0.34153,     0.34153,     0.34153,     0.34153,     0.34153,     0.34153,     0.34153,     0.34153,     0.34153,     0.34153,     0.34153,     0.34153,     0.34153,     0.34153,     0.34153,     0.34153,     0.34088,     0.34088,     0.34088,     0.34088,     0.34088,     0.34088,     0.34088,\n",
       "            0.34088,     0.34088,     0.34088,     0.34088,     0.34088,     0.34088,     0.34088,     0.34088,     0.34077,     0.34077,     0.34077,     0.34077,     0.34077,     0.34077,     0.34077,     0.34077,     0.33946,     0.33946,     0.33946,     0.33946,       0.339,       0.339,       0.339,\n",
       "              0.339,     0.33412,     0.33412,     0.33412,     0.33412,     0.33412,     0.33412,     0.33412,     0.33296,     0.33296,     0.33296,     0.33296,     0.33296,     0.33296,     0.33296,     0.33296,     0.33296,     0.33296,     0.33296,     0.33296,     0.33296,     0.33296,     0.33296,\n",
       "            0.33296,     0.33296,     0.33296,     0.33296,     0.33296,     0.33296,     0.33296,     0.33296,     0.33296,     0.33296,     0.33296,     0.33296,     0.33296,     0.33296,     0.33296,     0.33296,     0.33296,     0.33296,     0.33296,     0.33296,     0.33166,     0.33166,     0.33166,\n",
       "            0.33166,     0.33166,     0.33166,     0.33166,     0.33166,     0.33166,     0.33166,     0.33166,     0.33166,     0.33166,     0.33166,     0.33166,     0.33166,     0.33166,     0.33166,     0.33166,     0.33166,     0.33166,     0.33166,     0.33166,     0.33166,     0.33166,     0.33166,\n",
       "            0.33166,     0.33166,     0.33166,     0.33166,     0.33166,     0.33166,     0.33166,     0.33166,     0.33166,     0.33166,     0.33166,     0.33166,     0.33166,     0.33166,     0.33166,     0.33166,     0.33166,     0.33166,     0.33166,     0.33166,     0.33166,     0.33166,     0.33166,\n",
       "            0.33166,     0.33166,     0.33166,     0.33166,     0.33166,     0.33166,     0.33166,     0.33166,     0.33166,     0.33166,     0.33166,     0.33166,     0.33166,     0.33166,     0.33166,     0.33166,     0.33166,     0.33101,     0.33101,     0.33037,     0.33037,     0.33037,     0.33037,\n",
       "            0.32908,     0.32908,     0.32877,     0.32877,     0.32784,     0.32784,     0.32784,     0.32784,     0.32699,     0.32699,     0.32699,     0.32699,     0.32699,     0.32699,     0.32699,     0.32699,     0.32699,     0.32699,     0.32699,     0.32699,     0.32699,     0.32699,     0.32699,\n",
       "            0.32699,     0.32699,     0.32699,     0.32699,     0.32699,     0.32699,     0.32699,     0.32699,     0.32699,     0.32699,     0.32699,     0.32699,     0.32699,     0.32699,     0.32699,     0.32699,     0.32699,     0.32699,     0.32699,     0.32699,     0.32699,     0.32699,     0.32699,\n",
       "            0.32699,     0.32699,     0.32699,     0.32699,     0.32699,     0.32699,     0.32699,     0.32699,     0.32699,     0.32699,     0.32679,     0.32679,     0.32679,     0.32679,     0.32679,     0.32679,     0.32679,     0.32679,     0.32679,     0.32679,     0.32651,     0.32651,     0.32601,\n",
       "            0.32601,     0.32601,     0.32601,     0.32601,     0.32601,     0.32601,     0.32601,     0.32528,     0.32528,     0.32528,     0.32528,     0.32528,     0.32528,     0.32528,     0.32528,     0.32528,     0.32528,     0.32528,     0.32528,     0.32528,     0.32255,     0.32255,     0.32255,\n",
       "            0.32255,     0.32169,     0.32169,     0.32169,     0.32169,     0.32169,     0.32169,     0.32169,     0.32169,     0.32169,     0.32169,     0.32169,     0.32169,     0.32169,     0.32169,     0.32169,     0.32169,     0.32169,     0.32169,     0.32169,     0.32169,     0.32169,     0.32169,\n",
       "            0.32169,     0.32169,     0.32169,     0.32169,     0.32169,     0.32169,     0.32169,     0.32169,     0.32169,     0.32169,     0.32169,     0.32169,     0.32169,     0.31939,     0.31939,     0.31738,     0.31738,     0.31467,     0.31467,     0.31451,     0.31451,     0.31451,     0.31451,\n",
       "            0.31431,     0.31431,     0.31415,     0.31415,     0.31415,     0.31415,     0.31327,     0.31327,     0.31327,     0.31327,     0.31327,     0.31003,     0.31003,     0.31003,     0.31003,     0.30961,     0.30961,      0.3096,      0.3096,      0.3096,      0.3096,      0.3096,      0.3096,\n",
       "             0.3096,      0.3096,     0.30786,     0.30786,     0.30786,     0.30786,     0.30588,     0.30588,     0.30482,     0.30482,     0.30451,     0.30451,     0.30451,     0.30451,     0.30403,     0.30403,     0.30403,     0.30403,     0.30403,     0.30403,     0.30403,     0.30021,     0.30021,\n",
       "            0.29901,     0.29901,     0.29825,     0.29825,     0.29319,     0.29319,     0.29287,     0.29287,     0.29093,     0.29093,     0.29093,     0.29093,     0.29093,     0.29093,     0.28868,     0.28868,     0.28723,     0.28723,     0.28393,     0.28393,     0.28311,     0.28311,     0.27956,\n",
       "            0.27956,     0.27788,     0.27788,     0.27743,     0.27743,     0.27743,     0.27743,     0.27743,     0.27743,     0.27743,     0.27743,     0.27743,     0.27718,     0.27718,     0.25803,     0.25803,     0.25518,     0.25518,     0.24209,     0.24209,     0.23533,     0.23533,     0.22617,\n",
       "            0.22617,      0.2261,      0.2261,     0.22102,     0.22102,      0.2201,      0.2201,     0.21792,     0.21792,      0.2088,      0.2088,     0.20732,     0.20732,     0.20732,     0.20732,     0.20732,     0.20018,     0.20018,     0.19545,     0.19545,     0.17124,     0.17124,     0.17001,\n",
       "            0.17001,     0.16994,     0.16994,     0.16969,     0.16969,     0.16612,     0.16612,     0.15275,     0.15275,     0.14713,     0.14713,     0.14176,     0.14176,     0.13777,     0.13777,      0.1368,      0.1368,     0.13347,     0.13347,     0.13347,     0.13347,     0.12847,     0.12847,\n",
       "             0.1252,      0.1252,      0.1252,     0.12447,     0.12447,      0.1224,      0.1224,     0.10757,     0.10757,     0.10757,     0.10757,     0.10519,     0.10519,     0.10119,     0.10119,     0.10053,     0.10053,    0.090633,    0.090633,    0.090633,    0.090633,    0.082288,    0.082288,\n",
       "           0.080483,    0.080483,    0.067452,    0.067452,    0.049944,     0.04162,    0.033296,    0.024972,    0.016648,   0.0083239,           0]]), 'Recall', 'Precision'], [array([          0,    0.001001,    0.002002,    0.003003,    0.004004,    0.005005,    0.006006,    0.007007,    0.008008,    0.009009,     0.01001,    0.011011,    0.012012,    0.013013,    0.014014,    0.015015,    0.016016,    0.017017,    0.018018,    0.019019,     0.02002,    0.021021,    0.022022,    0.023023,\n",
       "          0.024024,    0.025025,    0.026026,    0.027027,    0.028028,    0.029029,     0.03003,    0.031031,    0.032032,    0.033033,    0.034034,    0.035035,    0.036036,    0.037037,    0.038038,    0.039039,     0.04004,    0.041041,    0.042042,    0.043043,    0.044044,    0.045045,    0.046046,    0.047047,\n",
       "          0.048048,    0.049049,     0.05005,    0.051051,    0.052052,    0.053053,    0.054054,    0.055055,    0.056056,    0.057057,    0.058058,    0.059059,     0.06006,    0.061061,    0.062062,    0.063063,    0.064064,    0.065065,    0.066066,    0.067067,    0.068068,    0.069069,     0.07007,    0.071071,\n",
       "          0.072072,    0.073073,    0.074074,    0.075075,    0.076076,    0.077077,    0.078078,    0.079079,     0.08008,    0.081081,    0.082082,    0.083083,    0.084084,    0.085085,    0.086086,    0.087087,    0.088088,    0.089089,     0.09009,    0.091091,    0.092092,    0.093093,    0.094094,    0.095095,\n",
       "          0.096096,    0.097097,    0.098098,    0.099099,      0.1001,      0.1011,      0.1021,      0.1031,      0.1041,     0.10511,     0.10611,     0.10711,     0.10811,     0.10911,     0.11011,     0.11111,     0.11211,     0.11311,     0.11411,     0.11512,     0.11612,     0.11712,     0.11812,     0.11912,\n",
       "           0.12012,     0.12112,     0.12212,     0.12312,     0.12412,     0.12513,     0.12613,     0.12713,     0.12813,     0.12913,     0.13013,     0.13113,     0.13213,     0.13313,     0.13413,     0.13514,     0.13614,     0.13714,     0.13814,     0.13914,     0.14014,     0.14114,     0.14214,     0.14314,\n",
       "           0.14414,     0.14515,     0.14615,     0.14715,     0.14815,     0.14915,     0.15015,     0.15115,     0.15215,     0.15315,     0.15415,     0.15516,     0.15616,     0.15716,     0.15816,     0.15916,     0.16016,     0.16116,     0.16216,     0.16316,     0.16416,     0.16517,     0.16617,     0.16717,\n",
       "           0.16817,     0.16917,     0.17017,     0.17117,     0.17217,     0.17317,     0.17417,     0.17518,     0.17618,     0.17718,     0.17818,     0.17918,     0.18018,     0.18118,     0.18218,     0.18318,     0.18418,     0.18519,     0.18619,     0.18719,     0.18819,     0.18919,     0.19019,     0.19119,\n",
       "           0.19219,     0.19319,     0.19419,      0.1952,      0.1962,      0.1972,      0.1982,      0.1992,      0.2002,      0.2012,      0.2022,      0.2032,      0.2042,     0.20521,     0.20621,     0.20721,     0.20821,     0.20921,     0.21021,     0.21121,     0.21221,     0.21321,     0.21421,     0.21522,\n",
       "           0.21622,     0.21722,     0.21822,     0.21922,     0.22022,     0.22122,     0.22222,     0.22322,     0.22422,     0.22523,     0.22623,     0.22723,     0.22823,     0.22923,     0.23023,     0.23123,     0.23223,     0.23323,     0.23423,     0.23524,     0.23624,     0.23724,     0.23824,     0.23924,\n",
       "           0.24024,     0.24124,     0.24224,     0.24324,     0.24424,     0.24525,     0.24625,     0.24725,     0.24825,     0.24925,     0.25025,     0.25125,     0.25225,     0.25325,     0.25425,     0.25526,     0.25626,     0.25726,     0.25826,     0.25926,     0.26026,     0.26126,     0.26226,     0.26326,\n",
       "           0.26426,     0.26527,     0.26627,     0.26727,     0.26827,     0.26927,     0.27027,     0.27127,     0.27227,     0.27327,     0.27427,     0.27528,     0.27628,     0.27728,     0.27828,     0.27928,     0.28028,     0.28128,     0.28228,     0.28328,     0.28428,     0.28529,     0.28629,     0.28729,\n",
       "           0.28829,     0.28929,     0.29029,     0.29129,     0.29229,     0.29329,     0.29429,      0.2953,      0.2963,      0.2973,      0.2983,      0.2993,      0.3003,      0.3013,      0.3023,      0.3033,      0.3043,     0.30531,     0.30631,     0.30731,     0.30831,     0.30931,     0.31031,     0.31131,\n",
       "           0.31231,     0.31331,     0.31431,     0.31532,     0.31632,     0.31732,     0.31832,     0.31932,     0.32032,     0.32132,     0.32232,     0.32332,     0.32432,     0.32533,     0.32633,     0.32733,     0.32833,     0.32933,     0.33033,     0.33133,     0.33233,     0.33333,     0.33433,     0.33534,\n",
       "           0.33634,     0.33734,     0.33834,     0.33934,     0.34034,     0.34134,     0.34234,     0.34334,     0.34434,     0.34535,     0.34635,     0.34735,     0.34835,     0.34935,     0.35035,     0.35135,     0.35235,     0.35335,     0.35435,     0.35536,     0.35636,     0.35736,     0.35836,     0.35936,\n",
       "           0.36036,     0.36136,     0.36236,     0.36336,     0.36436,     0.36537,     0.36637,     0.36737,     0.36837,     0.36937,     0.37037,     0.37137,     0.37237,     0.37337,     0.37437,     0.37538,     0.37638,     0.37738,     0.37838,     0.37938,     0.38038,     0.38138,     0.38238,     0.38338,\n",
       "           0.38438,     0.38539,     0.38639,     0.38739,     0.38839,     0.38939,     0.39039,     0.39139,     0.39239,     0.39339,     0.39439,      0.3954,      0.3964,      0.3974,      0.3984,      0.3994,      0.4004,      0.4014,      0.4024,      0.4034,      0.4044,     0.40541,     0.40641,     0.40741,\n",
       "           0.40841,     0.40941,     0.41041,     0.41141,     0.41241,     0.41341,     0.41441,     0.41542,     0.41642,     0.41742,     0.41842,     0.41942,     0.42042,     0.42142,     0.42242,     0.42342,     0.42442,     0.42543,     0.42643,     0.42743,     0.42843,     0.42943,     0.43043,     0.43143,\n",
       "           0.43243,     0.43343,     0.43443,     0.43544,     0.43644,     0.43744,     0.43844,     0.43944,     0.44044,     0.44144,     0.44244,     0.44344,     0.44444,     0.44545,     0.44645,     0.44745,     0.44845,     0.44945,     0.45045,     0.45145,     0.45245,     0.45345,     0.45445,     0.45546,\n",
       "           0.45646,     0.45746,     0.45846,     0.45946,     0.46046,     0.46146,     0.46246,     0.46346,     0.46446,     0.46547,     0.46647,     0.46747,     0.46847,     0.46947,     0.47047,     0.47147,     0.47247,     0.47347,     0.47447,     0.47548,     0.47648,     0.47748,     0.47848,     0.47948,\n",
       "           0.48048,     0.48148,     0.48248,     0.48348,     0.48448,     0.48549,     0.48649,     0.48749,     0.48849,     0.48949,     0.49049,     0.49149,     0.49249,     0.49349,     0.49449,      0.4955,      0.4965,      0.4975,      0.4985,      0.4995,      0.5005,      0.5015,      0.5025,      0.5035,\n",
       "            0.5045,     0.50551,     0.50651,     0.50751,     0.50851,     0.50951,     0.51051,     0.51151,     0.51251,     0.51351,     0.51451,     0.51552,     0.51652,     0.51752,     0.51852,     0.51952,     0.52052,     0.52152,     0.52252,     0.52352,     0.52452,     0.52553,     0.52653,     0.52753,\n",
       "           0.52853,     0.52953,     0.53053,     0.53153,     0.53253,     0.53353,     0.53453,     0.53554,     0.53654,     0.53754,     0.53854,     0.53954,     0.54054,     0.54154,     0.54254,     0.54354,     0.54454,     0.54555,     0.54655,     0.54755,     0.54855,     0.54955,     0.55055,     0.55155,\n",
       "           0.55255,     0.55355,     0.55455,     0.55556,     0.55656,     0.55756,     0.55856,     0.55956,     0.56056,     0.56156,     0.56256,     0.56356,     0.56456,     0.56557,     0.56657,     0.56757,     0.56857,     0.56957,     0.57057,     0.57157,     0.57257,     0.57357,     0.57457,     0.57558,\n",
       "           0.57658,     0.57758,     0.57858,     0.57958,     0.58058,     0.58158,     0.58258,     0.58358,     0.58458,     0.58559,     0.58659,     0.58759,     0.58859,     0.58959,     0.59059,     0.59159,     0.59259,     0.59359,     0.59459,      0.5956,      0.5966,      0.5976,      0.5986,      0.5996,\n",
       "            0.6006,      0.6016,      0.6026,      0.6036,      0.6046,     0.60561,     0.60661,     0.60761,     0.60861,     0.60961,     0.61061,     0.61161,     0.61261,     0.61361,     0.61461,     0.61562,     0.61662,     0.61762,     0.61862,     0.61962,     0.62062,     0.62162,     0.62262,     0.62362,\n",
       "           0.62462,     0.62563,     0.62663,     0.62763,     0.62863,     0.62963,     0.63063,     0.63163,     0.63263,     0.63363,     0.63463,     0.63564,     0.63664,     0.63764,     0.63864,     0.63964,     0.64064,     0.64164,     0.64264,     0.64364,     0.64464,     0.64565,     0.64665,     0.64765,\n",
       "           0.64865,     0.64965,     0.65065,     0.65165,     0.65265,     0.65365,     0.65465,     0.65566,     0.65666,     0.65766,     0.65866,     0.65966,     0.66066,     0.66166,     0.66266,     0.66366,     0.66466,     0.66567,     0.66667,     0.66767,     0.66867,     0.66967,     0.67067,     0.67167,\n",
       "           0.67267,     0.67367,     0.67467,     0.67568,     0.67668,     0.67768,     0.67868,     0.67968,     0.68068,     0.68168,     0.68268,     0.68368,     0.68468,     0.68569,     0.68669,     0.68769,     0.68869,     0.68969,     0.69069,     0.69169,     0.69269,     0.69369,     0.69469,      0.6957,\n",
       "            0.6967,      0.6977,      0.6987,      0.6997,      0.7007,      0.7017,      0.7027,      0.7037,      0.7047,     0.70571,     0.70671,     0.70771,     0.70871,     0.70971,     0.71071,     0.71171,     0.71271,     0.71371,     0.71471,     0.71572,     0.71672,     0.71772,     0.71872,     0.71972,\n",
       "           0.72072,     0.72172,     0.72272,     0.72372,     0.72472,     0.72573,     0.72673,     0.72773,     0.72873,     0.72973,     0.73073,     0.73173,     0.73273,     0.73373,     0.73473,     0.73574,     0.73674,     0.73774,     0.73874,     0.73974,     0.74074,     0.74174,     0.74274,     0.74374,\n",
       "           0.74474,     0.74575,     0.74675,     0.74775,     0.74875,     0.74975,     0.75075,     0.75175,     0.75275,     0.75375,     0.75475,     0.75576,     0.75676,     0.75776,     0.75876,     0.75976,     0.76076,     0.76176,     0.76276,     0.76376,     0.76476,     0.76577,     0.76677,     0.76777,\n",
       "           0.76877,     0.76977,     0.77077,     0.77177,     0.77277,     0.77377,     0.77477,     0.77578,     0.77678,     0.77778,     0.77878,     0.77978,     0.78078,     0.78178,     0.78278,     0.78378,     0.78478,     0.78579,     0.78679,     0.78779,     0.78879,     0.78979,     0.79079,     0.79179,\n",
       "           0.79279,     0.79379,     0.79479,      0.7958,      0.7968,      0.7978,      0.7988,      0.7998,      0.8008,      0.8018,      0.8028,      0.8038,      0.8048,     0.80581,     0.80681,     0.80781,     0.80881,     0.80981,     0.81081,     0.81181,     0.81281,     0.81381,     0.81481,     0.81582,\n",
       "           0.81682,     0.81782,     0.81882,     0.81982,     0.82082,     0.82182,     0.82282,     0.82382,     0.82482,     0.82583,     0.82683,     0.82783,     0.82883,     0.82983,     0.83083,     0.83183,     0.83283,     0.83383,     0.83483,     0.83584,     0.83684,     0.83784,     0.83884,     0.83984,\n",
       "           0.84084,     0.84184,     0.84284,     0.84384,     0.84484,     0.84585,     0.84685,     0.84785,     0.84885,     0.84985,     0.85085,     0.85185,     0.85285,     0.85385,     0.85485,     0.85586,     0.85686,     0.85786,     0.85886,     0.85986,     0.86086,     0.86186,     0.86286,     0.86386,\n",
       "           0.86486,     0.86587,     0.86687,     0.86787,     0.86887,     0.86987,     0.87087,     0.87187,     0.87287,     0.87387,     0.87487,     0.87588,     0.87688,     0.87788,     0.87888,     0.87988,     0.88088,     0.88188,     0.88288,     0.88388,     0.88488,     0.88589,     0.88689,     0.88789,\n",
       "           0.88889,     0.88989,     0.89089,     0.89189,     0.89289,     0.89389,     0.89489,      0.8959,      0.8969,      0.8979,      0.8989,      0.8999,      0.9009,      0.9019,      0.9029,      0.9039,      0.9049,     0.90591,     0.90691,     0.90791,     0.90891,     0.90991,     0.91091,     0.91191,\n",
       "           0.91291,     0.91391,     0.91491,     0.91592,     0.91692,     0.91792,     0.91892,     0.91992,     0.92092,     0.92192,     0.92292,     0.92392,     0.92492,     0.92593,     0.92693,     0.92793,     0.92893,     0.92993,     0.93093,     0.93193,     0.93293,     0.93393,     0.93493,     0.93594,\n",
       "           0.93694,     0.93794,     0.93894,     0.93994,     0.94094,     0.94194,     0.94294,     0.94394,     0.94494,     0.94595,     0.94695,     0.94795,     0.94895,     0.94995,     0.95095,     0.95195,     0.95295,     0.95395,     0.95495,     0.95596,     0.95696,     0.95796,     0.95896,     0.95996,\n",
       "           0.96096,     0.96196,     0.96296,     0.96396,     0.96496,     0.96597,     0.96697,     0.96797,     0.96897,     0.96997,     0.97097,     0.97197,     0.97297,     0.97397,     0.97497,     0.97598,     0.97698,     0.97798,     0.97898,     0.97998,     0.98098,     0.98198,     0.98298,     0.98398,\n",
       "           0.98498,     0.98599,     0.98699,     0.98799,     0.98899,     0.98999,     0.99099,     0.99199,     0.99299,     0.99399,     0.99499,       0.996,       0.997,       0.998,       0.999,           1]), array([[   0.098003,    0.098003,     0.11586,     0.12666,     0.13436,      0.1407,     0.14521,     0.14894,     0.15226,     0.15559,     0.15862,     0.16107,     0.16345,     0.16568,      0.1667,     0.16853,     0.17018,     0.17217,     0.17401,     0.17552,     0.17681,       0.178,     0.17906,\n",
       "            0.18051,     0.18163,     0.18227,     0.18313,     0.18348,     0.18452,     0.18528,     0.18617,     0.18715,     0.18816,     0.18923,     0.19005,     0.19099,     0.19191,      0.1927,     0.19366,      0.1941,     0.19472,      0.1953,     0.19606,     0.19703,     0.19778,     0.19887,\n",
       "            0.19988,      0.2007,     0.20135,     0.20223,     0.20282,     0.20389,     0.20483,     0.20542,     0.20646,     0.20709,     0.20777,     0.20924,     0.20969,     0.21061,     0.21139,     0.21237,      0.2136,     0.21463,     0.21543,     0.21659,     0.21729,     0.21799,     0.21902,\n",
       "            0.21974,      0.2203,     0.22071,     0.22164,     0.22247,     0.22336,     0.22453,     0.22526,     0.22589,     0.22655,     0.22739,     0.22903,     0.23042,     0.23153,     0.23264,     0.23378,     0.23414,     0.23534,     0.23643,     0.23783,     0.23925,     0.23986,     0.24086,\n",
       "            0.24109,     0.24249,     0.24345,     0.24473,     0.24649,     0.24654,     0.24766,     0.24832,     0.24992,     0.25106,     0.25194,     0.25296,     0.25384,     0.25467,       0.256,     0.25791,     0.25933,      0.2613,     0.26327,     0.26343,     0.26462,     0.26596,      0.2677,\n",
       "            0.26845,     0.27022,      0.2721,     0.27367,     0.27478,     0.27638,     0.27766,     0.27938,     0.28044,      0.2815,     0.28281,     0.28258,     0.28358,      0.2852,     0.28656,     0.28739,     0.28795,     0.28953,     0.29031,     0.29219,     0.29353,     0.29546,     0.29643,\n",
       "             0.2983,     0.30047,     0.30187,     0.30351,     0.30474,     0.30598,     0.30712,     0.30974,     0.31122,     0.31219,     0.31424,     0.31589,     0.31698,     0.31844,     0.32057,     0.32283,     0.32419,     0.32559,     0.32698,     0.32864,     0.32945,     0.33077,      0.3322,\n",
       "            0.33378,     0.33538,     0.33748,     0.33861,       0.339,     0.34066,     0.34115,     0.34256,     0.34424,     0.34568,     0.34726,     0.34885,     0.34961,     0.35178,     0.35304,     0.35453,     0.35549,     0.35678,      0.3578,     0.35935,      0.3609,     0.36133,     0.36243,\n",
       "            0.36262,     0.36318,     0.36602,     0.36672,     0.36773,     0.36859,     0.36948,     0.37004,     0.37199,     0.37319,     0.37423,     0.37538,     0.37724,     0.37798,     0.37886,     0.37977,     0.38118,     0.38227,      0.3825,     0.38307,     0.38368,     0.38529,     0.38637,\n",
       "            0.38732,     0.38861,     0.38972,     0.39085,     0.39145,      0.3926,     0.39373,     0.39471,     0.39533,     0.39576,     0.39711,     0.39826,     0.39871,      0.3988,      0.4007,     0.40216,     0.40233,     0.40427,      0.4049,     0.40649,     0.40827,     0.40987,     0.41111,\n",
       "            0.41234,     0.41281,     0.41387,     0.41472,     0.41678,     0.41864,     0.41931,     0.42022,     0.42129,     0.42217,     0.42388,      0.4248,     0.42402,     0.42373,      0.4247,     0.42609,     0.42602,     0.42757,     0.42914,     0.42974,     0.43021,      0.4305,     0.43048,\n",
       "            0.43159,     0.43254,     0.43274,     0.43378,     0.43451,     0.43446,      0.4352,     0.43594,     0.43611,     0.43701,     0.43798,     0.43714,     0.43776,     0.43807,      0.4386,     0.43953,     0.43966,     0.44011,     0.44111,     0.44257,     0.44307,     0.44359,     0.44391,\n",
       "            0.44438,     0.44452,     0.44525,     0.44545,     0.44542,     0.44615,     0.44658,     0.44714,     0.44765,     0.44866,      0.4497,        0.45,     0.45021,     0.45037,     0.44861,     0.44894,     0.44999,      0.4505,     0.44947,     0.44965,     0.44979,     0.44971,     0.45045,\n",
       "            0.45093,     0.45097,     0.45224,     0.45252,     0.45411,     0.45425,     0.45356,     0.45331,     0.45362,     0.45249,     0.45241,     0.45229,     0.45229,     0.45263,     0.45341,     0.45448,     0.45547,     0.45562,     0.45555,     0.45546,     0.45481,     0.45561,     0.45592,\n",
       "            0.45562,      0.4559,     0.45515,     0.45595,     0.45732,     0.45726,     0.45782,     0.45842,     0.46047,     0.46135,     0.45964,       0.458,     0.45765,     0.45752,     0.45742,     0.45626,     0.45451,     0.45424,     0.45643,     0.45624,     0.45526,     0.45657,     0.45637,\n",
       "            0.45539,      0.4529,     0.45368,     0.45357,     0.44919,     0.44659,     0.44398,     0.44612,     0.44587,     0.44575,     0.44111,     0.43943,     0.43408,     0.43199,     0.43134,     0.42277,     0.42436,      0.4256,      0.4205,     0.41113,     0.39559,     0.39383,     0.38929,\n",
       "            0.37916,     0.37039,     0.36287,     0.36148,     0.35782,     0.34843,     0.33874,     0.33213,     0.31952,     0.28983,     0.26563,     0.26506,     0.24043,     0.22717,     0.20718,     0.19737,     0.18573,     0.16577,     0.15086,     0.15157,     0.13719,     0.11398,    0.092626,\n",
       "           0.087418,    0.084516,    0.082302,    0.082905,    0.068993,    0.060197,    0.040512,     0.02908,    0.023233,    0.020686,    0.019523,    0.019547,    0.019566,     0.01248,    0.011997,     0.01207,    0.011773,   0.0097064,    0.007828,   0.0064394,   0.0050504,   0.0040831,   0.0040875,\n",
       "          0.0040945,   0.0041042,   0.0027507,  0.00064592,           0,           0,           0,           0,           0,           0,           0,           0,           0,           0,           0,           0,           0,           0,           0,           0,           0,           0,           0,\n",
       "                  0,           0,           0,           0,           0,           0,           0,           0,           0,           0,           0,           0,           0,           0,           0,           0,           0,           0,           0,           0,           0,           0,           0,\n",
       "                  0,           0,           0,           0,           0,           0,           0,           0,           0,           0,           0,           0,           0,           0,           0,           0,           0,           0,           0,           0,           0,           0,           0,\n",
       "                  0,           0,           0,           0,           0,           0,           0,           0,           0,           0,           0,           0,           0,           0,           0,           0,           0,           0,           0,           0,           0,           0,           0,\n",
       "                  0,           0,           0,           0,           0,           0,           0,           0,           0,           0,           0,           0,           0,           0,           0,           0,           0,           0,           0,           0,           0,           0,           0,\n",
       "                  0,           0,           0,           0,           0,           0,           0,           0,           0,           0,           0,           0,           0,           0,           0,           0,           0,           0,           0,           0,           0,           0,           0,\n",
       "                  0,           0,           0,           0,           0,           0,           0,           0,           0,           0,           0,           0,           0,           0,           0,           0,           0,           0,           0,           0,           0,           0,           0,\n",
       "                  0,           0,           0,           0,           0,           0,           0,           0,           0,           0,           0,           0,           0,           0,           0,           0,           0,           0,           0,           0,           0,           0,           0,\n",
       "                  0,           0,           0,           0,           0,           0,           0,           0,           0,           0,           0,           0,           0,           0,           0,           0,           0,           0,           0,           0,           0,           0,           0,\n",
       "                  0,           0,           0,           0,           0,           0,           0,           0,           0,           0,           0,           0,           0,           0,           0,           0,           0,           0,           0,           0,           0,           0,           0,\n",
       "                  0,           0,           0,           0,           0,           0,           0,           0,           0,           0,           0,           0,           0,           0,           0,           0,           0,           0,           0,           0,           0,           0,           0,\n",
       "                  0,           0,           0,           0,           0,           0,           0,           0,           0,           0,           0,           0,           0,           0,           0,           0,           0,           0,           0,           0,           0,           0,           0,\n",
       "                  0,           0,           0,           0,           0,           0,           0,           0,           0,           0,           0,           0,           0,           0,           0,           0,           0,           0,           0,           0,           0,           0,           0,\n",
       "                  0,           0,           0,           0,           0,           0,           0,           0,           0,           0,           0,           0,           0,           0,           0,           0,           0,           0,           0,           0,           0,           0,           0,\n",
       "                  0,           0,           0,           0,           0,           0,           0,           0,           0,           0,           0,           0,           0,           0,           0,           0,           0,           0,           0,           0,           0,           0,           0,\n",
       "                  0,           0,           0,           0,           0,           0,           0,           0,           0,           0,           0,           0,           0,           0,           0,           0,           0,           0,           0,           0,           0,           0,           0,\n",
       "                  0,           0,           0,           0,           0,           0,           0,           0,           0,           0,           0,           0,           0,           0,           0,           0,           0,           0,           0,           0,           0,           0,           0,\n",
       "                  0,           0,           0,           0,           0,           0,           0,           0,           0,           0,           0,           0,           0,           0,           0,           0,           0,           0,           0,           0,           0,           0,           0,\n",
       "                  0,           0,           0,           0,           0,           0,           0,           0,           0,           0,           0,           0,           0,           0,           0,           0,           0,           0,           0,           0,           0,           0,           0,\n",
       "                  0,           0,           0,           0,           0,           0,           0,           0,           0,           0,           0,           0,           0,           0,           0,           0,           0,           0,           0,           0,           0,           0,           0,\n",
       "                  0,           0,           0,           0,           0,           0,           0,           0,           0,           0,           0,           0,           0,           0,           0,           0,           0,           0,           0,           0,           0,           0,           0,\n",
       "                  0,           0,           0,           0,           0,           0,           0,           0,           0,           0,           0,           0,           0,           0,           0,           0,           0,           0,           0,           0,           0,           0,           0,\n",
       "                  0,           0,           0,           0,           0,           0,           0,           0,           0,           0,           0,           0,           0,           0,           0,           0,           0,           0,           0,           0,           0,           0,           0,\n",
       "                  0,           0,           0,           0,           0,           0,           0,           0,           0,           0,           0,           0,           0,           0,           0,           0,           0,           0,           0,           0,           0,           0,           0,\n",
       "                  0,           0,           0,           0,           0,           0,           0,           0,           0,           0,           0,           0,           0,           0,           0,           0,           0,           0,           0,           0,           0,           0,           0,\n",
       "                  0,           0,           0,           0,           0,           0,           0,           0,           0,           0,           0]]), 'Confidence', 'F1'], [array([          0,    0.001001,    0.002002,    0.003003,    0.004004,    0.005005,    0.006006,    0.007007,    0.008008,    0.009009,     0.01001,    0.011011,    0.012012,    0.013013,    0.014014,    0.015015,    0.016016,    0.017017,    0.018018,    0.019019,     0.02002,    0.021021,    0.022022,    0.023023,\n",
       "          0.024024,    0.025025,    0.026026,    0.027027,    0.028028,    0.029029,     0.03003,    0.031031,    0.032032,    0.033033,    0.034034,    0.035035,    0.036036,    0.037037,    0.038038,    0.039039,     0.04004,    0.041041,    0.042042,    0.043043,    0.044044,    0.045045,    0.046046,    0.047047,\n",
       "          0.048048,    0.049049,     0.05005,    0.051051,    0.052052,    0.053053,    0.054054,    0.055055,    0.056056,    0.057057,    0.058058,    0.059059,     0.06006,    0.061061,    0.062062,    0.063063,    0.064064,    0.065065,    0.066066,    0.067067,    0.068068,    0.069069,     0.07007,    0.071071,\n",
       "          0.072072,    0.073073,    0.074074,    0.075075,    0.076076,    0.077077,    0.078078,    0.079079,     0.08008,    0.081081,    0.082082,    0.083083,    0.084084,    0.085085,    0.086086,    0.087087,    0.088088,    0.089089,     0.09009,    0.091091,    0.092092,    0.093093,    0.094094,    0.095095,\n",
       "          0.096096,    0.097097,    0.098098,    0.099099,      0.1001,      0.1011,      0.1021,      0.1031,      0.1041,     0.10511,     0.10611,     0.10711,     0.10811,     0.10911,     0.11011,     0.11111,     0.11211,     0.11311,     0.11411,     0.11512,     0.11612,     0.11712,     0.11812,     0.11912,\n",
       "           0.12012,     0.12112,     0.12212,     0.12312,     0.12412,     0.12513,     0.12613,     0.12713,     0.12813,     0.12913,     0.13013,     0.13113,     0.13213,     0.13313,     0.13413,     0.13514,     0.13614,     0.13714,     0.13814,     0.13914,     0.14014,     0.14114,     0.14214,     0.14314,\n",
       "           0.14414,     0.14515,     0.14615,     0.14715,     0.14815,     0.14915,     0.15015,     0.15115,     0.15215,     0.15315,     0.15415,     0.15516,     0.15616,     0.15716,     0.15816,     0.15916,     0.16016,     0.16116,     0.16216,     0.16316,     0.16416,     0.16517,     0.16617,     0.16717,\n",
       "           0.16817,     0.16917,     0.17017,     0.17117,     0.17217,     0.17317,     0.17417,     0.17518,     0.17618,     0.17718,     0.17818,     0.17918,     0.18018,     0.18118,     0.18218,     0.18318,     0.18418,     0.18519,     0.18619,     0.18719,     0.18819,     0.18919,     0.19019,     0.19119,\n",
       "           0.19219,     0.19319,     0.19419,      0.1952,      0.1962,      0.1972,      0.1982,      0.1992,      0.2002,      0.2012,      0.2022,      0.2032,      0.2042,     0.20521,     0.20621,     0.20721,     0.20821,     0.20921,     0.21021,     0.21121,     0.21221,     0.21321,     0.21421,     0.21522,\n",
       "           0.21622,     0.21722,     0.21822,     0.21922,     0.22022,     0.22122,     0.22222,     0.22322,     0.22422,     0.22523,     0.22623,     0.22723,     0.22823,     0.22923,     0.23023,     0.23123,     0.23223,     0.23323,     0.23423,     0.23524,     0.23624,     0.23724,     0.23824,     0.23924,\n",
       "           0.24024,     0.24124,     0.24224,     0.24324,     0.24424,     0.24525,     0.24625,     0.24725,     0.24825,     0.24925,     0.25025,     0.25125,     0.25225,     0.25325,     0.25425,     0.25526,     0.25626,     0.25726,     0.25826,     0.25926,     0.26026,     0.26126,     0.26226,     0.26326,\n",
       "           0.26426,     0.26527,     0.26627,     0.26727,     0.26827,     0.26927,     0.27027,     0.27127,     0.27227,     0.27327,     0.27427,     0.27528,     0.27628,     0.27728,     0.27828,     0.27928,     0.28028,     0.28128,     0.28228,     0.28328,     0.28428,     0.28529,     0.28629,     0.28729,\n",
       "           0.28829,     0.28929,     0.29029,     0.29129,     0.29229,     0.29329,     0.29429,      0.2953,      0.2963,      0.2973,      0.2983,      0.2993,      0.3003,      0.3013,      0.3023,      0.3033,      0.3043,     0.30531,     0.30631,     0.30731,     0.30831,     0.30931,     0.31031,     0.31131,\n",
       "           0.31231,     0.31331,     0.31431,     0.31532,     0.31632,     0.31732,     0.31832,     0.31932,     0.32032,     0.32132,     0.32232,     0.32332,     0.32432,     0.32533,     0.32633,     0.32733,     0.32833,     0.32933,     0.33033,     0.33133,     0.33233,     0.33333,     0.33433,     0.33534,\n",
       "           0.33634,     0.33734,     0.33834,     0.33934,     0.34034,     0.34134,     0.34234,     0.34334,     0.34434,     0.34535,     0.34635,     0.34735,     0.34835,     0.34935,     0.35035,     0.35135,     0.35235,     0.35335,     0.35435,     0.35536,     0.35636,     0.35736,     0.35836,     0.35936,\n",
       "           0.36036,     0.36136,     0.36236,     0.36336,     0.36436,     0.36537,     0.36637,     0.36737,     0.36837,     0.36937,     0.37037,     0.37137,     0.37237,     0.37337,     0.37437,     0.37538,     0.37638,     0.37738,     0.37838,     0.37938,     0.38038,     0.38138,     0.38238,     0.38338,\n",
       "           0.38438,     0.38539,     0.38639,     0.38739,     0.38839,     0.38939,     0.39039,     0.39139,     0.39239,     0.39339,     0.39439,      0.3954,      0.3964,      0.3974,      0.3984,      0.3994,      0.4004,      0.4014,      0.4024,      0.4034,      0.4044,     0.40541,     0.40641,     0.40741,\n",
       "           0.40841,     0.40941,     0.41041,     0.41141,     0.41241,     0.41341,     0.41441,     0.41542,     0.41642,     0.41742,     0.41842,     0.41942,     0.42042,     0.42142,     0.42242,     0.42342,     0.42442,     0.42543,     0.42643,     0.42743,     0.42843,     0.42943,     0.43043,     0.43143,\n",
       "           0.43243,     0.43343,     0.43443,     0.43544,     0.43644,     0.43744,     0.43844,     0.43944,     0.44044,     0.44144,     0.44244,     0.44344,     0.44444,     0.44545,     0.44645,     0.44745,     0.44845,     0.44945,     0.45045,     0.45145,     0.45245,     0.45345,     0.45445,     0.45546,\n",
       "           0.45646,     0.45746,     0.45846,     0.45946,     0.46046,     0.46146,     0.46246,     0.46346,     0.46446,     0.46547,     0.46647,     0.46747,     0.46847,     0.46947,     0.47047,     0.47147,     0.47247,     0.47347,     0.47447,     0.47548,     0.47648,     0.47748,     0.47848,     0.47948,\n",
       "           0.48048,     0.48148,     0.48248,     0.48348,     0.48448,     0.48549,     0.48649,     0.48749,     0.48849,     0.48949,     0.49049,     0.49149,     0.49249,     0.49349,     0.49449,      0.4955,      0.4965,      0.4975,      0.4985,      0.4995,      0.5005,      0.5015,      0.5025,      0.5035,\n",
       "            0.5045,     0.50551,     0.50651,     0.50751,     0.50851,     0.50951,     0.51051,     0.51151,     0.51251,     0.51351,     0.51451,     0.51552,     0.51652,     0.51752,     0.51852,     0.51952,     0.52052,     0.52152,     0.52252,     0.52352,     0.52452,     0.52553,     0.52653,     0.52753,\n",
       "           0.52853,     0.52953,     0.53053,     0.53153,     0.53253,     0.53353,     0.53453,     0.53554,     0.53654,     0.53754,     0.53854,     0.53954,     0.54054,     0.54154,     0.54254,     0.54354,     0.54454,     0.54555,     0.54655,     0.54755,     0.54855,     0.54955,     0.55055,     0.55155,\n",
       "           0.55255,     0.55355,     0.55455,     0.55556,     0.55656,     0.55756,     0.55856,     0.55956,     0.56056,     0.56156,     0.56256,     0.56356,     0.56456,     0.56557,     0.56657,     0.56757,     0.56857,     0.56957,     0.57057,     0.57157,     0.57257,     0.57357,     0.57457,     0.57558,\n",
       "           0.57658,     0.57758,     0.57858,     0.57958,     0.58058,     0.58158,     0.58258,     0.58358,     0.58458,     0.58559,     0.58659,     0.58759,     0.58859,     0.58959,     0.59059,     0.59159,     0.59259,     0.59359,     0.59459,      0.5956,      0.5966,      0.5976,      0.5986,      0.5996,\n",
       "            0.6006,      0.6016,      0.6026,      0.6036,      0.6046,     0.60561,     0.60661,     0.60761,     0.60861,     0.60961,     0.61061,     0.61161,     0.61261,     0.61361,     0.61461,     0.61562,     0.61662,     0.61762,     0.61862,     0.61962,     0.62062,     0.62162,     0.62262,     0.62362,\n",
       "           0.62462,     0.62563,     0.62663,     0.62763,     0.62863,     0.62963,     0.63063,     0.63163,     0.63263,     0.63363,     0.63463,     0.63564,     0.63664,     0.63764,     0.63864,     0.63964,     0.64064,     0.64164,     0.64264,     0.64364,     0.64464,     0.64565,     0.64665,     0.64765,\n",
       "           0.64865,     0.64965,     0.65065,     0.65165,     0.65265,     0.65365,     0.65465,     0.65566,     0.65666,     0.65766,     0.65866,     0.65966,     0.66066,     0.66166,     0.66266,     0.66366,     0.66466,     0.66567,     0.66667,     0.66767,     0.66867,     0.66967,     0.67067,     0.67167,\n",
       "           0.67267,     0.67367,     0.67467,     0.67568,     0.67668,     0.67768,     0.67868,     0.67968,     0.68068,     0.68168,     0.68268,     0.68368,     0.68468,     0.68569,     0.68669,     0.68769,     0.68869,     0.68969,     0.69069,     0.69169,     0.69269,     0.69369,     0.69469,      0.6957,\n",
       "            0.6967,      0.6977,      0.6987,      0.6997,      0.7007,      0.7017,      0.7027,      0.7037,      0.7047,     0.70571,     0.70671,     0.70771,     0.70871,     0.70971,     0.71071,     0.71171,     0.71271,     0.71371,     0.71471,     0.71572,     0.71672,     0.71772,     0.71872,     0.71972,\n",
       "           0.72072,     0.72172,     0.72272,     0.72372,     0.72472,     0.72573,     0.72673,     0.72773,     0.72873,     0.72973,     0.73073,     0.73173,     0.73273,     0.73373,     0.73473,     0.73574,     0.73674,     0.73774,     0.73874,     0.73974,     0.74074,     0.74174,     0.74274,     0.74374,\n",
       "           0.74474,     0.74575,     0.74675,     0.74775,     0.74875,     0.74975,     0.75075,     0.75175,     0.75275,     0.75375,     0.75475,     0.75576,     0.75676,     0.75776,     0.75876,     0.75976,     0.76076,     0.76176,     0.76276,     0.76376,     0.76476,     0.76577,     0.76677,     0.76777,\n",
       "           0.76877,     0.76977,     0.77077,     0.77177,     0.77277,     0.77377,     0.77477,     0.77578,     0.77678,     0.77778,     0.77878,     0.77978,     0.78078,     0.78178,     0.78278,     0.78378,     0.78478,     0.78579,     0.78679,     0.78779,     0.78879,     0.78979,     0.79079,     0.79179,\n",
       "           0.79279,     0.79379,     0.79479,      0.7958,      0.7968,      0.7978,      0.7988,      0.7998,      0.8008,      0.8018,      0.8028,      0.8038,      0.8048,     0.80581,     0.80681,     0.80781,     0.80881,     0.80981,     0.81081,     0.81181,     0.81281,     0.81381,     0.81481,     0.81582,\n",
       "           0.81682,     0.81782,     0.81882,     0.81982,     0.82082,     0.82182,     0.82282,     0.82382,     0.82482,     0.82583,     0.82683,     0.82783,     0.82883,     0.82983,     0.83083,     0.83183,     0.83283,     0.83383,     0.83483,     0.83584,     0.83684,     0.83784,     0.83884,     0.83984,\n",
       "           0.84084,     0.84184,     0.84284,     0.84384,     0.84484,     0.84585,     0.84685,     0.84785,     0.84885,     0.84985,     0.85085,     0.85185,     0.85285,     0.85385,     0.85485,     0.85586,     0.85686,     0.85786,     0.85886,     0.85986,     0.86086,     0.86186,     0.86286,     0.86386,\n",
       "           0.86486,     0.86587,     0.86687,     0.86787,     0.86887,     0.86987,     0.87087,     0.87187,     0.87287,     0.87387,     0.87487,     0.87588,     0.87688,     0.87788,     0.87888,     0.87988,     0.88088,     0.88188,     0.88288,     0.88388,     0.88488,     0.88589,     0.88689,     0.88789,\n",
       "           0.88889,     0.88989,     0.89089,     0.89189,     0.89289,     0.89389,     0.89489,      0.8959,      0.8969,      0.8979,      0.8989,      0.8999,      0.9009,      0.9019,      0.9029,      0.9039,      0.9049,     0.90591,     0.90691,     0.90791,     0.90891,     0.90991,     0.91091,     0.91191,\n",
       "           0.91291,     0.91391,     0.91491,     0.91592,     0.91692,     0.91792,     0.91892,     0.91992,     0.92092,     0.92192,     0.92292,     0.92392,     0.92492,     0.92593,     0.92693,     0.92793,     0.92893,     0.92993,     0.93093,     0.93193,     0.93293,     0.93393,     0.93493,     0.93594,\n",
       "           0.93694,     0.93794,     0.93894,     0.93994,     0.94094,     0.94194,     0.94294,     0.94394,     0.94494,     0.94595,     0.94695,     0.94795,     0.94895,     0.94995,     0.95095,     0.95195,     0.95295,     0.95395,     0.95495,     0.95596,     0.95696,     0.95796,     0.95896,     0.95996,\n",
       "           0.96096,     0.96196,     0.96296,     0.96396,     0.96496,     0.96597,     0.96697,     0.96797,     0.96897,     0.96997,     0.97097,     0.97197,     0.97297,     0.97397,     0.97497,     0.97598,     0.97698,     0.97798,     0.97898,     0.97998,     0.98098,     0.98198,     0.98298,     0.98398,\n",
       "           0.98498,     0.98599,     0.98699,     0.98799,     0.98899,     0.98999,     0.99099,     0.99199,     0.99299,     0.99399,     0.99499,       0.996,       0.997,       0.998,       0.999,           1]), array([[   0.051543,    0.051543,    0.061516,    0.067652,     0.07206,    0.075724,    0.078343,     0.08053,    0.082487,    0.084448,    0.086235,    0.087683,    0.089097,    0.090424,    0.091068,    0.092159,    0.093149,    0.094343,    0.095447,    0.096358,    0.097136,    0.097856,    0.098497,\n",
       "           0.099373,     0.10005,     0.10046,     0.10099,     0.10122,     0.10185,     0.10232,     0.10286,     0.10346,     0.10408,     0.10473,     0.10526,     0.10583,      0.1064,     0.10689,     0.10748,      0.1078,     0.10818,     0.10854,     0.10901,     0.10961,     0.11008,     0.11075,\n",
       "            0.11138,     0.11189,     0.11229,     0.11284,     0.11321,     0.11387,     0.11446,     0.11483,     0.11548,     0.11588,      0.1163,     0.11722,      0.1175,     0.11808,     0.11858,     0.11919,     0.11996,     0.12062,     0.12112,     0.12186,      0.1223,     0.12278,     0.12343,\n",
       "            0.12388,     0.12424,     0.12454,     0.12513,     0.12569,     0.12626,     0.12701,     0.12748,     0.12788,     0.12831,     0.12888,     0.12994,     0.13083,     0.13155,     0.13227,       0.133,     0.13331,     0.13409,      0.1348,     0.13571,     0.13664,     0.13708,     0.13773,\n",
       "            0.13793,     0.13884,     0.13947,     0.14031,     0.14147,     0.14155,     0.14229,     0.14272,     0.14378,     0.14454,     0.14512,      0.1458,     0.14639,     0.14699,     0.14787,     0.14915,      0.1501,     0.15142,     0.15275,     0.15291,     0.15371,     0.15462,     0.15579,\n",
       "             0.1563,      0.1575,     0.15878,     0.15985,      0.1606,      0.1617,     0.16258,     0.16376,     0.16449,     0.16522,     0.16612,     0.16603,     0.16672,     0.16783,     0.16878,     0.16942,     0.16988,     0.17105,     0.17166,     0.17298,     0.17391,     0.17527,     0.17595,\n",
       "            0.17728,     0.17881,     0.17981,     0.18097,     0.18184,     0.18272,     0.18354,     0.18541,     0.18648,     0.18717,     0.18865,     0.18984,     0.19063,     0.19168,     0.19323,     0.19487,     0.19596,     0.19698,       0.198,     0.19922,     0.19982,     0.20088,     0.20194,\n",
       "            0.20311,     0.20429,     0.20585,      0.2067,     0.20719,     0.20853,      0.2089,     0.20996,     0.21122,      0.2123,      0.2135,      0.2147,     0.21528,     0.21693,       0.218,     0.21914,     0.21987,     0.22098,     0.22188,     0.22308,     0.22427,      0.2246,     0.22545,\n",
       "            0.22572,     0.22615,     0.22849,     0.22904,     0.22982,     0.23049,     0.23119,     0.23163,     0.23317,      0.2341,     0.23492,     0.23597,     0.23744,     0.23803,     0.23873,     0.23945,     0.24057,     0.24144,     0.24177,     0.24223,     0.24271,       0.244,     0.24487,\n",
       "            0.24563,     0.24667,     0.24756,     0.24848,     0.24897,     0.24989,     0.25081,     0.25161,     0.25211,     0.25246,     0.25356,      0.2545,     0.25486,      0.2551,     0.25666,      0.2579,     0.25816,     0.25976,     0.26028,      0.2616,     0.26308,     0.26441,     0.26543,\n",
       "            0.26647,     0.26686,     0.26774,     0.26846,     0.27018,     0.27175,     0.27231,     0.27308,     0.27399,     0.27473,     0.27618,     0.27696,     0.27688,     0.27691,     0.27785,     0.27924,     0.27938,     0.28071,     0.28206,     0.28279,     0.28319,     0.28345,     0.28359,\n",
       "            0.28461,     0.28543,      0.2856,     0.28651,     0.28715,     0.28732,     0.28797,     0.28862,     0.28898,     0.28977,     0.29072,     0.29033,     0.29111,     0.29138,     0.29185,     0.29313,     0.29325,     0.29365,     0.29453,     0.29584,     0.29629,     0.29675,     0.29703,\n",
       "            0.29746,     0.29758,     0.29823,     0.29866,     0.29887,     0.29953,     0.30016,     0.30066,     0.30113,     0.30204,     0.30299,     0.30326,     0.30345,     0.30359,     0.30275,     0.30305,     0.30401,     0.30447,     0.30393,     0.30421,     0.30434,     0.30452,      0.3052,\n",
       "            0.30572,     0.30594,     0.30711,     0.30736,     0.30937,     0.30951,     0.30928,     0.30918,     0.30947,     0.30896,     0.30916,     0.30947,     0.30962,     0.30994,     0.31066,     0.31167,      0.3126,     0.31274,     0.31296,     0.31317,     0.31314,      0.3139,     0.31419,\n",
       "             0.3142,     0.31447,     0.31465,     0.31542,     0.31673,     0.31699,     0.31753,      0.3181,     0.32039,     0.32124,     0.32036,      0.3196,     0.31952,      0.3201,     0.32034,     0.31993,     0.31924,     0.31922,     0.32139,     0.32214,     0.32162,     0.32437,      0.3249,\n",
       "            0.32541,     0.32478,     0.32598,     0.32654,     0.32494,     0.32516,     0.32412,     0.32779,     0.32886,     0.33014,     0.32943,      0.3301,     0.32828,     0.32864,     0.33075,     0.32912,      0.3339,     0.33876,      0.3393,     0.33675,     0.32905,     0.33223,     0.33378,\n",
       "            0.33183,     0.32907,     0.33291,     0.33647,       0.343,     0.34368,     0.34073,     0.34493,     0.34504,     0.32658,     0.31542,     0.32632,     0.33335,     0.33642,     0.33078,     0.33553,     0.33762,     0.32242,     0.31509,      0.3372,     0.32739,     0.29219,     0.27275,\n",
       "             0.2842,     0.28592,     0.30702,     0.32462,     0.33466,     0.33624,     0.28112,     0.21814,     0.18457,     0.17527,     0.17725,     0.18125,     0.18464,     0.16378,     0.18623,     0.22929,      0.2928,     0.25294,     0.27638,      0.2357,     0.19503,     0.17184,     0.18892,\n",
       "            0.22402,     0.30295,     0.22326,    0.052427,           0,           0,           0,           1,           1,           1,           1,           1,           1,           1,           1,           1,           1,           1,           1,           1,           1,           1,           1,\n",
       "                  1,           1,           1,           1,           1,           1,           1,           1,           1,           1,           1,           1,           1,           1,           1,           1,           1,           1,           1,           1,           1,           1,           1,\n",
       "                  1,           1,           1,           1,           1,           1,           1,           1,           1,           1,           1,           1,           1,           1,           1,           1,           1,           1,           1,           1,           1,           1,           1,\n",
       "                  1,           1,           1,           1,           1,           1,           1,           1,           1,           1,           1,           1,           1,           1,           1,           1,           1,           1,           1,           1,           1,           1,           1,\n",
       "                  1,           1,           1,           1,           1,           1,           1,           1,           1,           1,           1,           1,           1,           1,           1,           1,           1,           1,           1,           1,           1,           1,           1,\n",
       "                  1,           1,           1,           1,           1,           1,           1,           1,           1,           1,           1,           1,           1,           1,           1,           1,           1,           1,           1,           1,           1,           1,           1,\n",
       "                  1,           1,           1,           1,           1,           1,           1,           1,           1,           1,           1,           1,           1,           1,           1,           1,           1,           1,           1,           1,           1,           1,           1,\n",
       "                  1,           1,           1,           1,           1,           1,           1,           1,           1,           1,           1,           1,           1,           1,           1,           1,           1,           1,           1,           1,           1,           1,           1,\n",
       "                  1,           1,           1,           1,           1,           1,           1,           1,           1,           1,           1,           1,           1,           1,           1,           1,           1,           1,           1,           1,           1,           1,           1,\n",
       "                  1,           1,           1,           1,           1,           1,           1,           1,           1,           1,           1,           1,           1,           1,           1,           1,           1,           1,           1,           1,           1,           1,           1,\n",
       "                  1,           1,           1,           1,           1,           1,           1,           1,           1,           1,           1,           1,           1,           1,           1,           1,           1,           1,           1,           1,           1,           1,           1,\n",
       "                  1,           1,           1,           1,           1,           1,           1,           1,           1,           1,           1,           1,           1,           1,           1,           1,           1,           1,           1,           1,           1,           1,           1,\n",
       "                  1,           1,           1,           1,           1,           1,           1,           1,           1,           1,           1,           1,           1,           1,           1,           1,           1,           1,           1,           1,           1,           1,           1,\n",
       "                  1,           1,           1,           1,           1,           1,           1,           1,           1,           1,           1,           1,           1,           1,           1,           1,           1,           1,           1,           1,           1,           1,           1,\n",
       "                  1,           1,           1,           1,           1,           1,           1,           1,           1,           1,           1,           1,           1,           1,           1,           1,           1,           1,           1,           1,           1,           1,           1,\n",
       "                  1,           1,           1,           1,           1,           1,           1,           1,           1,           1,           1,           1,           1,           1,           1,           1,           1,           1,           1,           1,           1,           1,           1,\n",
       "                  1,           1,           1,           1,           1,           1,           1,           1,           1,           1,           1,           1,           1,           1,           1,           1,           1,           1,           1,           1,           1,           1,           1,\n",
       "                  1,           1,           1,           1,           1,           1,           1,           1,           1,           1,           1,           1,           1,           1,           1,           1,           1,           1,           1,           1,           1,           1,           1,\n",
       "                  1,           1,           1,           1,           1,           1,           1,           1,           1,           1,           1,           1,           1,           1,           1,           1,           1,           1,           1,           1,           1,           1,           1,\n",
       "                  1,           1,           1,           1,           1,           1,           1,           1,           1,           1,           1,           1,           1,           1,           1,           1,           1,           1,           1,           1,           1,           1,           1,\n",
       "                  1,           1,           1,           1,           1,           1,           1,           1,           1,           1,           1,           1,           1,           1,           1,           1,           1,           1,           1,           1,           1,           1,           1,\n",
       "                  1,           1,           1,           1,           1,           1,           1,           1,           1,           1,           1,           1,           1,           1,           1,           1,           1,           1,           1,           1,           1,           1,           1,\n",
       "                  1,           1,           1,           1,           1,           1,           1,           1,           1,           1,           1,           1,           1,           1,           1,           1,           1,           1,           1,           1,           1,           1,           1,\n",
       "                  1,           1,           1,           1,           1,           1,           1,           1,           1,           1,           1,           1,           1,           1,           1,           1,           1,           1,           1,           1,           1,           1,           1,\n",
       "                  1,           1,           1,           1,           1,           1,           1,           1,           1,           1,           1,           1,           1,           1,           1,           1,           1,           1,           1,           1,           1,           1,           1,\n",
       "                  1,           1,           1,           1,           1,           1,           1,           1,           1,           1,           1]]), 'Confidence', 'Precision'], [array([          0,    0.001001,    0.002002,    0.003003,    0.004004,    0.005005,    0.006006,    0.007007,    0.008008,    0.009009,     0.01001,    0.011011,    0.012012,    0.013013,    0.014014,    0.015015,    0.016016,    0.017017,    0.018018,    0.019019,     0.02002,    0.021021,    0.022022,    0.023023,\n",
       "          0.024024,    0.025025,    0.026026,    0.027027,    0.028028,    0.029029,     0.03003,    0.031031,    0.032032,    0.033033,    0.034034,    0.035035,    0.036036,    0.037037,    0.038038,    0.039039,     0.04004,    0.041041,    0.042042,    0.043043,    0.044044,    0.045045,    0.046046,    0.047047,\n",
       "          0.048048,    0.049049,     0.05005,    0.051051,    0.052052,    0.053053,    0.054054,    0.055055,    0.056056,    0.057057,    0.058058,    0.059059,     0.06006,    0.061061,    0.062062,    0.063063,    0.064064,    0.065065,    0.066066,    0.067067,    0.068068,    0.069069,     0.07007,    0.071071,\n",
       "          0.072072,    0.073073,    0.074074,    0.075075,    0.076076,    0.077077,    0.078078,    0.079079,     0.08008,    0.081081,    0.082082,    0.083083,    0.084084,    0.085085,    0.086086,    0.087087,    0.088088,    0.089089,     0.09009,    0.091091,    0.092092,    0.093093,    0.094094,    0.095095,\n",
       "          0.096096,    0.097097,    0.098098,    0.099099,      0.1001,      0.1011,      0.1021,      0.1031,      0.1041,     0.10511,     0.10611,     0.10711,     0.10811,     0.10911,     0.11011,     0.11111,     0.11211,     0.11311,     0.11411,     0.11512,     0.11612,     0.11712,     0.11812,     0.11912,\n",
       "           0.12012,     0.12112,     0.12212,     0.12312,     0.12412,     0.12513,     0.12613,     0.12713,     0.12813,     0.12913,     0.13013,     0.13113,     0.13213,     0.13313,     0.13413,     0.13514,     0.13614,     0.13714,     0.13814,     0.13914,     0.14014,     0.14114,     0.14214,     0.14314,\n",
       "           0.14414,     0.14515,     0.14615,     0.14715,     0.14815,     0.14915,     0.15015,     0.15115,     0.15215,     0.15315,     0.15415,     0.15516,     0.15616,     0.15716,     0.15816,     0.15916,     0.16016,     0.16116,     0.16216,     0.16316,     0.16416,     0.16517,     0.16617,     0.16717,\n",
       "           0.16817,     0.16917,     0.17017,     0.17117,     0.17217,     0.17317,     0.17417,     0.17518,     0.17618,     0.17718,     0.17818,     0.17918,     0.18018,     0.18118,     0.18218,     0.18318,     0.18418,     0.18519,     0.18619,     0.18719,     0.18819,     0.18919,     0.19019,     0.19119,\n",
       "           0.19219,     0.19319,     0.19419,      0.1952,      0.1962,      0.1972,      0.1982,      0.1992,      0.2002,      0.2012,      0.2022,      0.2032,      0.2042,     0.20521,     0.20621,     0.20721,     0.20821,     0.20921,     0.21021,     0.21121,     0.21221,     0.21321,     0.21421,     0.21522,\n",
       "           0.21622,     0.21722,     0.21822,     0.21922,     0.22022,     0.22122,     0.22222,     0.22322,     0.22422,     0.22523,     0.22623,     0.22723,     0.22823,     0.22923,     0.23023,     0.23123,     0.23223,     0.23323,     0.23423,     0.23524,     0.23624,     0.23724,     0.23824,     0.23924,\n",
       "           0.24024,     0.24124,     0.24224,     0.24324,     0.24424,     0.24525,     0.24625,     0.24725,     0.24825,     0.24925,     0.25025,     0.25125,     0.25225,     0.25325,     0.25425,     0.25526,     0.25626,     0.25726,     0.25826,     0.25926,     0.26026,     0.26126,     0.26226,     0.26326,\n",
       "           0.26426,     0.26527,     0.26627,     0.26727,     0.26827,     0.26927,     0.27027,     0.27127,     0.27227,     0.27327,     0.27427,     0.27528,     0.27628,     0.27728,     0.27828,     0.27928,     0.28028,     0.28128,     0.28228,     0.28328,     0.28428,     0.28529,     0.28629,     0.28729,\n",
       "           0.28829,     0.28929,     0.29029,     0.29129,     0.29229,     0.29329,     0.29429,      0.2953,      0.2963,      0.2973,      0.2983,      0.2993,      0.3003,      0.3013,      0.3023,      0.3033,      0.3043,     0.30531,     0.30631,     0.30731,     0.30831,     0.30931,     0.31031,     0.31131,\n",
       "           0.31231,     0.31331,     0.31431,     0.31532,     0.31632,     0.31732,     0.31832,     0.31932,     0.32032,     0.32132,     0.32232,     0.32332,     0.32432,     0.32533,     0.32633,     0.32733,     0.32833,     0.32933,     0.33033,     0.33133,     0.33233,     0.33333,     0.33433,     0.33534,\n",
       "           0.33634,     0.33734,     0.33834,     0.33934,     0.34034,     0.34134,     0.34234,     0.34334,     0.34434,     0.34535,     0.34635,     0.34735,     0.34835,     0.34935,     0.35035,     0.35135,     0.35235,     0.35335,     0.35435,     0.35536,     0.35636,     0.35736,     0.35836,     0.35936,\n",
       "           0.36036,     0.36136,     0.36236,     0.36336,     0.36436,     0.36537,     0.36637,     0.36737,     0.36837,     0.36937,     0.37037,     0.37137,     0.37237,     0.37337,     0.37437,     0.37538,     0.37638,     0.37738,     0.37838,     0.37938,     0.38038,     0.38138,     0.38238,     0.38338,\n",
       "           0.38438,     0.38539,     0.38639,     0.38739,     0.38839,     0.38939,     0.39039,     0.39139,     0.39239,     0.39339,     0.39439,      0.3954,      0.3964,      0.3974,      0.3984,      0.3994,      0.4004,      0.4014,      0.4024,      0.4034,      0.4044,     0.40541,     0.40641,     0.40741,\n",
       "           0.40841,     0.40941,     0.41041,     0.41141,     0.41241,     0.41341,     0.41441,     0.41542,     0.41642,     0.41742,     0.41842,     0.41942,     0.42042,     0.42142,     0.42242,     0.42342,     0.42442,     0.42543,     0.42643,     0.42743,     0.42843,     0.42943,     0.43043,     0.43143,\n",
       "           0.43243,     0.43343,     0.43443,     0.43544,     0.43644,     0.43744,     0.43844,     0.43944,     0.44044,     0.44144,     0.44244,     0.44344,     0.44444,     0.44545,     0.44645,     0.44745,     0.44845,     0.44945,     0.45045,     0.45145,     0.45245,     0.45345,     0.45445,     0.45546,\n",
       "           0.45646,     0.45746,     0.45846,     0.45946,     0.46046,     0.46146,     0.46246,     0.46346,     0.46446,     0.46547,     0.46647,     0.46747,     0.46847,     0.46947,     0.47047,     0.47147,     0.47247,     0.47347,     0.47447,     0.47548,     0.47648,     0.47748,     0.47848,     0.47948,\n",
       "           0.48048,     0.48148,     0.48248,     0.48348,     0.48448,     0.48549,     0.48649,     0.48749,     0.48849,     0.48949,     0.49049,     0.49149,     0.49249,     0.49349,     0.49449,      0.4955,      0.4965,      0.4975,      0.4985,      0.4995,      0.5005,      0.5015,      0.5025,      0.5035,\n",
       "            0.5045,     0.50551,     0.50651,     0.50751,     0.50851,     0.50951,     0.51051,     0.51151,     0.51251,     0.51351,     0.51451,     0.51552,     0.51652,     0.51752,     0.51852,     0.51952,     0.52052,     0.52152,     0.52252,     0.52352,     0.52452,     0.52553,     0.52653,     0.52753,\n",
       "           0.52853,     0.52953,     0.53053,     0.53153,     0.53253,     0.53353,     0.53453,     0.53554,     0.53654,     0.53754,     0.53854,     0.53954,     0.54054,     0.54154,     0.54254,     0.54354,     0.54454,     0.54555,     0.54655,     0.54755,     0.54855,     0.54955,     0.55055,     0.55155,\n",
       "           0.55255,     0.55355,     0.55455,     0.55556,     0.55656,     0.55756,     0.55856,     0.55956,     0.56056,     0.56156,     0.56256,     0.56356,     0.56456,     0.56557,     0.56657,     0.56757,     0.56857,     0.56957,     0.57057,     0.57157,     0.57257,     0.57357,     0.57457,     0.57558,\n",
       "           0.57658,     0.57758,     0.57858,     0.57958,     0.58058,     0.58158,     0.58258,     0.58358,     0.58458,     0.58559,     0.58659,     0.58759,     0.58859,     0.58959,     0.59059,     0.59159,     0.59259,     0.59359,     0.59459,      0.5956,      0.5966,      0.5976,      0.5986,      0.5996,\n",
       "            0.6006,      0.6016,      0.6026,      0.6036,      0.6046,     0.60561,     0.60661,     0.60761,     0.60861,     0.60961,     0.61061,     0.61161,     0.61261,     0.61361,     0.61461,     0.61562,     0.61662,     0.61762,     0.61862,     0.61962,     0.62062,     0.62162,     0.62262,     0.62362,\n",
       "           0.62462,     0.62563,     0.62663,     0.62763,     0.62863,     0.62963,     0.63063,     0.63163,     0.63263,     0.63363,     0.63463,     0.63564,     0.63664,     0.63764,     0.63864,     0.63964,     0.64064,     0.64164,     0.64264,     0.64364,     0.64464,     0.64565,     0.64665,     0.64765,\n",
       "           0.64865,     0.64965,     0.65065,     0.65165,     0.65265,     0.65365,     0.65465,     0.65566,     0.65666,     0.65766,     0.65866,     0.65966,     0.66066,     0.66166,     0.66266,     0.66366,     0.66466,     0.66567,     0.66667,     0.66767,     0.66867,     0.66967,     0.67067,     0.67167,\n",
       "           0.67267,     0.67367,     0.67467,     0.67568,     0.67668,     0.67768,     0.67868,     0.67968,     0.68068,     0.68168,     0.68268,     0.68368,     0.68468,     0.68569,     0.68669,     0.68769,     0.68869,     0.68969,     0.69069,     0.69169,     0.69269,     0.69369,     0.69469,      0.6957,\n",
       "            0.6967,      0.6977,      0.6987,      0.6997,      0.7007,      0.7017,      0.7027,      0.7037,      0.7047,     0.70571,     0.70671,     0.70771,     0.70871,     0.70971,     0.71071,     0.71171,     0.71271,     0.71371,     0.71471,     0.71572,     0.71672,     0.71772,     0.71872,     0.71972,\n",
       "           0.72072,     0.72172,     0.72272,     0.72372,     0.72472,     0.72573,     0.72673,     0.72773,     0.72873,     0.72973,     0.73073,     0.73173,     0.73273,     0.73373,     0.73473,     0.73574,     0.73674,     0.73774,     0.73874,     0.73974,     0.74074,     0.74174,     0.74274,     0.74374,\n",
       "           0.74474,     0.74575,     0.74675,     0.74775,     0.74875,     0.74975,     0.75075,     0.75175,     0.75275,     0.75375,     0.75475,     0.75576,     0.75676,     0.75776,     0.75876,     0.75976,     0.76076,     0.76176,     0.76276,     0.76376,     0.76476,     0.76577,     0.76677,     0.76777,\n",
       "           0.76877,     0.76977,     0.77077,     0.77177,     0.77277,     0.77377,     0.77477,     0.77578,     0.77678,     0.77778,     0.77878,     0.77978,     0.78078,     0.78178,     0.78278,     0.78378,     0.78478,     0.78579,     0.78679,     0.78779,     0.78879,     0.78979,     0.79079,     0.79179,\n",
       "           0.79279,     0.79379,     0.79479,      0.7958,      0.7968,      0.7978,      0.7988,      0.7998,      0.8008,      0.8018,      0.8028,      0.8038,      0.8048,     0.80581,     0.80681,     0.80781,     0.80881,     0.80981,     0.81081,     0.81181,     0.81281,     0.81381,     0.81481,     0.81582,\n",
       "           0.81682,     0.81782,     0.81882,     0.81982,     0.82082,     0.82182,     0.82282,     0.82382,     0.82482,     0.82583,     0.82683,     0.82783,     0.82883,     0.82983,     0.83083,     0.83183,     0.83283,     0.83383,     0.83483,     0.83584,     0.83684,     0.83784,     0.83884,     0.83984,\n",
       "           0.84084,     0.84184,     0.84284,     0.84384,     0.84484,     0.84585,     0.84685,     0.84785,     0.84885,     0.84985,     0.85085,     0.85185,     0.85285,     0.85385,     0.85485,     0.85586,     0.85686,     0.85786,     0.85886,     0.85986,     0.86086,     0.86186,     0.86286,     0.86386,\n",
       "           0.86486,     0.86587,     0.86687,     0.86787,     0.86887,     0.86987,     0.87087,     0.87187,     0.87287,     0.87387,     0.87487,     0.87588,     0.87688,     0.87788,     0.87888,     0.87988,     0.88088,     0.88188,     0.88288,     0.88388,     0.88488,     0.88589,     0.88689,     0.88789,\n",
       "           0.88889,     0.88989,     0.89089,     0.89189,     0.89289,     0.89389,     0.89489,      0.8959,      0.8969,      0.8979,      0.8989,      0.8999,      0.9009,      0.9019,      0.9029,      0.9039,      0.9049,     0.90591,     0.90691,     0.90791,     0.90891,     0.90991,     0.91091,     0.91191,\n",
       "           0.91291,     0.91391,     0.91491,     0.91592,     0.91692,     0.91792,     0.91892,     0.91992,     0.92092,     0.92192,     0.92292,     0.92392,     0.92492,     0.92593,     0.92693,     0.92793,     0.92893,     0.92993,     0.93093,     0.93193,     0.93293,     0.93393,     0.93493,     0.93594,\n",
       "           0.93694,     0.93794,     0.93894,     0.93994,     0.94094,     0.94194,     0.94294,     0.94394,     0.94494,     0.94595,     0.94695,     0.94795,     0.94895,     0.94995,     0.95095,     0.95195,     0.95295,     0.95395,     0.95495,     0.95596,     0.95696,     0.95796,     0.95896,     0.95996,\n",
       "           0.96096,     0.96196,     0.96296,     0.96396,     0.96496,     0.96597,     0.96697,     0.96797,     0.96897,     0.96997,     0.97097,     0.97197,     0.97297,     0.97397,     0.97497,     0.97598,     0.97698,     0.97798,     0.97898,     0.97998,     0.98098,     0.98198,     0.98298,     0.98398,\n",
       "           0.98498,     0.98599,     0.98699,     0.98799,     0.98899,     0.98999,     0.99099,     0.99199,     0.99299,     0.99399,     0.99499,       0.996,       0.997,       0.998,       0.999,           1]), array([[     0.9938,      0.9938,      0.9938,     0.99174,     0.99174,     0.99174,     0.99174,     0.98967,      0.9876,      0.9876,      0.9876,      0.9876,      0.9876,      0.9876,     0.98347,     0.98347,     0.98347,     0.98347,     0.98347,     0.98347,     0.98347,     0.98347,     0.98347,\n",
       "            0.98347,     0.98347,      0.9814,      0.9814,     0.97934,     0.97934,     0.97934,     0.97934,     0.97934,     0.97934,     0.97934,     0.97727,     0.97727,     0.97727,     0.97727,     0.97727,     0.97314,     0.97314,     0.97314,     0.97314,     0.97314,     0.97314,     0.97314,\n",
       "            0.97314,     0.97314,     0.97314,     0.97314,     0.97314,     0.97314,     0.97314,     0.97314,     0.97314,     0.97314,     0.97314,     0.97314,     0.97314,     0.97314,     0.97314,     0.97314,     0.97314,     0.97314,     0.97314,     0.97314,     0.97314,     0.97107,     0.97107,\n",
       "            0.97107,     0.97107,     0.96901,     0.96901,     0.96694,     0.96694,     0.96694,     0.96694,     0.96694,     0.96694,     0.96488,     0.96488,     0.96488,     0.96488,     0.96488,     0.96488,     0.96074,     0.96074,     0.96074,     0.96074,     0.96074,     0.95868,     0.95868,\n",
       "            0.95661,     0.95661,     0.95661,     0.95661,     0.95661,     0.95455,     0.95455,     0.95455,     0.95455,     0.95455,     0.95455,     0.95455,     0.95455,     0.95248,     0.95248,     0.95248,     0.95248,     0.95248,     0.95246,     0.95041,     0.95041,     0.95041,     0.95041,\n",
       "            0.95041,     0.95041,     0.95041,     0.95041,     0.95041,     0.95041,     0.95041,     0.95041,     0.95041,     0.95041,      0.9504,     0.94835,     0.94835,     0.94835,     0.94835,     0.94628,     0.94421,     0.94215,     0.94008,     0.94008,     0.94008,     0.94008,     0.94008,\n",
       "            0.94008,     0.94008,     0.94008,     0.94008,     0.94008,     0.94008,     0.94008,     0.94008,     0.94008,     0.94008,     0.94008,     0.94008,     0.94008,     0.94008,     0.94008,     0.94008,     0.93802,     0.93802,     0.93802,     0.93802,     0.93802,     0.93595,     0.93595,\n",
       "            0.93595,     0.93595,     0.93595,     0.93595,     0.93182,     0.92975,     0.92975,     0.92975,     0.92975,     0.92975,     0.92975,     0.92975,     0.92975,     0.92975,     0.92769,     0.92769,     0.92769,     0.92562,     0.92355,     0.92355,     0.92355,     0.92355,     0.92355,\n",
       "            0.92156,     0.92149,     0.91942,     0.91942,     0.91942,     0.91942,     0.91942,     0.91942,     0.91942,     0.91942,     0.91942,     0.91736,     0.91736,     0.91736,     0.91736,     0.91736,     0.91736,     0.91736,     0.91529,     0.91529,     0.91529,     0.91529,     0.91529,\n",
       "            0.91529,     0.91529,     0.91529,     0.91529,     0.91529,     0.91529,     0.91529,     0.91529,     0.91529,     0.91529,     0.91529,     0.91529,     0.91529,     0.91322,     0.91322,     0.91263,     0.91116,     0.91116,     0.91116,     0.91116,     0.91116,     0.91116,     0.91116,\n",
       "            0.91116,     0.91116,     0.91116,     0.91116,     0.91116,     0.91116,     0.91116,     0.91116,     0.91116,     0.91116,     0.91116,     0.91116,     0.90496,     0.90198,     0.90083,     0.89876,     0.89669,     0.89669,     0.89669,     0.89463,     0.89463,     0.89463,      0.8931,\n",
       "            0.89256,     0.89256,     0.89256,     0.89256,     0.89256,      0.8905,      0.8905,      0.8905,     0.88843,     0.88843,     0.88752,      0.8843,     0.88223,     0.88223,     0.88223,      0.8781,      0.8781,      0.8781,      0.8781,      0.8781,      0.8781,      0.8781,      0.8781,\n",
       "             0.8781,      0.8781,      0.8781,     0.87603,     0.87397,     0.87397,      0.8719,      0.8719,      0.8719,      0.8719,      0.8719,      0.8719,      0.8719,      0.8719,      0.8657,      0.8657,      0.8657,      0.8657,     0.86246,     0.86157,     0.86157,      0.8595,      0.8595,\n",
       "            0.85886,     0.85744,     0.85744,     0.85744,     0.85331,     0.85331,     0.85019,     0.84917,     0.84917,     0.84504,     0.84298,     0.83986,     0.83884,     0.83884,     0.83884,     0.83884,     0.83884,     0.83884,     0.83678,     0.83471,     0.83058,     0.83058,     0.83058,\n",
       "            0.82851,     0.82851,     0.82231,     0.82231,     0.82231,     0.82025,     0.82025,     0.82025,     0.81818,     0.81818,      0.8132,     0.80785,     0.80618,     0.80165,     0.79959,     0.79508,     0.78868,     0.78719,     0.78719,     0.78159,     0.77893,     0.77066,     0.76653,\n",
       "            0.75826,     0.74793,     0.74587,     0.74234,     0.72727,     0.71279,     0.70448,     0.69819,     0.69215,     0.68595,     0.66736,     0.65702,      0.6405,     0.63017,     0.61983,     0.59091,     0.58206,     0.57231,      0.5528,     0.52767,     0.49587,     0.48347,     0.46694,\n",
       "            0.44223,     0.42359,     0.39876,      0.3905,     0.37397,     0.35331,     0.33678,     0.32025,     0.29752,     0.26051,     0.22942,     0.22317,     0.18802,     0.17149,     0.15083,      0.1398,      0.1281,     0.11157,    0.099174,    0.097759,    0.086777,    0.070796,    0.055785,\n",
       "           0.051653,    0.049587,    0.047521,    0.047521,    0.038461,    0.033058,    0.021829,    0.015579,    0.012397,    0.010992,    0.010331,    0.010331,    0.010331,   0.0064874,   0.0061983,   0.0061983,    0.006007,   0.0049481,   0.0039702,   0.0032643,   0.0025583,   0.0020661,   0.0020661,\n",
       "          0.0020661,   0.0020661,   0.0013839,  0.00032496,           0,           0,           0,           0,           0,           0,           0,           0,           0,           0,           0,           0,           0,           0,           0,           0,           0,           0,           0,\n",
       "                  0,           0,           0,           0,           0,           0,           0,           0,           0,           0,           0,           0,           0,           0,           0,           0,           0,           0,           0,           0,           0,           0,           0,\n",
       "                  0,           0,           0,           0,           0,           0,           0,           0,           0,           0,           0,           0,           0,           0,           0,           0,           0,           0,           0,           0,           0,           0,           0,\n",
       "                  0,           0,           0,           0,           0,           0,           0,           0,           0,           0,           0,           0,           0,           0,           0,           0,           0,           0,           0,           0,           0,           0,           0,\n",
       "                  0,           0,           0,           0,           0,           0,           0,           0,           0,           0,           0,           0,           0,           0,           0,           0,           0,           0,           0,           0,           0,           0,           0,\n",
       "                  0,           0,           0,           0,           0,           0,           0,           0,           0,           0,           0,           0,           0,           0,           0,           0,           0,           0,           0,           0,           0,           0,           0,\n",
       "                  0,           0,           0,           0,           0,           0,           0,           0,           0,           0,           0,           0,           0,           0,           0,           0,           0,           0,           0,           0,           0,           0,           0,\n",
       "                  0,           0,           0,           0,           0,           0,           0,           0,           0,           0,           0,           0,           0,           0,           0,           0,           0,           0,           0,           0,           0,           0,           0,\n",
       "                  0,           0,           0,           0,           0,           0,           0,           0,           0,           0,           0,           0,           0,           0,           0,           0,           0,           0,           0,           0,           0,           0,           0,\n",
       "                  0,           0,           0,           0,           0,           0,           0,           0,           0,           0,           0,           0,           0,           0,           0,           0,           0,           0,           0,           0,           0,           0,           0,\n",
       "                  0,           0,           0,           0,           0,           0,           0,           0,           0,           0,           0,           0,           0,           0,           0,           0,           0,           0,           0,           0,           0,           0,           0,\n",
       "                  0,           0,           0,           0,           0,           0,           0,           0,           0,           0,           0,           0,           0,           0,           0,           0,           0,           0,           0,           0,           0,           0,           0,\n",
       "                  0,           0,           0,           0,           0,           0,           0,           0,           0,           0,           0,           0,           0,           0,           0,           0,           0,           0,           0,           0,           0,           0,           0,\n",
       "                  0,           0,           0,           0,           0,           0,           0,           0,           0,           0,           0,           0,           0,           0,           0,           0,           0,           0,           0,           0,           0,           0,           0,\n",
       "                  0,           0,           0,           0,           0,           0,           0,           0,           0,           0,           0,           0,           0,           0,           0,           0,           0,           0,           0,           0,           0,           0,           0,\n",
       "                  0,           0,           0,           0,           0,           0,           0,           0,           0,           0,           0,           0,           0,           0,           0,           0,           0,           0,           0,           0,           0,           0,           0,\n",
       "                  0,           0,           0,           0,           0,           0,           0,           0,           0,           0,           0,           0,           0,           0,           0,           0,           0,           0,           0,           0,           0,           0,           0,\n",
       "                  0,           0,           0,           0,           0,           0,           0,           0,           0,           0,           0,           0,           0,           0,           0,           0,           0,           0,           0,           0,           0,           0,           0,\n",
       "                  0,           0,           0,           0,           0,           0,           0,           0,           0,           0,           0,           0,           0,           0,           0,           0,           0,           0,           0,           0,           0,           0,           0,\n",
       "                  0,           0,           0,           0,           0,           0,           0,           0,           0,           0,           0,           0,           0,           0,           0,           0,           0,           0,           0,           0,           0,           0,           0,\n",
       "                  0,           0,           0,           0,           0,           0,           0,           0,           0,           0,           0,           0,           0,           0,           0,           0,           0,           0,           0,           0,           0,           0,           0,\n",
       "                  0,           0,           0,           0,           0,           0,           0,           0,           0,           0,           0,           0,           0,           0,           0,           0,           0,           0,           0,           0,           0,           0,           0,\n",
       "                  0,           0,           0,           0,           0,           0,           0,           0,           0,           0,           0,           0,           0,           0,           0,           0,           0,           0,           0,           0,           0,           0,           0,\n",
       "                  0,           0,           0,           0,           0,           0,           0,           0,           0,           0,           0,           0,           0,           0,           0,           0,           0,           0,           0,           0,           0,           0,           0,\n",
       "                  0,           0,           0,           0,           0,           0,           0,           0,           0,           0,           0,           0,           0,           0,           0,           0,           0,           0,           0,           0,           0,           0,           0,\n",
       "                  0,           0,           0,           0,           0,           0,           0,           0,           0,           0,           0]]), 'Confidence', 'Recall']]\n",
       "fitness: np.float64(0.15838237927643414)\n",
       "keys: ['metrics/precision(B)', 'metrics/recall(B)', 'metrics/mAP50(B)', 'metrics/mAP50-95(B)']\n",
       "maps: array([     0.1403])\n",
       "names: {0: 'V'}\n",
       "plot: True\n",
       "results_dict: {'metrics/precision(B)': np.float64(0.30946704997762503), 'metrics/recall(B)': np.float64(0.8491735537190083), 'metrics/mAP50(B)': np.float64(0.32108606316545824), 'metrics/mAP50-95(B)': np.float64(0.14030419217765366), 'fitness': np.float64(0.15838237927643414)}\n",
       "save_dir: PosixPath('/home/student/Desktop/current_model_ai/folder_train/folds_retrain')\n",
       "speed: {'preprocess': 0.08123807994147333, 'inference': 10.627166574301485, 'loss': 0.00037543478612907423, 'postprocess': 0.372639300647932}\n",
       "task: 'detect'"
      ]
     },
     "execution_count": 7,
     "metadata": {},
     "output_type": "execute_result"
    }
   ],
   "source": [
    "\n",
    "# Define the training output folder path\n",
    "train_folder = \"/home/student/Desktop/current_model_ai/folder_train/folds_retrain\"\n",
    "\n",
    "# Remove the folder if it exists\n",
    "if os.path.exists(train_folder):\n",
    "    shutil.rmtree(train_folder)\n",
    "\n",
    "# Load the model\n",
    "model = YOLO('yolov8l.pt')\n",
    "\n",
    "# Train the model\n",
    "model.train(\n",
    "    data='/home/student/Desktop/current_model_ai/data.yaml',\n",
    "    epochs=100,\n",
    "    imgsz=640,\n",
    "    batch=8,\n",
    "    project='/home/student/Desktop/current_model_ai/folder_train',\n",
    "    name='folds_retrain',\n",
    "    augment=True,  # Enables default augmentations\n",
    "    degrees=10,\n",
    "    scale=0.5,\n",
    "    shear=10,\n",
    "    perspective=0.0005,\n",
    "    flipud=0.1,\n",
    "    fliplr=0.5,\n",
    "    hsv_h=0.015,\n",
    "    hsv_s=0.7,\n",
    "    hsv_v=0.4\n",
    ")"
   ]
  },
  {
   "cell_type": "code",
   "execution_count": 15,
   "id": "e3fadf8b",
   "metadata": {},
   "outputs": [
    {
     "name": "stdout",
     "output_type": "stream",
     "text": [
      "\n",
      "image 1/571 /home/student/Desktop/current_model_ai/test/images/Flipped_horizontal_10.png: 480x640 1 V, 10.2ms\n",
      "image 2/571 /home/student/Desktop/current_model_ai/test/images/Flipped_horizontal_100.png: 480x640 1 V, 8.5ms\n",
      "image 3/571 /home/student/Desktop/current_model_ai/test/images/Flipped_horizontal_112.png: 480x640 2 Vs, 9.7ms\n",
      "image 4/571 /home/student/Desktop/current_model_ai/test/images/Flipped_horizontal_123.png: 480x640 2 Vs, 9.2ms\n",
      "image 5/571 /home/student/Desktop/current_model_ai/test/images/Flipped_horizontal_124.png: 480x640 3 Vs, 8.3ms\n",
      "image 6/571 /home/student/Desktop/current_model_ai/test/images/Flipped_horizontal_126.png: 480x640 2 Vs, 9.2ms\n",
      "image 7/571 /home/student/Desktop/current_model_ai/test/images/Flipped_horizontal_128.png: 480x640 1 V, 8.2ms\n",
      "image 8/571 /home/student/Desktop/current_model_ai/test/images/Flipped_horizontal_129.png: 480x640 2 Vs, 8.5ms\n",
      "image 9/571 /home/student/Desktop/current_model_ai/test/images/Flipped_horizontal_13.png: 480x640 1 V, 9.5ms\n",
      "image 10/571 /home/student/Desktop/current_model_ai/test/images/Flipped_horizontal_137.png: 480x640 1 V, 8.6ms\n",
      "image 11/571 /home/student/Desktop/current_model_ai/test/images/Flipped_horizontal_140.png: 480x640 2 Vs, 9.6ms\n",
      "image 12/571 /home/student/Desktop/current_model_ai/test/images/Flipped_horizontal_15.png: 480x640 (no detections), 8.2ms\n",
      "image 13/571 /home/student/Desktop/current_model_ai/test/images/Flipped_horizontal_20.png: 480x640 2 Vs, 7.8ms\n",
      "image 14/571 /home/student/Desktop/current_model_ai/test/images/Flipped_horizontal_24.png: 480x640 1 V, 7.7ms\n",
      "image 15/571 /home/student/Desktop/current_model_ai/test/images/Flipped_horizontal_26.png: 480x640 1 V, 8.0ms\n",
      "image 16/571 /home/student/Desktop/current_model_ai/test/images/Flipped_horizontal_32.png: 480x640 1 V, 9.2ms\n",
      "image 17/571 /home/student/Desktop/current_model_ai/test/images/Flipped_horizontal_37.png: 480x640 1 V, 8.4ms\n",
      "image 18/571 /home/student/Desktop/current_model_ai/test/images/Flipped_horizontal_43.png: 480x640 1 V, 7.9ms\n",
      "image 19/571 /home/student/Desktop/current_model_ai/test/images/Flipped_horizontal_46.png: 480x640 1 V, 7.9ms\n",
      "image 20/571 /home/student/Desktop/current_model_ai/test/images/Flipped_horizontal_49.png: 480x640 1 V, 7.7ms\n",
      "image 21/571 /home/student/Desktop/current_model_ai/test/images/Flipped_horizontal_52.png: 480x640 1 V, 8.0ms\n",
      "image 22/571 /home/student/Desktop/current_model_ai/test/images/Flipped_horizontal_55.png: 480x640 1 V, 7.7ms\n",
      "image 23/571 /home/student/Desktop/current_model_ai/test/images/Flipped_horizontal_61.png: 480x640 1 V, 8.7ms\n",
      "image 24/571 /home/student/Desktop/current_model_ai/test/images/Flipped_horizontal_66.png: 480x640 1 V, 7.9ms\n",
      "image 25/571 /home/student/Desktop/current_model_ai/test/images/Flipped_horizontal_68.png: 480x640 1 V, 8.8ms\n",
      "image 26/571 /home/student/Desktop/current_model_ai/test/images/Flipped_horizontal_71.png: 480x640 2 Vs, 8.6ms\n",
      "image 27/571 /home/student/Desktop/current_model_ai/test/images/Flipped_horizontal_75.png: 480x640 1 V, 8.8ms\n",
      "image 28/571 /home/student/Desktop/current_model_ai/test/images/Flipped_horizontal_79.png: 480x640 (no detections), 8.5ms\n",
      "image 29/571 /home/student/Desktop/current_model_ai/test/images/Flipped_horizontal_87.png: 480x640 3 Vs, 7.9ms\n",
      "image 30/571 /home/student/Desktop/current_model_ai/test/images/Flipped_horizontal_88.png: 480x640 2 Vs, 8.7ms\n",
      "image 31/571 /home/student/Desktop/current_model_ai/test/images/Flipped_horizontal_89.png: 480x640 2 Vs, 7.7ms\n",
      "image 32/571 /home/student/Desktop/current_model_ai/test/images/Flipped_horizontal_90.png: 480x640 1 V, 8.2ms\n",
      "image 33/571 /home/student/Desktop/current_model_ai/test/images/Flipped_vertical_1.png: 480x640 1 V, 7.8ms\n",
      "image 34/571 /home/student/Desktop/current_model_ai/test/images/Flipped_vertical_105.png: 480x640 (no detections), 8.0ms\n",
      "image 35/571 /home/student/Desktop/current_model_ai/test/images/Flipped_vertical_107.png: 480x640 1 V, 8.1ms\n",
      "image 36/571 /home/student/Desktop/current_model_ai/test/images/Flipped_vertical_108.png: 480x640 1 V, 8.6ms\n",
      "image 37/571 /home/student/Desktop/current_model_ai/test/images/Flipped_vertical_11.png: 480x640 (no detections), 9.5ms\n",
      "image 38/571 /home/student/Desktop/current_model_ai/test/images/Flipped_vertical_116.png: 480x640 2 Vs, 7.9ms\n",
      "image 39/571 /home/student/Desktop/current_model_ai/test/images/Flipped_vertical_118.png: 480x640 2 Vs, 8.3ms\n",
      "image 40/571 /home/student/Desktop/current_model_ai/test/images/Flipped_vertical_12.png: 480x640 1 V, 7.7ms\n",
      "image 41/571 /home/student/Desktop/current_model_ai/test/images/Flipped_vertical_121.png: 480x640 2 Vs, 7.7ms\n",
      "image 42/571 /home/student/Desktop/current_model_ai/test/images/Flipped_vertical_123.png: 480x640 3 Vs, 8.3ms\n",
      "image 43/571 /home/student/Desktop/current_model_ai/test/images/Flipped_vertical_13.png: 480x640 1 V, 8.0ms\n",
      "image 44/571 /home/student/Desktop/current_model_ai/test/images/Flipped_vertical_130.png: 480x640 2 Vs, 9.2ms\n",
      "image 45/571 /home/student/Desktop/current_model_ai/test/images/Flipped_vertical_137.png: 480x640 1 V, 8.8ms\n",
      "image 46/571 /home/student/Desktop/current_model_ai/test/images/Flipped_vertical_14.png: 480x640 1 V, 7.9ms\n",
      "image 47/571 /home/student/Desktop/current_model_ai/test/images/Flipped_vertical_140.png: 480x640 2 Vs, 8.2ms\n",
      "image 48/571 /home/student/Desktop/current_model_ai/test/images/Flipped_vertical_15.png: 480x640 1 V, 7.7ms\n",
      "image 49/571 /home/student/Desktop/current_model_ai/test/images/Flipped_vertical_17.png: 480x640 2 Vs, 8.4ms\n",
      "image 50/571 /home/student/Desktop/current_model_ai/test/images/Flipped_vertical_18.png: 480x640 1 V, 7.9ms\n",
      "image 51/571 /home/student/Desktop/current_model_ai/test/images/Flipped_vertical_2.png: 480x640 1 V, 8.7ms\n",
      "image 52/571 /home/student/Desktop/current_model_ai/test/images/Flipped_vertical_20.png: 480x640 2 Vs, 9.5ms\n",
      "image 53/571 /home/student/Desktop/current_model_ai/test/images/Flipped_vertical_25.png: 480x640 2 Vs, 8.0ms\n",
      "image 54/571 /home/student/Desktop/current_model_ai/test/images/Flipped_vertical_26.png: 480x640 (no detections), 8.2ms\n",
      "image 55/571 /home/student/Desktop/current_model_ai/test/images/Flipped_vertical_27.png: 480x640 (no detections), 7.7ms\n",
      "image 56/571 /home/student/Desktop/current_model_ai/test/images/Flipped_vertical_29.png: 480x640 1 V, 7.8ms\n",
      "image 57/571 /home/student/Desktop/current_model_ai/test/images/Flipped_vertical_30.png: 480x640 1 V, 7.8ms\n",
      "image 58/571 /home/student/Desktop/current_model_ai/test/images/Flipped_vertical_38.png: 480x640 (no detections), 8.6ms\n",
      "image 59/571 /home/student/Desktop/current_model_ai/test/images/Flipped_vertical_40.png: 480x640 2 Vs, 9.6ms\n",
      "image 60/571 /home/student/Desktop/current_model_ai/test/images/Flipped_vertical_46.png: 480x640 1 V, 7.9ms\n",
      "image 61/571 /home/student/Desktop/current_model_ai/test/images/Flipped_vertical_48.png: 480x640 1 V, 8.4ms\n",
      "image 62/571 /home/student/Desktop/current_model_ai/test/images/Flipped_vertical_51.png: 480x640 (no detections), 7.9ms\n",
      "image 63/571 /home/student/Desktop/current_model_ai/test/images/Flipped_vertical_53.png: 480x640 1 V, 7.9ms\n",
      "image 64/571 /home/student/Desktop/current_model_ai/test/images/Flipped_vertical_56.png: 480x640 (no detections), 8.0ms\n",
      "image 65/571 /home/student/Desktop/current_model_ai/test/images/Flipped_vertical_58.png: 480x640 1 V, 7.7ms\n",
      "image 66/571 /home/student/Desktop/current_model_ai/test/images/Flipped_vertical_59.png: 480x640 1 V, 8.8ms\n",
      "image 67/571 /home/student/Desktop/current_model_ai/test/images/Flipped_vertical_60.png: 480x640 1 V, 8.7ms\n",
      "image 68/571 /home/student/Desktop/current_model_ai/test/images/Flipped_vertical_66.png: 480x640 1 V, 8.8ms\n",
      "image 69/571 /home/student/Desktop/current_model_ai/test/images/Flipped_vertical_67.png: 480x640 1 V, 8.6ms\n",
      "image 70/571 /home/student/Desktop/current_model_ai/test/images/Flipped_vertical_7.png: 480x640 (no detections), 7.9ms\n",
      "image 71/571 /home/student/Desktop/current_model_ai/test/images/Flipped_vertical_74.png: 480x640 1 V, 8.5ms\n",
      "image 72/571 /home/student/Desktop/current_model_ai/test/images/Flipped_vertical_75.png: 480x640 1 V, 7.9ms\n",
      "image 73/571 /home/student/Desktop/current_model_ai/test/images/Flipped_vertical_8.png: 480x640 3 Vs, 8.7ms\n",
      "image 74/571 /home/student/Desktop/current_model_ai/test/images/Flipped_vertical_83.png: 480x640 1 V, 8.4ms\n",
      "image 75/571 /home/student/Desktop/current_model_ai/test/images/Flipped_vertical_85.png: 480x640 1 V, 8.6ms\n",
      "image 76/571 /home/student/Desktop/current_model_ai/test/images/Flipped_vertical_89.png: 480x640 1 V, 9.3ms\n",
      "image 77/571 /home/student/Desktop/current_model_ai/test/images/Flipped_vertical_99.png: 480x640 1 V, 7.9ms\n",
      "image 78/571 /home/student/Desktop/current_model_ai/test/images/Images12.png: 480x640 2 Vs, 8.7ms\n",
      "image 79/571 /home/student/Desktop/current_model_ai/test/images/Images13.png: 480x640 1 V, 7.7ms\n",
      "image 80/571 /home/student/Desktop/current_model_ai/test/images/Images16.png: 480x640 2 Vs, 7.7ms\n",
      "image 81/571 /home/student/Desktop/current_model_ai/test/images/Images18.png: 480x640 1 V, 8.6ms\n",
      "image 82/571 /home/student/Desktop/current_model_ai/test/images/Images20.png: 480x640 (no detections), 8.8ms\n",
      "image 83/571 /home/student/Desktop/current_model_ai/test/images/Images22.png: 480x640 1 V, 9.1ms\n",
      "image 84/571 /home/student/Desktop/current_model_ai/test/images/Images25.png: 480x640 (no detections), 7.9ms\n",
      "image 85/571 /home/student/Desktop/current_model_ai/test/images/Images26.png: 480x640 1 V, 7.9ms\n",
      "image 86/571 /home/student/Desktop/current_model_ai/test/images/Images28.png: 480x640 2 Vs, 8.0ms\n",
      "image 87/571 /home/student/Desktop/current_model_ai/test/images/Images31.png: 480x640 1 V, 7.7ms\n",
      "image 88/571 /home/student/Desktop/current_model_ai/test/images/Images35.png: 480x640 1 V, 8.5ms\n",
      "image 89/571 /home/student/Desktop/current_model_ai/test/images/Images5.png: 480x640 1 V, 8.6ms\n",
      "image 90/571 /home/student/Desktop/current_model_ai/test/images/depth_map.png: 480x640 (no detections), 8.8ms\n",
      "image 91/571 /home/student/Desktop/current_model_ai/test/images/images307.png: 480x640 1 V, 9.0ms\n",
      "image 92/571 /home/student/Desktop/current_model_ai/test/images/images309.png: 480x640 1 V, 7.9ms\n",
      "image 93/571 /home/student/Desktop/current_model_ai/test/images/images310.png: 480x640 1 V, 8.6ms\n",
      "image 94/571 /home/student/Desktop/current_model_ai/test/images/images321.png: 480x640 1 V, 7.7ms\n",
      "image 95/571 /home/student/Desktop/current_model_ai/test/images/images324.png: 480x640 1 V, 8.3ms\n",
      "image 96/571 /home/student/Desktop/current_model_ai/test/images/images327.png: 480x640 1 V, 7.8ms\n",
      "image 97/571 /home/student/Desktop/current_model_ai/test/images/images329.png: 480x640 (no detections), 7.8ms\n",
      "image 98/571 /home/student/Desktop/current_model_ai/test/images/images330.png: 480x640 1 V, 7.7ms\n",
      "image 99/571 /home/student/Desktop/current_model_ai/test/images/images332.png: 480x640 1 V, 8.0ms\n",
      "image 100/571 /home/student/Desktop/current_model_ai/test/images/images333.png: 480x640 1 V, 9.1ms\n",
      "image 101/571 /home/student/Desktop/current_model_ai/test/images/images334.png: 480x640 2 Vs, 9.0ms\n",
      "image 102/571 /home/student/Desktop/current_model_ai/test/images/images336.png: 480x640 2 Vs, 7.9ms\n",
      "image 103/571 /home/student/Desktop/current_model_ai/test/images/images343.png: 480x640 1 V, 7.9ms\n",
      "image 104/571 /home/student/Desktop/current_model_ai/test/images/images348.png: 480x640 1 V, 7.9ms\n",
      "image 105/571 /home/student/Desktop/current_model_ai/test/images/images350.png: 480x640 3 Vs, 7.7ms\n",
      "image 106/571 /home/student/Desktop/current_model_ai/test/images/images356.png: 480x640 1 V, 7.7ms\n",
      "image 107/571 /home/student/Desktop/current_model_ai/test/images/images357.png: 480x640 (no detections), 8.0ms\n",
      "image 108/571 /home/student/Desktop/current_model_ai/test/images/images359.png: 480x640 1 V, 7.7ms\n",
      "image 109/571 /home/student/Desktop/current_model_ai/test/images/images361.png: 480x640 1 V, 8.7ms\n",
      "image 110/571 /home/student/Desktop/current_model_ai/test/images/images364.png: 480x640 1 V, 8.0ms\n",
      "image 111/571 /home/student/Desktop/current_model_ai/test/images/images365.png: 480x640 (no detections), 8.4ms\n",
      "image 112/571 /home/student/Desktop/current_model_ai/test/images/images366.png: 480x640 1 V, 8.6ms\n",
      "image 113/571 /home/student/Desktop/current_model_ai/test/images/images367.png: 480x640 1 V, 8.9ms\n",
      "image 114/571 /home/student/Desktop/current_model_ai/test/images/images368.png: 480x640 (no detections), 8.5ms\n",
      "image 115/571 /home/student/Desktop/current_model_ai/test/images/images369.png: 480x640 (no detections), 7.9ms\n",
      "image 116/571 /home/student/Desktop/current_model_ai/test/images/images370.png: 480x640 1 V, 9.0ms\n",
      "image 117/571 /home/student/Desktop/current_model_ai/test/images/images371.png: 480x640 1 V, 7.8ms\n",
      "image 118/571 /home/student/Desktop/current_model_ai/test/images/images372.png: 480x640 1 V, 8.5ms\n",
      "image 119/571 /home/student/Desktop/current_model_ai/test/images/images374.png: 480x640 2 Vs, 7.7ms\n",
      "image 120/571 /home/student/Desktop/current_model_ai/test/images/images376.png: 480x640 2 Vs, 7.7ms\n",
      "image 121/571 /home/student/Desktop/current_model_ai/test/images/images378.png: 480x640 2 Vs, 7.7ms\n",
      "image 122/571 /home/student/Desktop/current_model_ai/test/images/images379.png: 480x640 2 Vs, 8.0ms\n",
      "image 123/571 /home/student/Desktop/current_model_ai/test/images/images386.png: 480x640 1 V, 9.4ms\n",
      "image 124/571 /home/student/Desktop/current_model_ai/test/images/images388.png: 480x640 2 Vs, 9.0ms\n",
      "image 125/571 /home/student/Desktop/current_model_ai/test/images/images391.png: 480x640 3 Vs, 7.8ms\n",
      "image 126/571 /home/student/Desktop/current_model_ai/test/images/images392.png: 480x640 2 Vs, 7.7ms\n",
      "image 127/571 /home/student/Desktop/current_model_ai/test/images/images399.png: 480x640 2 Vs, 7.8ms\n",
      "image 128/571 /home/student/Desktop/current_model_ai/test/images/images401.png: 480x640 1 V, 7.9ms\n",
      "image 129/571 /home/student/Desktop/current_model_ai/test/images/images403.png: 480x640 2 Vs, 7.8ms\n",
      "image 130/571 /home/student/Desktop/current_model_ai/test/images/img1.png: 480x640 (no detections), 8.7ms\n",
      "image 131/571 /home/student/Desktop/current_model_ai/test/images/img2.png: 480x640 (no detections), 7.7ms\n",
      "image 132/571 /home/student/Desktop/current_model_ai/test/images/img3.png: 480x640 (no detections), 8.5ms\n",
      "image 133/571 /home/student/Desktop/current_model_ai/test/images/img4.png: 480x640 1 V, 7.7ms\n",
      "image 134/571 /home/student/Desktop/current_model_ai/test/images/img5.png: 480x640 2 Vs, 8.0ms\n",
      "image 135/571 /home/student/Desktop/current_model_ai/test/images/rotated_180_101.png: 480x640 1 V, 8.6ms\n",
      "image 136/571 /home/student/Desktop/current_model_ai/test/images/rotated_180_106.png: 480x640 1 V, 8.9ms\n",
      "image 137/571 /home/student/Desktop/current_model_ai/test/images/rotated_180_107.png: 480x640 1 V, 9.1ms\n",
      "image 138/571 /home/student/Desktop/current_model_ai/test/images/rotated_180_11.png: 480x640 1 V, 7.7ms\n",
      "image 139/571 /home/student/Desktop/current_model_ai/test/images/rotated_180_114.png: 480x640 1 V, 8.5ms\n",
      "image 140/571 /home/student/Desktop/current_model_ai/test/images/rotated_180_115.png: 480x640 1 V, 7.7ms\n",
      "image 141/571 /home/student/Desktop/current_model_ai/test/images/rotated_180_116.png: 480x640 1 V, 8.2ms\n",
      "image 142/571 /home/student/Desktop/current_model_ai/test/images/rotated_180_120.png: 480x640 3 Vs, 7.7ms\n",
      "image 143/571 /home/student/Desktop/current_model_ai/test/images/rotated_180_121.png: 480x640 1 V, 7.9ms\n",
      "image 144/571 /home/student/Desktop/current_model_ai/test/images/rotated_180_122.png: 480x640 1 V, 8.1ms\n",
      "image 145/571 /home/student/Desktop/current_model_ai/test/images/rotated_180_123.png: 480x640 1 V, 8.6ms\n",
      "image 146/571 /home/student/Desktop/current_model_ai/test/images/rotated_180_124.png: 480x640 1 V, 9.1ms\n",
      "image 147/571 /home/student/Desktop/current_model_ai/test/images/rotated_180_126.png: 480x640 1 V, 7.7ms\n",
      "image 148/571 /home/student/Desktop/current_model_ai/test/images/rotated_180_127.png: 480x640 2 Vs, 7.7ms\n",
      "image 149/571 /home/student/Desktop/current_model_ai/test/images/rotated_180_129.png: 480x640 2 Vs, 7.8ms\n",
      "image 150/571 /home/student/Desktop/current_model_ai/test/images/rotated_180_13.png: 480x640 (no detections), 7.7ms\n",
      "image 151/571 /home/student/Desktop/current_model_ai/test/images/rotated_180_132.png: 480x640 1 V, 8.5ms\n",
      "image 152/571 /home/student/Desktop/current_model_ai/test/images/rotated_180_139.png: 480x640 1 V, 7.7ms\n",
      "image 153/571 /home/student/Desktop/current_model_ai/test/images/rotated_180_144.png: 480x640 1 V, 8.5ms\n",
      "image 154/571 /home/student/Desktop/current_model_ai/test/images/rotated_180_15.png: 480x640 2 Vs, 8.2ms\n",
      "image 155/571 /home/student/Desktop/current_model_ai/test/images/rotated_180_152.png: 480x640 1 V, 8.9ms\n",
      "image 156/571 /home/student/Desktop/current_model_ai/test/images/rotated_180_154.png: 480x640 1 V, 8.7ms\n",
      "image 157/571 /home/student/Desktop/current_model_ai/test/images/rotated_180_158.png: 480x640 2 Vs, 7.7ms\n",
      "image 158/571 /home/student/Desktop/current_model_ai/test/images/rotated_180_16.png: 480x640 2 Vs, 8.5ms\n",
      "image 159/571 /home/student/Desktop/current_model_ai/test/images/rotated_180_162.png: 480x640 2 Vs, 7.7ms\n",
      "image 160/571 /home/student/Desktop/current_model_ai/test/images/rotated_180_164.png: 480x640 2 Vs, 8.6ms\n",
      "image 161/571 /home/student/Desktop/current_model_ai/test/images/rotated_180_166.png: 480x640 2 Vs, 7.8ms\n",
      "image 162/571 /home/student/Desktop/current_model_ai/test/images/rotated_180_168.png: 480x640 1 V, 7.8ms\n",
      "image 163/571 /home/student/Desktop/current_model_ai/test/images/rotated_180_17.png: 480x640 2 Vs, 7.9ms\n",
      "image 164/571 /home/student/Desktop/current_model_ai/test/images/rotated_180_176.png: 480x640 1 V, 8.9ms\n",
      "image 165/571 /home/student/Desktop/current_model_ai/test/images/rotated_180_180.png: 480x640 2 Vs, 8.9ms\n",
      "image 166/571 /home/student/Desktop/current_model_ai/test/images/rotated_180_181.png: 480x640 2 Vs, 7.7ms\n",
      "image 167/571 /home/student/Desktop/current_model_ai/test/images/rotated_180_182.png: 480x640 2 Vs, 7.7ms\n",
      "image 168/571 /home/student/Desktop/current_model_ai/test/images/rotated_180_190.png: 480x640 (no detections), 7.7ms\n",
      "image 169/571 /home/student/Desktop/current_model_ai/test/images/rotated_180_194.png: 480x640 (no detections), 7.7ms\n",
      "image 170/571 /home/student/Desktop/current_model_ai/test/images/rotated_180_198.png: 480x640 1 V, 8.0ms\n",
      "image 171/571 /home/student/Desktop/current_model_ai/test/images/rotated_180_199.png: 480x640 2 Vs, 7.9ms\n",
      "image 172/571 /home/student/Desktop/current_model_ai/test/images/rotated_180_2.png: 480x640 1 V, 9.0ms\n",
      "image 173/571 /home/student/Desktop/current_model_ai/test/images/rotated_180_20.png: 480x640 2 Vs, 8.7ms\n",
      "image 174/571 /home/student/Desktop/current_model_ai/test/images/rotated_180_214.png: 480x640 1 V, 7.7ms\n",
      "image 175/571 /home/student/Desktop/current_model_ai/test/images/rotated_180_216.png: 480x640 1 V, 8.6ms\n",
      "image 176/571 /home/student/Desktop/current_model_ai/test/images/rotated_180_218.png: 480x640 1 V, 7.7ms\n",
      "image 177/571 /home/student/Desktop/current_model_ai/test/images/rotated_180_22.png: 480x640 2 Vs, 8.6ms\n",
      "image 178/571 /home/student/Desktop/current_model_ai/test/images/rotated_180_225.png: 480x640 1 V, 8.0ms\n",
      "image 179/571 /home/student/Desktop/current_model_ai/test/images/rotated_180_226.png: 480x640 1 V, 8.6ms\n",
      "image 180/571 /home/student/Desktop/current_model_ai/test/images/rotated_180_227.png: 480x640 1 V, 9.3ms\n",
      "image 181/571 /home/student/Desktop/current_model_ai/test/images/rotated_180_228.png: 480x640 3 Vs, 7.7ms\n",
      "image 182/571 /home/student/Desktop/current_model_ai/test/images/rotated_180_230.png: 480x640 (no detections), 8.3ms\n",
      "image 183/571 /home/student/Desktop/current_model_ai/test/images/rotated_180_233.png: 480x640 1 V, 7.7ms\n",
      "image 184/571 /home/student/Desktop/current_model_ai/test/images/rotated_180_236.png: 480x640 1 V, 7.7ms\n",
      "image 185/571 /home/student/Desktop/current_model_ai/test/images/rotated_180_238.png: 480x640 1 V, 7.8ms\n",
      "image 186/571 /home/student/Desktop/current_model_ai/test/images/rotated_180_24.png: 480x640 1 V, 8.6ms\n",
      "image 187/571 /home/student/Desktop/current_model_ai/test/images/rotated_180_241.png: 480x640 1 V, 9.5ms\n",
      "image 188/571 /home/student/Desktop/current_model_ai/test/images/rotated_180_242.png: 480x640 1 V, 7.7ms\n",
      "image 189/571 /home/student/Desktop/current_model_ai/test/images/rotated_180_249.png: 480x640 1 V, 7.7ms\n",
      "image 190/571 /home/student/Desktop/current_model_ai/test/images/rotated_180_250.png: 480x640 (no detections), 7.7ms\n",
      "image 191/571 /home/student/Desktop/current_model_ai/test/images/rotated_180_253.png: 480x640 2 Vs, 7.7ms\n",
      "image 192/571 /home/student/Desktop/current_model_ai/test/images/rotated_180_255.png: 480x640 1 V, 8.4ms\n",
      "image 193/571 /home/student/Desktop/current_model_ai/test/images/rotated_180_257.png: 480x640 1 V, 7.8ms\n",
      "image 194/571 /home/student/Desktop/current_model_ai/test/images/rotated_180_264.png: 480x640 1 V, 8.7ms\n",
      "image 195/571 /home/student/Desktop/current_model_ai/test/images/rotated_180_268.png: 480x640 2 Vs, 7.9ms\n",
      "image 196/571 /home/student/Desktop/current_model_ai/test/images/rotated_180_273.png: 480x640 1 V, 8.7ms\n",
      "image 197/571 /home/student/Desktop/current_model_ai/test/images/rotated_180_274.png: 480x640 1 V, 8.0ms\n",
      "image 198/571 /home/student/Desktop/current_model_ai/test/images/rotated_180_275.png: 480x640 1 V, 7.7ms\n",
      "image 199/571 /home/student/Desktop/current_model_ai/test/images/rotated_180_276.png: 480x640 (no detections), 8.5ms\n",
      "image 200/571 /home/student/Desktop/current_model_ai/test/images/rotated_180_28.png: 480x640 3 Vs, 7.7ms\n",
      "image 201/571 /home/student/Desktop/current_model_ai/test/images/rotated_180_29.png: 480x640 3 Vs, 8.6ms\n",
      "image 202/571 /home/student/Desktop/current_model_ai/test/images/rotated_180_290.png: 480x640 2 Vs, 8.0ms\n",
      "image 203/571 /home/student/Desktop/current_model_ai/test/images/rotated_180_292.png: 480x640 1 V, 8.6ms\n",
      "image 204/571 /home/student/Desktop/current_model_ai/test/images/rotated_180_295.png: 480x640 1 V, 9.5ms\n",
      "image 205/571 /home/student/Desktop/current_model_ai/test/images/rotated_180_297.png: 480x640 1 V, 7.7ms\n",
      "image 206/571 /home/student/Desktop/current_model_ai/test/images/rotated_180_300.png: 480x640 1 V, 7.7ms\n",
      "image 207/571 /home/student/Desktop/current_model_ai/test/images/rotated_180_302.png: 480x640 1 V, 7.7ms\n",
      "image 208/571 /home/student/Desktop/current_model_ai/test/images/rotated_180_304.png: 480x640 1 V, 7.7ms\n",
      "image 209/571 /home/student/Desktop/current_model_ai/test/images/rotated_180_305.png: 480x640 1 V, 8.7ms\n",
      "image 210/571 /home/student/Desktop/current_model_ai/test/images/rotated_180_307.png: 480x640 2 Vs, 8.2ms\n",
      "image 211/571 /home/student/Desktop/current_model_ai/test/images/rotated_180_308.png: 480x640 1 V, 7.7ms\n",
      "image 212/571 /home/student/Desktop/current_model_ai/test/images/rotated_180_31.png: 480x640 2 Vs, 7.8ms\n",
      "image 213/571 /home/student/Desktop/current_model_ai/test/images/rotated_180_316.png: 480x640 1 V, 7.8ms\n",
      "image 214/571 /home/student/Desktop/current_model_ai/test/images/rotated_180_318.png: 480x640 1 V, 8.7ms\n",
      "image 215/571 /home/student/Desktop/current_model_ai/test/images/rotated_180_32.png: 480x640 2 Vs, 7.9ms\n",
      "image 216/571 /home/student/Desktop/current_model_ai/test/images/rotated_180_324.png: 480x640 1 V, 8.9ms\n",
      "image 217/571 /home/student/Desktop/current_model_ai/test/images/rotated_180_327.png: 480x640 1 V, 8.8ms\n",
      "image 218/571 /home/student/Desktop/current_model_ai/test/images/rotated_180_328.png: 480x640 1 V, 7.8ms\n",
      "image 219/571 /home/student/Desktop/current_model_ai/test/images/rotated_180_329.png: 480x640 (no detections), 8.5ms\n",
      "image 220/571 /home/student/Desktop/current_model_ai/test/images/rotated_180_331.png: 480x640 1 V, 7.7ms\n",
      "image 221/571 /home/student/Desktop/current_model_ai/test/images/rotated_180_332.png: 480x640 1 V, 8.6ms\n",
      "image 222/571 /home/student/Desktop/current_model_ai/test/images/rotated_180_333.png: 480x640 (no detections), 7.7ms\n",
      "image 223/571 /home/student/Desktop/current_model_ai/test/images/rotated_180_334.png: 480x640 (no detections), 8.6ms\n",
      "image 224/571 /home/student/Desktop/current_model_ai/test/images/rotated_180_336.png: 480x640 1 V, 7.7ms\n",
      "image 225/571 /home/student/Desktop/current_model_ai/test/images/rotated_180_338.png: 480x640 (no detections), 7.8ms\n",
      "image 226/571 /home/student/Desktop/current_model_ai/test/images/rotated_180_339.png: 480x640 1 V, 7.7ms\n",
      "image 227/571 /home/student/Desktop/current_model_ai/test/images/rotated_180_340.png: 480x640 1 V, 7.9ms\n",
      "image 228/571 /home/student/Desktop/current_model_ai/test/images/rotated_180_343.png: 480x640 1 V, 9.1ms\n",
      "image 229/571 /home/student/Desktop/current_model_ai/test/images/rotated_180_349.png: 480x640 1 V, 8.9ms\n",
      "image 230/571 /home/student/Desktop/current_model_ai/test/images/rotated_180_351.png: 480x640 1 V, 7.7ms\n",
      "image 231/571 /home/student/Desktop/current_model_ai/test/images/rotated_180_364.png: 480x640 1 V, 8.0ms\n",
      "image 232/571 /home/student/Desktop/current_model_ai/test/images/rotated_180_367.png: 480x640 1 V, 7.7ms\n",
      "image 233/571 /home/student/Desktop/current_model_ai/test/images/rotated_180_37.png: 480x640 3 Vs, 8.7ms\n",
      "image 234/571 /home/student/Desktop/current_model_ai/test/images/rotated_180_370.png: 480x640 3 Vs, 8.9ms\n",
      "image 235/571 /home/student/Desktop/current_model_ai/test/images/rotated_180_372.png: 480x640 1 V, 8.8ms\n",
      "image 236/571 /home/student/Desktop/current_model_ai/test/images/rotated_180_373.png: 480x640 1 V, 8.2ms\n",
      "image 237/571 /home/student/Desktop/current_model_ai/test/images/rotated_180_374.png: 480x640 1 V, 7.8ms\n",
      "image 238/571 /home/student/Desktop/current_model_ai/test/images/rotated_180_376.png: 480x640 1 V, 8.4ms\n",
      "image 239/571 /home/student/Desktop/current_model_ai/test/images/rotated_180_377.png: 480x640 1 V, 8.6ms\n",
      "image 240/571 /home/student/Desktop/current_model_ai/test/images/rotated_180_379.png: 480x640 1 V, 8.8ms\n",
      "image 241/571 /home/student/Desktop/current_model_ai/test/images/rotated_180_380.png: 480x640 (no detections), 8.7ms\n",
      "image 242/571 /home/student/Desktop/current_model_ai/test/images/rotated_180_384.png: 480x640 1 V, 7.7ms\n",
      "image 243/571 /home/student/Desktop/current_model_ai/test/images/rotated_180_392.png: 480x640 2 Vs, 8.2ms\n",
      "image 244/571 /home/student/Desktop/current_model_ai/test/images/rotated_180_400.png: 480x640 2 Vs, 7.7ms\n",
      "image 245/571 /home/student/Desktop/current_model_ai/test/images/rotated_180_402.png: 480x640 2 Vs, 7.8ms\n",
      "image 246/571 /home/student/Desktop/current_model_ai/test/images/rotated_180_403.png: 480x640 2 Vs, 7.7ms\n",
      "image 247/571 /home/student/Desktop/current_model_ai/test/images/rotated_180_405.png: 480x640 2 Vs, 7.9ms\n",
      "image 248/571 /home/student/Desktop/current_model_ai/test/images/rotated_180_41.png: 480x640 2 Vs, 9.1ms\n",
      "image 249/571 /home/student/Desktop/current_model_ai/test/images/rotated_180_413.png: 480x640 3 Vs, 8.9ms\n",
      "image 250/571 /home/student/Desktop/current_model_ai/test/images/rotated_180_417.png: 480x640 1 V, 7.7ms\n",
      "image 251/571 /home/student/Desktop/current_model_ai/test/images/rotated_180_44.png: 480x640 2 Vs, 7.7ms\n",
      "image 252/571 /home/student/Desktop/current_model_ai/test/images/rotated_180_47.png: 480x640 2 Vs, 7.7ms\n",
      "image 253/571 /home/student/Desktop/current_model_ai/test/images/rotated_180_49.png: 480x640 1 V, 8.0ms\n",
      "image 254/571 /home/student/Desktop/current_model_ai/test/images/rotated_180_56.png: 480x640 1 V, 8.0ms\n",
      "image 255/571 /home/student/Desktop/current_model_ai/test/images/rotated_180_58.png: 480x640 1 V, 9.1ms\n",
      "image 256/571 /home/student/Desktop/current_model_ai/test/images/rotated_180_59.png: 480x640 1 V, 8.8ms\n",
      "image 257/571 /home/student/Desktop/current_model_ai/test/images/rotated_180_60.png: 480x640 2 Vs, 7.8ms\n",
      "image 258/571 /home/student/Desktop/current_model_ai/test/images/rotated_180_65.png: 480x640 2 Vs, 8.5ms\n",
      "image 259/571 /home/student/Desktop/current_model_ai/test/images/rotated_180_72.png: 480x640 1 V, 7.7ms\n",
      "image 260/571 /home/student/Desktop/current_model_ai/test/images/rotated_180_74.png: 480x640 (no detections), 8.1ms\n",
      "image 261/571 /home/student/Desktop/current_model_ai/test/images/rotated_180_78.png: 480x640 1 V, 8.0ms\n",
      "image 262/571 /home/student/Desktop/current_model_ai/test/images/rotated_180_81.png: 480x640 1 V, 8.6ms\n",
      "image 263/571 /home/student/Desktop/current_model_ai/test/images/rotated_180_86.png: 480x640 1 V, 9.3ms\n",
      "image 264/571 /home/student/Desktop/current_model_ai/test/images/rotated_180_90.png: 480x640 (no detections), 7.7ms\n",
      "image 265/571 /home/student/Desktop/current_model_ai/test/images/rotated_180_96.png: 480x640 1 V, 8.8ms\n",
      "image 266/571 /home/student/Desktop/current_model_ai/test/images/rotated_180_98.png: 480x640 3 Vs, 7.7ms\n",
      "image 267/571 /home/student/Desktop/current_model_ai/test/images/rotated_270_103.png: 640x480 1 V, 7.9ms\n",
      "image 268/571 /home/student/Desktop/current_model_ai/test/images/rotated_270_105.png: 640x480 1 V, 7.3ms\n",
      "image 269/571 /home/student/Desktop/current_model_ai/test/images/rotated_270_109.png: 640x480 1 V, 7.3ms\n",
      "image 270/571 /home/student/Desktop/current_model_ai/test/images/rotated_270_11.png: 640x480 1 V, 7.3ms\n",
      "image 271/571 /home/student/Desktop/current_model_ai/test/images/rotated_270_111.png: 640x480 2 Vs, 7.5ms\n",
      "image 272/571 /home/student/Desktop/current_model_ai/test/images/rotated_270_114.png: 640x480 1 V, 7.9ms\n",
      "image 273/571 /home/student/Desktop/current_model_ai/test/images/rotated_270_119.png: 640x480 1 V, 7.3ms\n",
      "image 274/571 /home/student/Desktop/current_model_ai/test/images/rotated_270_122.png: 640x480 1 V, 8.2ms\n",
      "image 275/571 /home/student/Desktop/current_model_ai/test/images/rotated_270_124.png: 640x480 1 V, 7.6ms\n",
      "image 276/571 /home/student/Desktop/current_model_ai/test/images/rotated_270_128.png: 640x480 3 Vs, 8.2ms\n",
      "image 277/571 /home/student/Desktop/current_model_ai/test/images/rotated_270_138.png: 640x480 1 V, 8.4ms\n",
      "image 278/571 /home/student/Desktop/current_model_ai/test/images/rotated_270_139.png: 640x480 1 V, 8.2ms\n",
      "image 279/571 /home/student/Desktop/current_model_ai/test/images/rotated_270_14.png: 640x480 2 Vs, 8.5ms\n",
      "image 280/571 /home/student/Desktop/current_model_ai/test/images/rotated_270_144.png: 640x480 1 V, 7.9ms\n",
      "image 281/571 /home/student/Desktop/current_model_ai/test/images/rotated_270_150.png: 640x480 1 V, 8.1ms\n",
      "image 282/571 /home/student/Desktop/current_model_ai/test/images/rotated_270_153.png: 640x480 2 Vs, 7.6ms\n",
      "image 283/571 /home/student/Desktop/current_model_ai/test/images/rotated_270_155.png: 640x480 2 Vs, 8.0ms\n",
      "image 284/571 /home/student/Desktop/current_model_ai/test/images/rotated_270_156.png: 640x480 2 Vs, 7.3ms\n",
      "image 285/571 /home/student/Desktop/current_model_ai/test/images/rotated_270_157.png: 640x480 2 Vs, 8.2ms\n",
      "image 286/571 /home/student/Desktop/current_model_ai/test/images/rotated_270_158.png: 640x480 2 Vs, 7.3ms\n",
      "image 287/571 /home/student/Desktop/current_model_ai/test/images/rotated_270_159.png: 640x480 2 Vs, 8.1ms\n",
      "image 288/571 /home/student/Desktop/current_model_ai/test/images/rotated_270_16.png: 640x480 1 V, 7.3ms\n",
      "image 289/571 /home/student/Desktop/current_model_ai/test/images/rotated_270_160.png: 640x480 2 Vs, 8.2ms\n",
      "image 290/571 /home/student/Desktop/current_model_ai/test/images/rotated_270_163.png: 640x480 2 Vs, 7.3ms\n",
      "image 291/571 /home/student/Desktop/current_model_ai/test/images/rotated_270_165.png: 640x480 1 V, 9.3ms\n",
      "image 292/571 /home/student/Desktop/current_model_ai/test/images/rotated_270_168.png: 640x480 1 V, 8.3ms\n",
      "image 293/571 /home/student/Desktop/current_model_ai/test/images/rotated_270_169.png: 640x480 2 Vs, 8.2ms\n",
      "image 294/571 /home/student/Desktop/current_model_ai/test/images/rotated_270_17.png: 640x480 2 Vs, 8.9ms\n",
      "image 295/571 /home/student/Desktop/current_model_ai/test/images/rotated_270_171.png: 640x480 2 Vs, 8.4ms\n",
      "image 296/571 /home/student/Desktop/current_model_ai/test/images/rotated_270_178.png: 640x480 4 Vs, 7.8ms\n",
      "image 297/571 /home/student/Desktop/current_model_ai/test/images/rotated_270_186.png: 640x480 1 V, 7.6ms\n",
      "image 298/571 /home/student/Desktop/current_model_ai/test/images/rotated_270_190.png: 640x480 1 V, 7.3ms\n",
      "image 299/571 /home/student/Desktop/current_model_ai/test/images/rotated_270_193.png: 640x480 1 V, 8.1ms\n",
      "image 300/571 /home/student/Desktop/current_model_ai/test/images/rotated_270_199.png: 640x480 1 V, 7.3ms\n",
      "image 301/571 /home/student/Desktop/current_model_ai/test/images/rotated_270_207.png: 640x480 1 V, 8.4ms\n",
      "image 302/571 /home/student/Desktop/current_model_ai/test/images/rotated_270_208.png: 640x480 2 Vs, 8.3ms\n",
      "image 303/571 /home/student/Desktop/current_model_ai/test/images/rotated_270_209.png: 640x480 1 V, 8.1ms\n",
      "image 304/571 /home/student/Desktop/current_model_ai/test/images/rotated_270_213.png: 640x480 1 V, 7.9ms\n",
      "image 305/571 /home/student/Desktop/current_model_ai/test/images/rotated_270_215.png: 640x480 (no detections), 7.4ms\n",
      "image 306/571 /home/student/Desktop/current_model_ai/test/images/rotated_270_216.png: 640x480 1 V, 8.1ms\n",
      "image 307/571 /home/student/Desktop/current_model_ai/test/images/rotated_270_217.png: 640x480 2 Vs, 7.3ms\n",
      "image 308/571 /home/student/Desktop/current_model_ai/test/images/rotated_270_218.png: 640x480 2 Vs, 7.4ms\n",
      "image 309/571 /home/student/Desktop/current_model_ai/test/images/rotated_270_22.png: 640x480 2 Vs, 8.4ms\n",
      "image 310/571 /home/student/Desktop/current_model_ai/test/images/rotated_270_226.png: 640x480 1 V, 8.4ms\n",
      "image 311/571 /home/student/Desktop/current_model_ai/test/images/rotated_270_229.png: 640x480 1 V, 9.0ms\n",
      "image 312/571 /home/student/Desktop/current_model_ai/test/images/rotated_270_231.png: 640x480 1 V, 7.7ms\n",
      "image 313/571 /home/student/Desktop/current_model_ai/test/images/rotated_270_234.png: 640x480 1 V, 8.4ms\n",
      "image 314/571 /home/student/Desktop/current_model_ai/test/images/rotated_270_235.png: 640x480 1 V, 7.3ms\n",
      "image 315/571 /home/student/Desktop/current_model_ai/test/images/rotated_270_236.png: 640x480 1 V, 7.3ms\n",
      "image 316/571 /home/student/Desktop/current_model_ai/test/images/rotated_270_239.png: 640x480 2 Vs, 7.3ms\n",
      "image 317/571 /home/student/Desktop/current_model_ai/test/images/rotated_270_24.png: 640x480 1 V, 7.4ms\n",
      "image 318/571 /home/student/Desktop/current_model_ai/test/images/rotated_270_241.png: 640x480 1 V, 7.6ms\n",
      "image 319/571 /home/student/Desktop/current_model_ai/test/images/rotated_270_245.png: 640x480 1 V, 7.3ms\n",
      "image 320/571 /home/student/Desktop/current_model_ai/test/images/rotated_270_247.png: 640x480 1 V, 7.9ms\n",
      "image 321/571 /home/student/Desktop/current_model_ai/test/images/rotated_270_249.png: 640x480 1 V, 7.3ms\n",
      "image 322/571 /home/student/Desktop/current_model_ai/test/images/rotated_270_259.png: 640x480 1 V, 8.3ms\n",
      "image 323/571 /home/student/Desktop/current_model_ai/test/images/rotated_270_26.png: 640x480 2 Vs, 7.3ms\n",
      "image 324/571 /home/student/Desktop/current_model_ai/test/images/rotated_270_262.png: 640x480 1 V, 7.9ms\n",
      "image 325/571 /home/student/Desktop/current_model_ai/test/images/rotated_270_264.png: 640x480 1 V, 7.3ms\n",
      "image 326/571 /home/student/Desktop/current_model_ai/test/images/rotated_270_265.png: 640x480 1 V, 8.0ms\n",
      "image 327/571 /home/student/Desktop/current_model_ai/test/images/rotated_270_268.png: 640x480 3 Vs, 7.5ms\n",
      "image 328/571 /home/student/Desktop/current_model_ai/test/images/rotated_270_27.png: 640x480 2 Vs, 7.3ms\n",
      "image 329/571 /home/student/Desktop/current_model_ai/test/images/rotated_270_273.png: 640x480 1 V, 7.3ms\n",
      "image 330/571 /home/student/Desktop/current_model_ai/test/images/rotated_270_274.png: 640x480 (no detections), 7.6ms\n",
      "image 331/571 /home/student/Desktop/current_model_ai/test/images/rotated_270_276.png: 640x480 1 V, 7.6ms\n",
      "image 332/571 /home/student/Desktop/current_model_ai/test/images/rotated_270_277.png: 640x480 1 V, 7.6ms\n",
      "image 333/571 /home/student/Desktop/current_model_ai/test/images/rotated_270_280.png: 640x480 1 V, 8.8ms\n",
      "image 334/571 /home/student/Desktop/current_model_ai/test/images/rotated_270_281.png: 640x480 (no detections), 8.4ms\n",
      "image 335/571 /home/student/Desktop/current_model_ai/test/images/rotated_270_282.png: 640x480 1 V, 9.0ms\n",
      "image 336/571 /home/student/Desktop/current_model_ai/test/images/rotated_270_283.png: 640x480 (no detections), 7.3ms\n",
      "image 337/571 /home/student/Desktop/current_model_ai/test/images/rotated_270_285.png: 640x480 1 V, 7.4ms\n",
      "image 338/571 /home/student/Desktop/current_model_ai/test/images/rotated_270_288.png: 640x480 3 Vs, 7.3ms\n",
      "image 339/571 /home/student/Desktop/current_model_ai/test/images/rotated_270_289.png: 640x480 1 V, 7.3ms\n",
      "image 340/571 /home/student/Desktop/current_model_ai/test/images/rotated_270_29.png: 640x480 3 Vs, 7.6ms\n",
      "image 341/571 /home/student/Desktop/current_model_ai/test/images/rotated_270_293.png: 640x480 1 V, 7.4ms\n",
      "image 342/571 /home/student/Desktop/current_model_ai/test/images/rotated_270_299.png: 640x480 2 Vs, 8.6ms\n",
      "image 343/571 /home/student/Desktop/current_model_ai/test/images/rotated_270_3.png: 640x480 (no detections), 8.4ms\n",
      "image 344/571 /home/student/Desktop/current_model_ai/test/images/rotated_270_30.png: 640x480 2 Vs, 8.4ms\n",
      "image 345/571 /home/student/Desktop/current_model_ai/test/images/rotated_270_300.png: 640x480 1 V, 8.1ms\n",
      "image 346/571 /home/student/Desktop/current_model_ai/test/images/rotated_270_302.png: 640x480 2 Vs, 7.4ms\n",
      "image 347/571 /home/student/Desktop/current_model_ai/test/images/rotated_270_304.png: 640x480 1 V, 8.4ms\n",
      "image 348/571 /home/student/Desktop/current_model_ai/test/images/rotated_270_306.png: 640x480 1 V, 7.3ms\n",
      "image 349/571 /home/student/Desktop/current_model_ai/test/images/rotated_270_312.png: 640x480 1 V, 8.1ms\n",
      "image 350/571 /home/student/Desktop/current_model_ai/test/images/rotated_270_319.png: 640x480 2 Vs, 7.6ms\n",
      "image 351/571 /home/student/Desktop/current_model_ai/test/images/rotated_270_32.png: 640x480 2 Vs, 7.6ms\n",
      "image 352/571 /home/student/Desktop/current_model_ai/test/images/rotated_270_320.png: 640x480 1 V, 8.5ms\n",
      "image 353/571 /home/student/Desktop/current_model_ai/test/images/rotated_270_321.png: 640x480 1 V, 8.5ms\n",
      "image 354/571 /home/student/Desktop/current_model_ai/test/images/rotated_270_322.png: 640x480 1 V, 8.2ms\n",
      "image 355/571 /home/student/Desktop/current_model_ai/test/images/rotated_270_324.png: 640x480 1 V, 7.3ms\n",
      "image 356/571 /home/student/Desktop/current_model_ai/test/images/rotated_270_333.png: 640x480 (no detections), 8.0ms\n",
      "image 357/571 /home/student/Desktop/current_model_ai/test/images/rotated_270_334.png: 640x480 1 V, 7.3ms\n",
      "image 358/571 /home/student/Desktop/current_model_ai/test/images/rotated_270_335.png: 640x480 1 V, 7.8ms\n",
      "image 359/571 /home/student/Desktop/current_model_ai/test/images/rotated_270_336.png: 640x480 1 V, 7.3ms\n",
      "image 360/571 /home/student/Desktop/current_model_ai/test/images/rotated_270_339.png: 640x480 1 V, 7.3ms\n",
      "image 361/571 /home/student/Desktop/current_model_ai/test/images/rotated_270_340.png: 640x480 1 V, 7.4ms\n",
      "image 362/571 /home/student/Desktop/current_model_ai/test/images/rotated_270_345.png: 640x480 1 V, 7.3ms\n",
      "image 363/571 /home/student/Desktop/current_model_ai/test/images/rotated_270_346.png: 640x480 1 V, 7.3ms\n",
      "image 364/571 /home/student/Desktop/current_model_ai/test/images/rotated_270_347.png: 640x480 1 V, 7.3ms\n",
      "image 365/571 /home/student/Desktop/current_model_ai/test/images/rotated_270_348.png: 640x480 1 V, 7.6ms\n",
      "image 366/571 /home/student/Desktop/current_model_ai/test/images/rotated_270_349.png: 640x480 1 V, 7.3ms\n",
      "image 367/571 /home/student/Desktop/current_model_ai/test/images/rotated_270_350.png: 640x480 1 V, 7.6ms\n",
      "image 368/571 /home/student/Desktop/current_model_ai/test/images/rotated_270_353.png: 640x480 2 Vs, 7.3ms\n",
      "image 369/571 /home/student/Desktop/current_model_ai/test/images/rotated_270_354.png: 640x480 2 Vs, 8.1ms\n",
      "image 370/571 /home/student/Desktop/current_model_ai/test/images/rotated_270_355.png: 640x480 1 V, 7.3ms\n",
      "image 371/571 /home/student/Desktop/current_model_ai/test/images/rotated_270_356.png: 640x480 1 V, 8.6ms\n",
      "image 372/571 /home/student/Desktop/current_model_ai/test/images/rotated_270_357.png: 640x480 1 V, 7.3ms\n",
      "image 373/571 /home/student/Desktop/current_model_ai/test/images/rotated_270_358.png: 640x480 1 V, 8.0ms\n",
      "image 374/571 /home/student/Desktop/current_model_ai/test/images/rotated_270_362.png: 640x480 1 V, 7.3ms\n",
      "image 375/571 /home/student/Desktop/current_model_ai/test/images/rotated_270_37.png: 640x480 4 Vs, 7.9ms\n",
      "image 376/571 /home/student/Desktop/current_model_ai/test/images/rotated_270_370.png: 640x480 3 Vs, 7.3ms\n",
      "image 377/571 /home/student/Desktop/current_model_ai/test/images/rotated_270_371.png: 640x480 3 Vs, 7.4ms\n",
      "image 378/571 /home/student/Desktop/current_model_ai/test/images/rotated_270_372.png: 640x480 1 V, 7.7ms\n",
      "image 379/571 /home/student/Desktop/current_model_ai/test/images/rotated_270_383.png: 640x480 (no detections), 7.6ms\n",
      "image 380/571 /home/student/Desktop/current_model_ai/test/images/rotated_270_384.png: 640x480 1 V, 8.1ms\n",
      "image 381/571 /home/student/Desktop/current_model_ai/test/images/rotated_270_385.png: 640x480 1 V, 8.2ms\n",
      "image 382/571 /home/student/Desktop/current_model_ai/test/images/rotated_270_386.png: 640x480 1 V, 8.8ms\n",
      "image 383/571 /home/student/Desktop/current_model_ai/test/images/rotated_270_396.png: 640x480 2 Vs, 8.4ms\n",
      "image 384/571 /home/student/Desktop/current_model_ai/test/images/rotated_270_398.png: 640x480 2 Vs, 7.8ms\n",
      "image 385/571 /home/student/Desktop/current_model_ai/test/images/rotated_270_399.png: 640x480 2 Vs, 7.4ms\n",
      "image 386/571 /home/student/Desktop/current_model_ai/test/images/rotated_270_4.png: 640x480 (no detections), 7.3ms\n",
      "image 387/571 /home/student/Desktop/current_model_ai/test/images/rotated_270_40.png: 640x480 2 Vs, 7.4ms\n",
      "image 388/571 /home/student/Desktop/current_model_ai/test/images/rotated_270_400.png: 640x480 2 Vs, 7.4ms\n",
      "image 389/571 /home/student/Desktop/current_model_ai/test/images/rotated_270_406.png: 640x480 3 Vs, 8.1ms\n",
      "image 390/571 /home/student/Desktop/current_model_ai/test/images/rotated_270_408.png: 640x480 2 Vs, 7.3ms\n",
      "image 391/571 /home/student/Desktop/current_model_ai/test/images/rotated_270_409.png: 640x480 2 Vs, 8.0ms\n",
      "image 392/571 /home/student/Desktop/current_model_ai/test/images/rotated_270_41.png: 640x480 2 Vs, 7.3ms\n",
      "image 393/571 /home/student/Desktop/current_model_ai/test/images/rotated_270_410.png: 640x480 2 Vs, 8.3ms\n",
      "image 394/571 /home/student/Desktop/current_model_ai/test/images/rotated_270_412.png: 640x480 3 Vs, 7.6ms\n",
      "image 395/571 /home/student/Desktop/current_model_ai/test/images/rotated_270_414.png: 640x480 3 Vs, 7.8ms\n",
      "image 396/571 /home/student/Desktop/current_model_ai/test/images/rotated_270_415.png: 640x480 2 Vs, 8.4ms\n",
      "image 397/571 /home/student/Desktop/current_model_ai/test/images/rotated_270_42.png: 640x480 1 V, 8.4ms\n",
      "image 398/571 /home/student/Desktop/current_model_ai/test/images/rotated_270_420.png: 640x480 2 Vs, 8.9ms\n",
      "image 399/571 /home/student/Desktop/current_model_ai/test/images/rotated_270_421.png: 640x480 2 Vs, 7.3ms\n",
      "image 400/571 /home/student/Desktop/current_model_ai/test/images/rotated_270_422.png: 640x480 2 Vs, 8.4ms\n",
      "image 401/571 /home/student/Desktop/current_model_ai/test/images/rotated_270_43.png: 640x480 1 V, 7.6ms\n",
      "image 402/571 /home/student/Desktop/current_model_ai/test/images/rotated_270_45.png: 640x480 2 Vs, 7.4ms\n",
      "image 403/571 /home/student/Desktop/current_model_ai/test/images/rotated_270_49.png: 640x480 1 V, 7.4ms\n",
      "image 404/571 /home/student/Desktop/current_model_ai/test/images/rotated_270_5.png: 640x480 1 V, 7.3ms\n",
      "image 405/571 /home/student/Desktop/current_model_ai/test/images/rotated_270_56.png: 640x480 2 Vs, 8.2ms\n",
      "image 406/571 /home/student/Desktop/current_model_ai/test/images/rotated_270_58.png: 640x480 1 V, 8.2ms\n",
      "image 407/571 /home/student/Desktop/current_model_ai/test/images/rotated_270_59.png: 640x480 1 V, 8.6ms\n",
      "image 408/571 /home/student/Desktop/current_model_ai/test/images/rotated_270_63.png: 640x480 1 V, 7.4ms\n",
      "image 409/571 /home/student/Desktop/current_model_ai/test/images/rotated_270_65.png: 640x480 1 V, 7.4ms\n",
      "image 410/571 /home/student/Desktop/current_model_ai/test/images/rotated_270_66.png: 640x480 1 V, 8.0ms\n",
      "image 411/571 /home/student/Desktop/current_model_ai/test/images/rotated_270_67.png: 640x480 3 Vs, 7.5ms\n",
      "image 412/571 /home/student/Desktop/current_model_ai/test/images/rotated_270_68.png: 640x480 1 V, 7.9ms\n",
      "image 413/571 /home/student/Desktop/current_model_ai/test/images/rotated_270_69.png: 640x480 1 V, 7.6ms\n",
      "image 414/571 /home/student/Desktop/current_model_ai/test/images/rotated_270_70.png: 640x480 1 V, 7.6ms\n",
      "image 415/571 /home/student/Desktop/current_model_ai/test/images/rotated_270_71.png: 640x480 1 V, 8.2ms\n",
      "image 416/571 /home/student/Desktop/current_model_ai/test/images/rotated_270_74.png: 640x480 1 V, 8.5ms\n",
      "image 417/571 /home/student/Desktop/current_model_ai/test/images/rotated_270_75.png: 640x480 1 V, 8.6ms\n",
      "image 418/571 /home/student/Desktop/current_model_ai/test/images/rotated_270_76.png: 640x480 2 Vs, 7.4ms\n",
      "image 419/571 /home/student/Desktop/current_model_ai/test/images/rotated_270_83.png: 640x480 1 V, 7.7ms\n",
      "image 420/571 /home/student/Desktop/current_model_ai/test/images/rotated_270_85.png: 640x480 1 V, 7.4ms\n",
      "image 421/571 /home/student/Desktop/current_model_ai/test/images/rotated_270_86.png: 640x480 1 V, 7.4ms\n",
      "image 422/571 /home/student/Desktop/current_model_ai/test/images/rotated_270_87.png: 640x480 2 Vs, 7.9ms\n",
      "image 423/571 /home/student/Desktop/current_model_ai/test/images/rotated_270_88.png: 640x480 1 V, 8.2ms\n",
      "image 424/571 /home/student/Desktop/current_model_ai/test/images/rotated_270_89.png: 640x480 (no detections), 8.8ms\n",
      "image 425/571 /home/student/Desktop/current_model_ai/test/images/rotated_270_90.png: 640x480 1 V, 8.5ms\n",
      "image 426/571 /home/student/Desktop/current_model_ai/test/images/rotated_270_95.png: 640x480 1 V, 9.0ms\n",
      "image 427/571 /home/student/Desktop/current_model_ai/test/images/rotated_270_97.png: 640x480 1 V, 7.7ms\n",
      "image 428/571 /home/student/Desktop/current_model_ai/test/images/rotated_270_99.png: 640x480 1 V, 7.4ms\n",
      "image 429/571 /home/student/Desktop/current_model_ai/test/images/rotated_90_105.png: 640x480 1 V, 7.4ms\n",
      "image 430/571 /home/student/Desktop/current_model_ai/test/images/rotated_90_106.png: 640x480 1 V, 7.4ms\n",
      "image 431/571 /home/student/Desktop/current_model_ai/test/images/rotated_90_109.png: 640x480 1 V, 7.6ms\n",
      "image 432/571 /home/student/Desktop/current_model_ai/test/images/rotated_90_11.png: 640x480 1 V, 7.4ms\n",
      "image 433/571 /home/student/Desktop/current_model_ai/test/images/rotated_90_110.png: 640x480 2 Vs, 8.3ms\n",
      "image 434/571 /home/student/Desktop/current_model_ai/test/images/rotated_90_113.png: 640x480 1 V, 7.3ms\n",
      "image 435/571 /home/student/Desktop/current_model_ai/test/images/rotated_90_114.png: 640x480 1 V, 8.2ms\n",
      "image 436/571 /home/student/Desktop/current_model_ai/test/images/rotated_90_118.png: 640x480 1 V, 7.6ms\n",
      "image 437/571 /home/student/Desktop/current_model_ai/test/images/rotated_90_12.png: 640x480 2 Vs, 8.1ms\n",
      "image 438/571 /home/student/Desktop/current_model_ai/test/images/rotated_90_120.png: 640x480 2 Vs, 8.5ms\n",
      "image 439/571 /home/student/Desktop/current_model_ai/test/images/rotated_90_125.png: 640x480 1 V, 8.3ms\n",
      "image 440/571 /home/student/Desktop/current_model_ai/test/images/rotated_90_127.png: 640x480 3 Vs, 8.4ms\n",
      "image 441/571 /home/student/Desktop/current_model_ai/test/images/rotated_90_129.png: 640x480 3 Vs, 7.8ms\n",
      "image 442/571 /home/student/Desktop/current_model_ai/test/images/rotated_90_13.png: 640x480 1 V, 7.6ms\n",
      "image 443/571 /home/student/Desktop/current_model_ai/test/images/rotated_90_132.png: 640x480 1 V, 7.3ms\n",
      "image 444/571 /home/student/Desktop/current_model_ai/test/images/rotated_90_137.png: 640x480 1 V, 7.5ms\n",
      "image 445/571 /home/student/Desktop/current_model_ai/test/images/rotated_90_139.png: 640x480 1 V, 7.4ms\n",
      "image 446/571 /home/student/Desktop/current_model_ai/test/images/rotated_90_140.png: 640x480 (no detections), 7.4ms\n",
      "image 447/571 /home/student/Desktop/current_model_ai/test/images/rotated_90_153.png: 640x480 1 V, 7.6ms\n",
      "image 448/571 /home/student/Desktop/current_model_ai/test/images/rotated_90_155.png: 640x480 2 Vs, 7.3ms\n",
      "image 449/571 /home/student/Desktop/current_model_ai/test/images/rotated_90_157.png: 640x480 1 V, 7.6ms\n",
      "image 450/571 /home/student/Desktop/current_model_ai/test/images/rotated_90_159.png: 640x480 2 Vs, 7.5ms\n",
      "image 451/571 /home/student/Desktop/current_model_ai/test/images/rotated_90_161.png: 640x480 2 Vs, 8.4ms\n",
      "image 452/571 /home/student/Desktop/current_model_ai/test/images/rotated_90_167.png: 640x480 2 Vs, 7.6ms\n",
      "image 453/571 /home/student/Desktop/current_model_ai/test/images/rotated_90_169.png: 640x480 3 Vs, 8.7ms\n",
      "image 454/571 /home/student/Desktop/current_model_ai/test/images/rotated_90_174.png: 640x480 2 Vs, 8.3ms\n",
      "image 455/571 /home/student/Desktop/current_model_ai/test/images/rotated_90_176.png: 640x480 1 V, 8.5ms\n",
      "image 456/571 /home/student/Desktop/current_model_ai/test/images/rotated_90_180.png: 640x480 1 V, 8.1ms\n",
      "image 457/571 /home/student/Desktop/current_model_ai/test/images/rotated_90_181.png: 640x480 2 Vs, 7.4ms\n",
      "image 458/571 /home/student/Desktop/current_model_ai/test/images/rotated_90_185.png: 640x480 2 Vs, 8.3ms\n",
      "image 459/571 /home/student/Desktop/current_model_ai/test/images/rotated_90_186.png: 640x480 2 Vs, 7.3ms\n",
      "image 460/571 /home/student/Desktop/current_model_ai/test/images/rotated_90_189.png: 640x480 1 V, 8.0ms\n",
      "image 461/571 /home/student/Desktop/current_model_ai/test/images/rotated_90_190.png: 640x480 1 V, 7.5ms\n",
      "image 462/571 /home/student/Desktop/current_model_ai/test/images/rotated_90_194.png: 640x480 1 V, 7.3ms\n",
      "image 463/571 /home/student/Desktop/current_model_ai/test/images/rotated_90_2.png: 640x480 1 V, 7.3ms\n",
      "image 464/571 /home/student/Desktop/current_model_ai/test/images/rotated_90_207.png: 640x480 1 V, 7.6ms\n",
      "image 465/571 /home/student/Desktop/current_model_ai/test/images/rotated_90_208.png: 640x480 3 Vs, 8.0ms\n",
      "image 466/571 /home/student/Desktop/current_model_ai/test/images/rotated_90_209.png: 640x480 1 V, 8.5ms\n",
      "image 467/571 /home/student/Desktop/current_model_ai/test/images/rotated_90_21.png: 640x480 2 Vs, 8.8ms\n",
      "image 468/571 /home/student/Desktop/current_model_ai/test/images/rotated_90_210.png: 640x480 1 V, 7.3ms\n",
      "image 469/571 /home/student/Desktop/current_model_ai/test/images/rotated_90_212.png: 640x480 1 V, 7.3ms\n",
      "image 470/571 /home/student/Desktop/current_model_ai/test/images/rotated_90_216.png: 640x480 1 V, 7.3ms\n",
      "image 471/571 /home/student/Desktop/current_model_ai/test/images/rotated_90_217.png: 640x480 2 Vs, 7.4ms\n",
      "image 472/571 /home/student/Desktop/current_model_ai/test/images/rotated_90_218.png: 640x480 1 V, 8.0ms\n",
      "image 473/571 /home/student/Desktop/current_model_ai/test/images/rotated_90_219.png: 640x480 1 V, 7.6ms\n",
      "image 474/571 /home/student/Desktop/current_model_ai/test/images/rotated_90_231.png: 640x480 1 V, 8.4ms\n",
      "image 475/571 /home/student/Desktop/current_model_ai/test/images/rotated_90_235.png: 640x480 1 V, 8.3ms\n",
      "image 476/571 /home/student/Desktop/current_model_ai/test/images/rotated_90_237.png: 640x480 1 V, 8.3ms\n",
      "image 477/571 /home/student/Desktop/current_model_ai/test/images/rotated_90_242.png: 640x480 1 V, 8.5ms\n",
      "image 478/571 /home/student/Desktop/current_model_ai/test/images/rotated_90_244.png: 640x480 1 V, 7.8ms\n",
      "image 479/571 /home/student/Desktop/current_model_ai/test/images/rotated_90_245.png: 640x480 (no detections), 8.3ms\n",
      "image 480/571 /home/student/Desktop/current_model_ai/test/images/rotated_90_246.png: 640x480 1 V, 7.9ms\n",
      "image 481/571 /home/student/Desktop/current_model_ai/test/images/rotated_90_248.png: 640x480 1 V, 8.5ms\n",
      "image 482/571 /home/student/Desktop/current_model_ai/test/images/rotated_90_25.png: 640x480 2 Vs, 7.4ms\n",
      "image 483/571 /home/student/Desktop/current_model_ai/test/images/rotated_90_253.png: 640x480 2 Vs, 8.5ms\n",
      "image 484/571 /home/student/Desktop/current_model_ai/test/images/rotated_90_254.png: 640x480 1 V, 7.3ms\n",
      "image 485/571 /home/student/Desktop/current_model_ai/test/images/rotated_90_256.png: 640x480 1 V, 8.1ms\n",
      "image 486/571 /home/student/Desktop/current_model_ai/test/images/rotated_90_257.png: 640x480 1 V, 7.3ms\n",
      "image 487/571 /home/student/Desktop/current_model_ai/test/images/rotated_90_259.png: 640x480 1 V, 8.2ms\n",
      "image 488/571 /home/student/Desktop/current_model_ai/test/images/rotated_90_26.png: 640x480 2 Vs, 7.3ms\n",
      "image 489/571 /home/student/Desktop/current_model_ai/test/images/rotated_90_261.png: 640x480 2 Vs, 7.3ms\n",
      "image 490/571 /home/student/Desktop/current_model_ai/test/images/rotated_90_266.png: 640x480 1 V, 7.4ms\n",
      "image 491/571 /home/student/Desktop/current_model_ai/test/images/rotated_90_268.png: 640x480 2 Vs, 7.3ms\n",
      "image 492/571 /home/student/Desktop/current_model_ai/test/images/rotated_90_272.png: 640x480 1 V, 7.3ms\n",
      "image 493/571 /home/student/Desktop/current_model_ai/test/images/rotated_90_277.png: 640x480 1 V, 7.4ms\n",
      "image 494/571 /home/student/Desktop/current_model_ai/test/images/rotated_90_281.png: 640x480 1 V, 7.6ms\n",
      "image 495/571 /home/student/Desktop/current_model_ai/test/images/rotated_90_283.png: 640x480 (no detections), 7.5ms\n",
      "image 496/571 /home/student/Desktop/current_model_ai/test/images/rotated_90_285.png: 640x480 2 Vs, 7.9ms\n",
      "image 497/571 /home/student/Desktop/current_model_ai/test/images/rotated_90_290.png: 640x480 2 Vs, 7.6ms\n",
      "image 498/571 /home/student/Desktop/current_model_ai/test/images/rotated_90_299.png: 640x480 2 Vs, 8.5ms\n",
      "image 499/571 /home/student/Desktop/current_model_ai/test/images/rotated_90_3.png: 640x480 1 V, 7.7ms\n",
      "image 500/571 /home/student/Desktop/current_model_ai/test/images/rotated_90_301.png: 640x480 1 V, 7.4ms\n",
      "image 501/571 /home/student/Desktop/current_model_ai/test/images/rotated_90_302.png: 640x480 2 Vs, 8.4ms\n",
      "image 502/571 /home/student/Desktop/current_model_ai/test/images/rotated_90_303.png: 640x480 1 V, 7.3ms\n",
      "image 503/571 /home/student/Desktop/current_model_ai/test/images/rotated_90_304.png: 640x480 1 V, 7.7ms\n",
      "image 504/571 /home/student/Desktop/current_model_ai/test/images/rotated_90_305.png: 640x480 1 V, 7.6ms\n",
      "image 505/571 /home/student/Desktop/current_model_ai/test/images/rotated_90_306.png: 640x480 1 V, 8.3ms\n",
      "image 506/571 /home/student/Desktop/current_model_ai/test/images/rotated_90_307.png: 640x480 1 V, 9.1ms\n",
      "image 507/571 /home/student/Desktop/current_model_ai/test/images/rotated_90_31.png: 640x480 2 Vs, 7.7ms\n",
      "image 508/571 /home/student/Desktop/current_model_ai/test/images/rotated_90_312.png: 640x480 1 V, 8.2ms\n",
      "image 509/571 /home/student/Desktop/current_model_ai/test/images/rotated_90_313.png: 640x480 3 Vs, 7.4ms\n",
      "image 510/571 /home/student/Desktop/current_model_ai/test/images/rotated_90_316.png: 640x480 1 V, 7.4ms\n",
      "image 511/571 /home/student/Desktop/current_model_ai/test/images/rotated_90_318.png: 640x480 1 V, 8.4ms\n",
      "image 512/571 /home/student/Desktop/current_model_ai/test/images/rotated_90_331.png: 640x480 1 V, 8.4ms\n",
      "image 513/571 /home/student/Desktop/current_model_ai/test/images/rotated_90_333.png: 640x480 (no detections), 8.8ms\n",
      "image 514/571 /home/student/Desktop/current_model_ai/test/images/rotated_90_334.png: 640x480 (no detections), 8.5ms\n",
      "image 515/571 /home/student/Desktop/current_model_ai/test/images/rotated_90_346.png: 640x480 1 V, 8.8ms\n",
      "image 516/571 /home/student/Desktop/current_model_ai/test/images/rotated_90_348.png: 640x480 1 V, 8.2ms\n",
      "image 517/571 /home/student/Desktop/current_model_ai/test/images/rotated_90_349.png: 640x480 1 V, 7.9ms\n",
      "image 518/571 /home/student/Desktop/current_model_ai/test/images/rotated_90_35.png: 640x480 1 V, 7.6ms\n",
      "image 519/571 /home/student/Desktop/current_model_ai/test/images/rotated_90_351.png: 640x480 1 V, 7.3ms\n",
      "image 520/571 /home/student/Desktop/current_model_ai/test/images/rotated_90_353.png: 640x480 2 Vs, 8.0ms\n",
      "image 521/571 /home/student/Desktop/current_model_ai/test/images/rotated_90_355.png: 640x480 1 V, 7.4ms\n",
      "image 522/571 /home/student/Desktop/current_model_ai/test/images/rotated_90_356.png: 640x480 1 V, 8.5ms\n",
      "image 523/571 /home/student/Desktop/current_model_ai/test/images/rotated_90_36.png: 640x480 2 Vs, 7.4ms\n",
      "image 524/571 /home/student/Desktop/current_model_ai/test/images/rotated_90_361.png: 640x480 1 V, 8.3ms\n",
      "image 525/571 /home/student/Desktop/current_model_ai/test/images/rotated_90_362.png: 640x480 1 V, 7.3ms\n",
      "image 526/571 /home/student/Desktop/current_model_ai/test/images/rotated_90_368.png: 640x480 3 Vs, 7.6ms\n",
      "image 527/571 /home/student/Desktop/current_model_ai/test/images/rotated_90_369.png: 640x480 2 Vs, 7.6ms\n",
      "image 528/571 /home/student/Desktop/current_model_ai/test/images/rotated_90_370.png: 640x480 3 Vs, 8.3ms\n",
      "image 529/571 /home/student/Desktop/current_model_ai/test/images/rotated_90_372.png: 640x480 1 V, 8.7ms\n",
      "image 530/571 /home/student/Desktop/current_model_ai/test/images/rotated_90_380.png: 640x480 1 V, 8.5ms\n",
      "image 531/571 /home/student/Desktop/current_model_ai/test/images/rotated_90_381.png: 640x480 (no detections), 8.3ms\n",
      "image 532/571 /home/student/Desktop/current_model_ai/test/images/rotated_90_382.png: 640x480 (no detections), 8.0ms\n",
      "image 533/571 /home/student/Desktop/current_model_ai/test/images/rotated_90_384.png: 640x480 1 V, 8.6ms\n",
      "image 534/571 /home/student/Desktop/current_model_ai/test/images/rotated_90_385.png: 640x480 1 V, 7.3ms\n",
      "image 535/571 /home/student/Desktop/current_model_ai/test/images/rotated_90_392.png: 640x480 (no detections), 7.3ms\n",
      "image 536/571 /home/student/Desktop/current_model_ai/test/images/rotated_90_394.png: 640x480 2 Vs, 7.9ms\n",
      "image 537/571 /home/student/Desktop/current_model_ai/test/images/rotated_90_395.png: 640x480 2 Vs, 7.8ms\n",
      "image 538/571 /home/student/Desktop/current_model_ai/test/images/rotated_90_399.png: 640x480 1 V, 7.9ms\n",
      "image 539/571 /home/student/Desktop/current_model_ai/test/images/rotated_90_4.png: 640x480 (no detections), 7.3ms\n",
      "image 540/571 /home/student/Desktop/current_model_ai/test/images/rotated_90_40.png: 640x480 2 Vs, 7.3ms\n",
      "image 541/571 /home/student/Desktop/current_model_ai/test/images/rotated_90_401.png: 640x480 2 Vs, 7.6ms\n",
      "image 542/571 /home/student/Desktop/current_model_ai/test/images/rotated_90_403.png: 640x480 2 Vs, 7.6ms\n",
      "image 543/571 /home/student/Desktop/current_model_ai/test/images/rotated_90_404.png: 640x480 1 V, 7.3ms\n",
      "image 544/571 /home/student/Desktop/current_model_ai/test/images/rotated_90_405.png: 640x480 2 Vs, 8.3ms\n",
      "image 545/571 /home/student/Desktop/current_model_ai/test/images/rotated_90_411.png: 640x480 2 Vs, 7.5ms\n",
      "image 546/571 /home/student/Desktop/current_model_ai/test/images/rotated_90_413.png: 640x480 4 Vs, 7.9ms\n",
      "image 547/571 /home/student/Desktop/current_model_ai/test/images/rotated_90_421.png: 640x480 1 V, 7.3ms\n",
      "image 548/571 /home/student/Desktop/current_model_ai/test/images/rotated_90_47.png: 640x480 2 Vs, 7.8ms\n",
      "image 549/571 /home/student/Desktop/current_model_ai/test/images/rotated_90_5.png: 640x480 1 V, 7.3ms\n",
      "image 550/571 /home/student/Desktop/current_model_ai/test/images/rotated_90_50.png: 640x480 (no detections), 7.6ms\n",
      "image 551/571 /home/student/Desktop/current_model_ai/test/images/rotated_90_51.png: 640x480 2 Vs, 8.5ms\n",
      "image 552/571 /home/student/Desktop/current_model_ai/test/images/rotated_90_53.png: 640x480 1 V, 7.9ms\n",
      "image 553/571 /home/student/Desktop/current_model_ai/test/images/rotated_90_55.png: 640x480 2 Vs, 8.1ms\n",
      "image 554/571 /home/student/Desktop/current_model_ai/test/images/rotated_90_6.png: 640x480 1 V, 7.3ms\n",
      "image 555/571 /home/student/Desktop/current_model_ai/test/images/rotated_90_61.png: 640x480 1 V, 7.3ms\n",
      "image 556/571 /home/student/Desktop/current_model_ai/test/images/rotated_90_62.png: 640x480 1 V, 7.5ms\n",
      "image 557/571 /home/student/Desktop/current_model_ai/test/images/rotated_90_63.png: 640x480 1 V, 7.3ms\n",
      "image 558/571 /home/student/Desktop/current_model_ai/test/images/rotated_90_66.png: 640x480 1 V, 7.9ms\n",
      "image 559/571 /home/student/Desktop/current_model_ai/test/images/rotated_90_7.png: 640x480 1 V, 7.6ms\n",
      "image 560/571 /home/student/Desktop/current_model_ai/test/images/rotated_90_71.png: 640x480 (no detections), 8.7ms\n",
      "image 561/571 /home/student/Desktop/current_model_ai/test/images/rotated_90_72.png: 640x480 1 V, 8.4ms\n",
      "image 562/571 /home/student/Desktop/current_model_ai/test/images/rotated_90_73.png: 640x480 2 Vs, 8.6ms\n",
      "image 563/571 /home/student/Desktop/current_model_ai/test/images/rotated_90_77.png: 640x480 2 Vs, 7.6ms\n",
      "image 564/571 /home/student/Desktop/current_model_ai/test/images/rotated_90_8.png: 640x480 1 V, 7.4ms\n",
      "image 565/571 /home/student/Desktop/current_model_ai/test/images/rotated_90_81.png: 640x480 1 V, 8.1ms\n",
      "image 566/571 /home/student/Desktop/current_model_ai/test/images/rotated_90_82.png: 640x480 1 V, 7.3ms\n",
      "image 567/571 /home/student/Desktop/current_model_ai/test/images/rotated_90_85.png: 640x480 1 V, 8.0ms\n",
      "image 568/571 /home/student/Desktop/current_model_ai/test/images/rotated_90_86.png: 640x480 1 V, 7.3ms\n",
      "image 569/571 /home/student/Desktop/current_model_ai/test/images/rotated_90_88.png: 640x480 1 V, 7.6ms\n",
      "image 570/571 /home/student/Desktop/current_model_ai/test/images/rotated_90_9.png: 640x480 1 V, 7.5ms\n",
      "image 571/571 /home/student/Desktop/current_model_ai/test/images/rotated_90_99.png: 640x480 1 V, 8.1ms\n",
      "Speed: 0.9ms preprocess, 8.0ms inference, 0.9ms postprocess per image at shape (1, 3, 640, 480)\n",
      "Results saved to \u001b[1m/home/student/Desktop/current_model_ai/runs/predict\u001b[0m\n",
      "517 labels saved to /home/student/Desktop/current_model_ai/runs/predict/labels\n"
     ]
    }
   ],
   "source": [
    "# Define the path to the prediction output folder\n",
    "predict_folder = \"/home/student/Desktop/current_model_ai/runs/predict\"\n",
    "\n",
    "# Remove the folder if it exists\n",
    "if os.path.exists(predict_folder):\n",
    "    shutil.rmtree(predict_folder)\n",
    "\n",
    "# Load the model\n",
    "model = YOLO('/home/student/Desktop/current_model_ai/folder_train/folds_retrain/weights/best.pt')\n",
    "\n",
    "# Run predictions\n",
    "results = model.predict(\n",
    "    source='/home/student/Desktop/current_model_ai/test/images',\n",
    "    conf=0.3,\n",
    "    save=True,\n",
    "    save_txt=True,\n",
    "    project='/home/student/Desktop/current_model_ai/runs',\n",
    "    name='predict',\n",
    "    save_conf=True  # Save confidence values in the txt output\n",
    ")"
   ]
  },
  {
   "cell_type": "code",
   "execution_count": 14,
   "id": "1a4e5cf6",
   "metadata": {},
   "outputs": [
    {
     "name": "stdout",
     "output_type": "stream",
     "text": [
      "✅ Done! Visualized only center dots and bounding boxes. Pink dots removed.\n"
     ]
    }
   ],
   "source": [
    "\n",
    "# --- CONFIG ---\n",
    "image_dir = \"/home/student/Desktop/current_model_ai/test/images\"\n",
    "pred_label_dir = \"/home/student/Desktop/current_model_ai/runs/predict/labels\"\n",
    "output_dir = \"/home/student/Desktop/current_model_ai/folder_test_output/visualized_boxes\"\n",
    "\n",
    "os.makedirs(output_dir, exist_ok=True)\n",
    "\n",
    "image_paths = list(Path(image_dir).glob(\"*.jpg\")) + list(Path(image_dir).glob(\"*.png\"))\n",
    "\n",
    "for img_path in image_paths:\n",
    "    image = cv2.imread(str(img_path))\n",
    "    if image is None:\n",
    "        continue\n",
    "    height, width = image.shape[:2]\n",
    "\n",
    "    # Store boxes and their confidences\n",
    "    boxes = []\n",
    "\n",
    "    # === Read Predicted Labels ===\n",
    "    pred_file = Path(pred_label_dir) / (img_path.stem + \".txt\")\n",
    "    if pred_file.exists():\n",
    "        with open(pred_file, \"r\") as f:\n",
    "            for line in f:\n",
    "                cls, x, y, w, h, conf = map(float, line.strip().split())\n",
    "                x_pixel = int(x * width)\n",
    "                y_pixel = int(y * height)\n",
    "\n",
    "                # Calculate pixel width and height\n",
    "                box_width = int(w * width)\n",
    "                box_height = int(h * height)\n",
    "\n",
    "                half_w = box_width // 2\n",
    "                half_h = box_height // 2\n",
    "                top_left = (x_pixel - half_w, y_pixel - half_h)\n",
    "                bottom_right = (x_pixel + half_w, y_pixel + half_h)\n",
    "\n",
    "                # Add box to the list\n",
    "                boxes.append((cls, top_left, bottom_right, x_pixel, y_pixel, conf))\n",
    "\n",
    "    # Sort boxes by confidence (highest first)\n",
    "    boxes.sort(key=lambda x: x[5], reverse=True)\n",
    "\n",
    "    # Track non-overlapping boxes\n",
    "    drawn_boxes = []\n",
    "\n",
    "    for i, (cls, top_left, bottom_right, x_pixel, y_pixel, conf) in enumerate(boxes):\n",
    "        # Skip overlapping boxes\n",
    "        overlap = False\n",
    "        for _, ex_top_left, ex_bottom_right, _, _, _ in drawn_boxes:\n",
    "            if (top_left[0] < ex_bottom_right[0] and bottom_right[0] > ex_top_left[0] and\n",
    "                top_left[1] < ex_bottom_right[1] and bottom_right[1] > ex_top_left[1]):\n",
    "                overlap = True\n",
    "                break\n",
    "\n",
    "        if not overlap:\n",
    "            drawn_boxes.append((cls, top_left, bottom_right, x_pixel, y_pixel, conf))\n",
    "\n",
    "            center = (x_pixel, y_pixel)\n",
    "\n",
    "            # Draw the box\n",
    "            cv2.rectangle(image, top_left, bottom_right, (255, 0, 0), 2)\n",
    "\n",
    "            # Main dot: blue for top cls 0, red otherwise\n",
    "            is_blue_dot = i == 0 and cls == 0\n",
    "            dot_color = (255, 0, 0) if is_blue_dot else (0, 0, 255)\n",
    "            cv2.circle(image, center, radius=5, color=dot_color, thickness=-1)\n",
    "\n",
    "            # Show confidence text\n",
    "            cv2.putText(\n",
    "                image, f\"{conf:.2f}\",\n",
    "                (top_left[0], top_left[1] - 5),\n",
    "                cv2.FONT_HERSHEY_SIMPLEX,\n",
    "                0.5, (255, 255, 255), 1\n",
    "            )\n",
    "\n",
    "    # Save output image\n",
    "    out_path = Path(output_dir) / img_path.name\n",
    "    cv2.imwrite(str(out_path), image)\n",
    "\n",
    "print(\"✅ Done! Visualized only center dots and bounding boxes. Pink dots removed.\")\n"
   ]
  }
 ],
 "metadata": {
  "kernelspec": {
   "display_name": "Python 3",
   "language": "python",
   "name": "python3"
  },
  "language_info": {
   "codemirror_mode": {
    "name": "ipython",
    "version": 3
   },
   "file_extension": ".py",
   "mimetype": "text/x-python",
   "name": "python",
   "nbconvert_exporter": "python",
   "pygments_lexer": "ipython3",
   "version": "3.10.16"
  }
 },
 "nbformat": 4,
 "nbformat_minor": 5
}
